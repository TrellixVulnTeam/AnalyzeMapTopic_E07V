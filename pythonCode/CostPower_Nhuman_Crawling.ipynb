{
 "cells": [
  {
   "cell_type": "markdown",
   "metadata": {},
   "source": [
    "# costPower"
   ]
  },
  {
   "cell_type": "code",
   "execution_count": 51,
   "metadata": {},
   "outputs": [
    {
     "name": "stdout",
     "output_type": "stream",
     "text": [
      "['MRTinfo', 'Watsons', 'pxmart', 'busData', 'HRdata104', 'info3Store', 'wowprimediendata', 'info591', 'departmentStore', 'websites591', 'carrefour', 'taiwanInfo', 'smallStyleCount', 'addressCoordinate', 'Nhuman', 'taiwanInfoStoneTwo', 'ipeenWebsite', 'taiwanInfoHot7', 'bigStyleCount', 'ipeenInfo', 'conStore', 'testDB', 'CostPower', 'infoClinic']\n",
      "xxx\n"
     ]
    }
   ],
   "source": [
    "import requests\n",
    "import pymongo\n",
    "#/ods-main/ODS308E/download/691C0280-CEFB-488F-9E71-6AA4F39A41CD/8/1124193D-09F5-4711-AB9A-01848E3B88E4/8/?fileType=csv\n",
    "res=requests.get(\"https://sip.einvoice.nat.gov.tw/ods-main/ODS308E/download/691C0280-CEFB-488F-9E71-6AA4F39A41CD/8/1124193D-09F5-4711-AB9A-01848E3B88E4/8/?fileType=csv\")\n",
    "x=res.text\n",
    "keys=x.replace('\"',\"\").replace(\"\\u3000\",\"\").replace(\"\\U000fffb4\",\"\").replace(\"\\r\",\"\").split(\"\\n\")[0].split(\",\")\n",
    "values=[data.replace(\"\\u3000\",\"\")\n",
    "        .replace(\"\\U000fffb4\",\"\")\n",
    "        .replace(\"\\U000fb56f\",\"塭\")\n",
    "        .replace(\"\\r\",\"\")\n",
    "        .split(\",\") for data in x.replace('\"',\"\").split(\"\\n\")[1:]]\n",
    "datalist=[]\n",
    "for valueList in values:\n",
    "    data={}\n",
    "    for key,value in zip(keys,valueList):\n",
    "        data[key]=value\n",
    "    datalist.append(data)\n",
    "dataFinal=[]\n",
    "for i in datalist:\n",
    "    data={}\n",
    "    if i.get('主行業別',\"\")=='餐飲業' and i.get('年度',\"\")=='2017' and i.get(\"消費熱度計算來源\",\"\")==\"電子發票\":\n",
    "        data['add']=i['縣市']+i['鄉鎮市區']+i['村里']\n",
    "        data['bigadd']=i['縣市'].replace(\"臺\",\"台\")\n",
    "        data['smalladd']=i['鄉鎮市區']\n",
    "        data['costPower']=i['銷售額指標']\n",
    "        dataFinal.append(data)\n",
    "        \n",
    "client=pymongo.mongo_client.MongoClient(\"localhost\",27017,username='j122085',password='850605')\n",
    "# print(client.database_names())\n",
    "db=client.rawData\n",
    "print(db.collection_names())\n",
    "collection=db.addressCoordinate\n",
    "Coordinate={add['add']:{\"lat\":add['lat'],'lng':add['lng']} for add in list(collection.find({}))}\n",
    "client.close()\n",
    "\n",
    "for add in dataFinal:\n",
    "    try:\n",
    "        add['lat']=Coordinate[add['add']]['lat']\n",
    "        add['lng']=Coordinate[add['add']]['lng']\n",
    "        add[\"_id\"]=add.pop('add')\n",
    "    except:\n",
    "#         print(add['add'])\n",
    "        pass\n",
    "costPower=[add for add in dataFinal if 'lat' in add]\n",
    "client=pymongo.mongo_client.MongoClient(\"localhost\",27017,username='j122085',password='850605')\n",
    "db=client.rawData\n",
    "collection=db.CostPower\n",
    "try:\n",
    "    collection.drop()\n",
    "    collection.insert_many(costPower,ordered=False)\n",
    "except:\n",
    "    print(\"some data has same _id\")\n",
    "    \n",
    "print(\"xxx\")\n",
    "client.close()"
   ]
  },
  {
   "cell_type": "markdown",
   "metadata": {},
   "source": [
    "# humanDensity"
   ]
  },
  {
   "cell_type": "code",
   "execution_count": 23,
   "metadata": {
    "scrolled": true
   },
   "outputs": [
    {
     "name": "stdout",
     "output_type": "stream",
     "text": [
      "['MRTinfo', 'Watsons', 'pxmart', 'busData', 'HRdata104', 'info3Store', 'wowprimediendata', 'info591', 'departmentStore', 'websites591', 'carrefour', 'taiwanInfo', 'smallStyleCount', 'addressCoordinate', 'Nhuman', 'taiwanInfoStoneTwo', 'ipeenWebsite', 'taiwanInfoHot7', 'bigStyleCount', 'ipeenInfo', 'conStore', 'testDB', 'CostPower', 'infoClinic']\n"
     ]
    }
   ],
   "source": [
    "import requests\n",
    "import json\n",
    "import pymongo\n",
    "import re\n",
    "# res=requests.get(\"https://quality.data.gov.tw/dq_download_json.php?nid=32973&md5_url=52629fae1f1fed4ef81fcf706878dd80\")\n",
    "# x=json.loads(res.text)\n",
    "\n",
    "res=requests.get(\"http://data.moi.gov.tw/MoiOD/System/DownloadFile.aspx?DATA=4C79B290-D72F-4DC9-A919-9023F141E32C\")\n",
    "datas=res.text.split(\"\\r\\n\")\n",
    "titles=datas[0].split(\",\")\n",
    "x=[{title:value for title,value in zip(titles,data.split(\",\"))} for data in datas[2:]]\n",
    "\n",
    "data=[{\"add\":add['site_id'].replace(\"　\",\"\").replace(\"\\U000fffb5\",\"五\")+add['village'].replace(\" \",\"\").replace(\"\\U000fffb5\",\"五\").replace(\"?\",\"館\"),\n",
    "       'Nhuman':add['people_total']}for add in x[1:] if \"site_id\" in add]\n",
    "for i in data:\n",
    "    try:\n",
    "        i[\"bigadd\"]=re.findall(\"(..[市|縣])(\\w\\w?\\w?[區|市|鎮|鄉])\",\n",
    "                               i[\"add\"])[0][0].replace(\"臺\",\"台\")\n",
    "    except:\n",
    "        i['bigadd']=0\n",
    "    try:\n",
    "        i[\"smalladd\"]=re.findall(\"(..[市|縣])(\\w\\w?\\w?[區|市|鎮|鄉])\",\n",
    "                           i[\"add\"])[0][1]\n",
    "    except:\n",
    "        i[\"smalladd\"]=0\n",
    "\n",
    "\n",
    "        \n",
    "client=pymongo.mongo_client.MongoClient(\"localhost\",27017,username='j122085',password='850605')\n",
    "# print(client.database_names())\n",
    "db=client.rawData\n",
    "print(db.collection_names())\n",
    "collection=db.addressCoordinate\n",
    "Coordinate={add['add']:{\"lat\":add['lat'],'lng':add['lng']} for add in list(collection.find({}))}\n",
    "client.close()\n",
    "\n",
    "for add in data:\n",
    "    try:\n",
    "        add['lat']=Coordinate[add['add']]['lat']\n",
    "        add['lng']=Coordinate[add['add']]['lng']\n",
    "        add[\"_id\"]=add.pop('add')\n",
    "    except:\n",
    "#         print(add['add'])\n",
    "        pass\n",
    "Nhuman=[add for add in data if 'lat' in add]\n",
    "client=pymongo.mongo_client.MongoClient(\"localhost\",27017,username='j122085',password='850605')\n",
    "db=client.rawData\n",
    "collection=db.Nhuman\n",
    "try:\n",
    "    collection.drop()\n",
    "    collection.insert_many(Nhuman,ordered=False)\n",
    "except:\n",
    "    print(\"some data has same _id\")\n",
    "client.close()"
   ]
  },
  {
   "cell_type": "markdown",
   "metadata": {},
   "source": [
    "# 轉換區里成經緯度"
   ]
  },
  {
   "cell_type": "code",
   "execution_count": null,
   "metadata": {
    "scrolled": true
   },
   "outputs": [],
   "source": [
    "import requests\n",
    "import geocoder\n",
    "import time\n",
    "\n",
    "res=requests.get(\"http://data.moi.gov.tw/MoiOD/System/DownloadFile.aspx?DATA=4C79B290-D72F-4DC9-A919-9023F141E32C\")\n",
    "datas=res.text.split(\"\\r\\n\")\n",
    "titles=datas[0].split(\",\")\n",
    "x=[{title:value for title,value in zip(titles,data.split(\",\"))} for data in datas[2:]]\n",
    "\n",
    "data=[{\"add\":add['site_id'].replace(\"　\",\"\").replace(\"\\U000fffb5\",\"五\")+add['village'].replace(\" \",\"\").replace(\"\\U000fffb5\",\"五\").replace(\"?\",\"館\"),\n",
    "       'Nhuman':add['people_total']}for add in x[1:] if \"site_id\" in add]\n",
    "addlist=[{\"add\":i['add']} for i in data]\n",
    "\n",
    "\n",
    "for i in addlist:\n",
    "    n=0\n",
    "    while 'lat' not in i:\n",
    "        try:\n",
    "            n+=1\n",
    "            if n>10:\n",
    "                break\n",
    "            i['lat'],i['lng']=geocoder.arcgis(i['add']).latlng\n",
    "            time.sleep(0.5)\n",
    "            print(i['add'],i['lat'],i['lng'])\n",
    "        except:\n",
    "            time.sleep(0.3)\n",
    "        \n",
    "\n",
    "\n",
    "        "
   ]
  },
  {
   "cell_type": "code",
   "execution_count": null,
   "metadata": {
    "scrolled": true
   },
   "outputs": [],
   "source": [
    "import pymongo\n",
    "client=pymongo.mongo_client.MongoClient(\"192.168.1.113\",27017,username='j122085',password='850605')\n",
    "# print(client.database_names())\n",
    "db=client.rawData\n",
    "print(db.collection_names())\n",
    "collection=db.addressCoordinate\n",
    "\n",
    "from pymongo import UpdateOne\n",
    "adds=[i.pop(\"add\") for i in  addlist]\n",
    "operations=[UpdateOne({\"add\":addn},{\"$set\":data},upsert=True) for addn,data in zip(adds,addlist)]\n",
    "try:\n",
    "    collection.bulk_write(operations,ordered=False)\n",
    "except:\n",
    "    print(\"someData has exit\")"
   ]
  }
 ],
 "metadata": {
  "kernelspec": {
   "display_name": "Python 3",
   "language": "python",
   "name": "python3"
  },
  "language_info": {
   "codemirror_mode": {
    "name": "ipython",
    "version": 3
   },
   "file_extension": ".py",
   "mimetype": "text/x-python",
   "name": "python",
   "nbconvert_exporter": "python",
   "pygments_lexer": "ipython3",
   "version": "3.6.4"
  }
 },
 "nbformat": 4,
 "nbformat_minor": 2
}
