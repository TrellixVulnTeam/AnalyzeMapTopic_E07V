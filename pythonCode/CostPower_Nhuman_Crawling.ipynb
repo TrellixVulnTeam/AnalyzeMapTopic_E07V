{
 "cells": [
  {
   "cell_type": "markdown",
   "metadata": {},
   "source": [
    "# costPower"
   ]
  },
  {
   "cell_type": "code",
   "execution_count": 6,
   "metadata": {},
   "outputs": [
    {
     "name": "stdout",
     "output_type": "stream",
     "text": [
      "['ipeenWebsite', 'bigStyleCount', 'ipeenInfo', 'smallStyleCount', 'addressCoordinate', 'HRdata104', 'CostPower', 'Nhuman']\n"
     ]
    }
   ],
   "source": [
    "import requests\n",
    "import pymongo\n",
    "res=requests.get(\"https://sip.einvoice.nat.gov.tw/ods-main/ODS308E/download/691C0280-CEFB-488F-9E71-6AA4F39A41CD/8/1124193D-09F5-4711-AB9A-01848E3B88E4/8/?fileType=csv\")\n",
    "x=res.text\n",
    "keys=x.replace('\"',\"\").replace(\"\\u3000\",\"\").replace(\"\\U000fffb4\",\"\").replace(\"\\r\",\"\").split(\"\\n\")[0].split(\",\")\n",
    "values=[data.replace(\"\\u3000\",\"\")\n",
    "        .replace(\"\\U000fffb4\",\"\")\n",
    "        .replace(\"\\U000fb56f\",\"塭\")\n",
    "        .replace(\"\\r\",\"\")\n",
    "        .split(\",\") for data in x.replace('\"',\"\").split(\"\\n\")[1:]]\n",
    "datalist=[]\n",
    "for valueList in values:\n",
    "    data={}\n",
    "    for key,value in zip(keys,valueList):\n",
    "        data[key]=value\n",
    "    datalist.append(data)\n",
    "dataFinal=[]\n",
    "for i in datalist:\n",
    "    data={}\n",
    "    if i.get('主行業別',\"\")=='餐飲業' and i.get('年度',\"\")=='2017' and i.get(\"消費熱度計算來源\",\"\")==\"電子發票\":\n",
    "        data['add']=i['縣市']+i['鄉鎮市區']+i['村里']\n",
    "        data['costPower']=i['銷售額指標']\n",
    "        dataFinal.append(data)\n",
    "        \n",
    "client=pymongo.mongo_client.MongoClient(\"localhost\",27017,username='j122085',password='850605')\n",
    "# print(client.database_names())\n",
    "db=client.rawData\n",
    "print(db.collection_names())\n",
    "collection=db.addressCoordinate\n",
    "Coordinate={add['add']:{\"lat\":add['lat'],'lng':add['lng']} for add in list(collection.find({}))}\n",
    "client.close()\n",
    "\n",
    "for add in dataFinal:\n",
    "    try:\n",
    "        add['lat']=Coordinate[add['add']]['lat']\n",
    "        add['lng']=Coordinate[add['add']]['lng']\n",
    "        add[\"_id\"]=add.pop('add')\n",
    "    except:\n",
    "#         print(add['add'])\n",
    "        pass\n",
    "costPower=[add for add in dataFinal if 'lat' in add]\n",
    "\n",
    "client=pymongo.mongo_client.MongoClient(\"localhost\",27017,username='j122085',password='850605')\n",
    "db=client.rawData\n",
    "collection=db.CostPower\n",
    "try:\n",
    "    collection.drop()\n",
    "    collection.insert_many(costPower,ordered=False)\n",
    "except:\n",
    "    print(\"some data has same _id\")\n",
    "client.close()"
   ]
  },
  {
   "cell_type": "markdown",
   "metadata": {},
   "source": [
    "# humanDensity"
   ]
  },
  {
   "cell_type": "code",
   "execution_count": 34,
   "metadata": {},
   "outputs": [
    {
     "name": "stdout",
     "output_type": "stream",
     "text": [
      "['ipeenWebsite', 'bigStyleCount', 'ipeenInfo', 'smallStyleCount', 'addressCoordinate', 'HRdata104', 'CostPower', 'Nhuman']\n"
     ]
    }
   ],
   "source": [
    "import requests\n",
    "import json\n",
    "import pymongo\n",
    "res=requests.get(\"https://quality.data.gov.tw/dq_download_json.php?nid=32973&md5_url=52629fae1f1fed4ef81fcf706878dd80\")\n",
    "x=json.loads(res.text)\n",
    "data=[{\"add\":add['site_id'].replace(\"　\",\"\").replace(\"\\U000fffb5\",\"五\")+add['village'].replace(\" \",\"\").replace(\"\\U000fffb5\",\"五\").replace(\"?\",\"館\"),'Nhuman':add['people_total']}for add in x[1:]]\n",
    "client=pymongo.mongo_client.MongoClient(\"localhost\",27017,username='j122085',password='850605')\n",
    "# print(client.database_names())\n",
    "db=client.rawData\n",
    "print(db.collection_names())\n",
    "collection=db.addressCoordinate\n",
    "Coordinate={add['add']:{\"lat\":add['lat'],'lng':add['lng']} for add in list(collection.find({}))}\n",
    "client.close()\n",
    "\n",
    "for add in data:\n",
    "    try:\n",
    "        add['lat']=Coordinate[add['add']]['lat']\n",
    "        add['lng']=Coordinate[add['add']]['lng']\n",
    "        add[\"_id\"]=add.pop('add')\n",
    "    except:\n",
    "#         print(add['add'])\n",
    "        pass\n",
    "Nhuman=[add for add in data if 'lat' in add]\n",
    "client=pymongo.mongo_client.MongoClient(\"localhost\",27017,username='j122085',password='850605')\n",
    "db=client.rawData\n",
    "collection=db.Nhuman\n",
    "try:\n",
    "    collection.drop()\n",
    "    collection.insert_many(Nhuman,ordered=False)\n",
    "except:\n",
    "    print(\"some data has same _id\")\n",
    "client.close()"
   ]
  },
  {
   "cell_type": "code",
   "execution_count": 35,
   "metadata": {},
   "outputs": [
    {
     "data": {
      "text/plain": [
       "7659"
      ]
     },
     "execution_count": 35,
     "metadata": {},
     "output_type": "execute_result"
    }
   ],
   "source": [
    "client=pymongo.mongo_client.MongoClient(\"localhost\",27017,username='j122085',password='850605')\n",
    "db=client.rawData\n",
    "collection=db.Nhuman\n",
    "len(list(collection.find({})))"
   ]
  },
  {
   "cell_type": "code",
   "execution_count": 134,
   "metadata": {},
   "outputs": [
    {
     "name": "stdout",
     "output_type": "stream",
     "text": [
      "['admin', 'local', 'rawData']\n",
      "['ipeenWebsite', 'Nhumnan', 'ipeenInfo', 'addressCoordinate', 'HRdata104', 'CostPower', 'Nhuman']\n"
     ]
    }
   ],
   "source": [
    "client=pymongo.mongo_client.MongoClient(\"172.20.26.39\",27017,username='j122085',password='850605')\n",
    "print(client.database_names())\n",
    "db=client.rawData\n",
    "print(db.collection_names())\n",
    "collection=db.addressCoordinate\n",
    "Coordinate=list(collection.find({}))\n",
    "for i in Coordinate:\n",
    "    del i[\"_id\"]\n",
    "import json\n",
    "with open('../data/Coordinate.json','w') as f:\n",
    "    json.dump(Coordinate,f)"
   ]
  },
  {
   "cell_type": "code",
   "execution_count": 137,
   "metadata": {
    "collapsed": true
   },
   "outputs": [],
   "source": []
  },
  {
   "cell_type": "code",
   "execution_count": 1,
   "metadata": {
    "collapsed": true
   },
   "outputs": [],
   "source": [
    "import json\n",
    "import pymongo\n",
    "with open('../data/Coordinate.json') as f:\n",
    "    coordinate=json.load(f)\n",
    "    \n",
    "client=pymongo.mongo_client.MongoClient(\"localhost\",27017,username='j122085',password='850605')\n",
    "db=client.rawData\n",
    "collection=db.addressCoordinate\n",
    "collection.insert_many(coordinate)"
   ]
  },
  {
   "cell_type": "code",
   "execution_count": null,
   "metadata": {
    "collapsed": true
   },
   "outputs": [],
   "source": [
    "# pymongo.mongo_client.MongoClient(\"localhost\",27017,username='j122085',password='850605')\n",
    "# >>> from pymongo import MongoClient\n",
    "# >>> client = MongoClient('example.com',\n",
    "# ...                      username='user',\n",
    "# ...                      password='password',\n",
    "# ...                      authSource='the_database',\n",
    "# ...                      authMechanism='SCRAM-SHA-1')"
   ]
  },
  {
   "cell_type": "code",
   "execution_count": 49,
   "metadata": {},
   "outputs": [
    {
     "data": {
      "text/plain": [
       "90407"
      ]
     },
     "execution_count": 49,
     "metadata": {},
     "output_type": "execute_result"
    }
   ],
   "source": [
    "len(values)"
   ]
  },
  {
   "cell_type": "code",
   "execution_count": null,
   "metadata": {
    "collapsed": true
   },
   "outputs": [],
   "source": []
  }
 ],
 "metadata": {
  "kernelspec": {
   "display_name": "Python 3",
   "language": "python",
   "name": "python3"
  },
  "language_info": {
   "codemirror_mode": {
    "name": "ipython",
    "version": 3
   },
   "file_extension": ".py",
   "mimetype": "text/x-python",
   "name": "python",
   "nbconvert_exporter": "python",
   "pygments_lexer": "ipython3",
   "version": "3.6.3"
  }
 },
 "nbformat": 4,
 "nbformat_minor": 2
}
