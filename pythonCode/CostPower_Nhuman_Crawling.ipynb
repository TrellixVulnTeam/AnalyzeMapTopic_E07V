{
 "cells": [
  {
   "cell_type": "markdown",
   "metadata": {},
   "source": [
    "# costPower"
   ]
  },
  {
   "cell_type": "code",
   "execution_count": 27,
   "metadata": {},
   "outputs": [
    {
     "name": "stdout",
     "output_type": "stream",
     "text": [
      "['ipeenWebsite', 'bigStyleCount', 'ipeenInfo', 'smallStyleCount', 'addressCoordinate', 'HRdata104', 'CostPower', 'Nhuman']\n",
      "xxx\n"
     ]
    }
   ],
   "source": [
    "import requests\n",
    "import pymongo\n",
    "res=requests.get(\"https://sip.einvoice.nat.gov.tw/ods-main/ODS308E/download/691C0280-CEFB-488F-9E71-6AA4F39A41CD/8/1124193D-09F5-4711-AB9A-01848E3B88E4/8/?fileType=csv\")\n",
    "x=res.text\n",
    "keys=x.replace('\"',\"\").replace(\"\\u3000\",\"\").replace(\"\\U000fffb4\",\"\").replace(\"\\r\",\"\").split(\"\\n\")[0].split(\",\")\n",
    "values=[data.replace(\"\\u3000\",\"\")\n",
    "        .replace(\"\\U000fffb4\",\"\")\n",
    "        .replace(\"\\U000fb56f\",\"塭\")\n",
    "        .replace(\"\\r\",\"\")\n",
    "        .split(\",\") for data in x.replace('\"',\"\").split(\"\\n\")[1:]]\n",
    "datalist=[]\n",
    "for valueList in values:\n",
    "    data={}\n",
    "    for key,value in zip(keys,valueList):\n",
    "        data[key]=value\n",
    "    datalist.append(data)\n",
    "dataFinal=[]\n",
    "for i in datalist:\n",
    "    data={}\n",
    "    if i.get('主行業別',\"\")=='餐飲業' and i.get('年度',\"\")=='2017' and i.get(\"消費熱度計算來源\",\"\")==\"電子發票\":\n",
    "        data['add']=i['縣市']+i['鄉鎮市區']+i['村里']\n",
    "        data['bigadd']=i['縣市'].replace(\"臺\",\"台\")\n",
    "        data['smalladd']=i['鄉鎮市區']\n",
    "        data['costPower']=i['銷售額指標']\n",
    "        dataFinal.append(data)\n",
    "        \n",
    "client=pymongo.mongo_client.MongoClient(\"localhost\",27017,username='j122085',password='850605')\n",
    "# print(client.database_names())\n",
    "db=client.rawData\n",
    "print(db.collection_names())\n",
    "collection=db.addressCoordinate\n",
    "Coordinate={add['add']:{\"lat\":add['lat'],'lng':add['lng']} for add in list(collection.find({}))}\n",
    "client.close()\n",
    "\n",
    "for add in dataFinal:\n",
    "    try:\n",
    "        add['lat']=Coordinate[add['add']]['lat']\n",
    "        add['lng']=Coordinate[add['add']]['lng']\n",
    "        add[\"_id\"]=add.pop('add')\n",
    "    except:\n",
    "#         print(add['add'])\n",
    "        pass\n",
    "costPower=[add for add in dataFinal if 'lat' in add]\n",
    "client=pymongo.mongo_client.MongoClient(\"localhost\",27017,username='j122085',password='850605')\n",
    "db=client.rawData\n",
    "collection=db.CostPower\n",
    "try:\n",
    "    collection.drop()\n",
    "    collection.insert_many(costPower,ordered=False)\n",
    "except:\n",
    "    print(\"some data has same _id\")\n",
    "    \n",
    "print(\"xxx\")\n",
    "client.close()"
   ]
  },
  {
   "cell_type": "markdown",
   "metadata": {},
   "source": [
    "# humanDensity"
   ]
  },
  {
   "cell_type": "code",
   "execution_count": 28,
   "metadata": {
    "scrolled": true
   },
   "outputs": [
    {
     "name": "stdout",
     "output_type": "stream",
     "text": [
      "['ipeenWebsite', 'bigStyleCount', 'ipeenInfo', 'smallStyleCount', 'addressCoordinate', 'HRdata104', 'CostPower', 'Nhuman']\n"
     ]
    }
   ],
   "source": [
    "import requests\n",
    "import json\n",
    "import pymongo\n",
    "import re\n",
    "# res=requests.get(\"https://quality.data.gov.tw/dq_download_json.php?nid=32973&md5_url=52629fae1f1fed4ef81fcf706878dd80\")\n",
    "# x=json.loads(res.text)\n",
    "\n",
    "res=requests.get(\"http://data.moi.gov.tw/MoiOD/System/DownloadFile.aspx?DATA=3AF951B6-534D-46CB-8276-E158B6D9EE41\")\n",
    "datas=res.text.split(\"\\r\\n\")\n",
    "titles=datas[0].split(\",\")\n",
    "x=[{title:value for title,value in zip(titles,data.split(\",\"))} for data in datas[2:]]\n",
    "\n",
    "data=[{\"add\":add['site_id'].replace(\"　\",\"\").replace(\"\\U000fffb5\",\"五\")+add['village'].replace(\" \",\"\").replace(\"\\U000fffb5\",\"五\").replace(\"?\",\"館\"),\n",
    "       'Nhuman':add['people_total']}for add in x[1:] if \"site_id\" in add]\n",
    "for i in data:\n",
    "    try:\n",
    "        i[\"bigadd\"]=re.findall(\"(..[市|縣])(\\w\\w?\\w?[區|市|鎮|鄉])\",\n",
    "                               i[\"add\"])[0][0].replace(\"臺\",\"台\")\n",
    "    except:\n",
    "        i['bigadd']=0\n",
    "    try:\n",
    "        i[\"smalladd\"]=re.findall(\"(..[市|縣])(\\w\\w?\\w?[區|市|鎮|鄉])\",\n",
    "                           i[\"add\"])[0][1]\n",
    "    except:\n",
    "        i[\"smalladd\"]=0\n",
    "\n",
    "client=pymongo.mongo_client.MongoClient(\"localhost\",27017,username='j122085',password='850605')\n",
    "# print(client.database_names())\n",
    "db=client.rawData\n",
    "print(db.collection_names())\n",
    "collection=db.addressCoordinate\n",
    "Coordinate={add['add']:{\"lat\":add['lat'],'lng':add['lng']} for add in list(collection.find({}))}\n",
    "client.close()\n",
    "\n",
    "for add in data:\n",
    "    try:\n",
    "        add['lat']=Coordinate[add['add']]['lat']\n",
    "        add['lng']=Coordinate[add['add']]['lng']\n",
    "        add[\"_id\"]=add.pop('add')\n",
    "    except:\n",
    "#         print(add['add'])\n",
    "        pass\n",
    "Nhuman=[add for add in data if 'lat' in add]\n",
    "client=pymongo.mongo_client.MongoClient(\"localhost\",27017,username='j122085',password='850605')\n",
    "db=client.rawData\n",
    "collection=db.Nhuman\n",
    "try:\n",
    "    collection.drop()\n",
    "    collection.insert_many(Nhuman,ordered=False)\n",
    "except:\n",
    "    print(\"some data has same _id\")\n",
    "client.close()"
   ]
  },
  {
   "cell_type": "code",
   "execution_count": 30,
   "metadata": {
    "collapsed": true
   },
   "outputs": [],
   "source": [
    "client=pymongo.mongo_client.MongoClient(\"localhost\",27017,username='j122085',password='850605')\n",
    "db=client.rawData\n",
    "collection=db.HRdata104\n",
    "x=list(collection.find({}))"
   ]
  },
  {
   "cell_type": "code",
   "execution_count": 33,
   "metadata": {},
   "outputs": [
    {
     "data": {
      "text/plain": [
       "{'南投縣',\n",
       " '台中市',\n",
       " '台北市',\n",
       " '台南市',\n",
       " '嘉義市',\n",
       " '嘉義縣',\n",
       " '基隆市',\n",
       " '宜蘭縣',\n",
       " '彰化縣',\n",
       " '新北市',\n",
       " '新竹市',\n",
       " '新竹縣',\n",
       " '桃園市',\n",
       " '苗栗縣',\n",
       " '雲林縣'}"
      ]
     },
     "execution_count": 33,
     "metadata": {},
     "output_type": "execute_result"
    }
   ],
   "source": [
    "set([i['bigadd'] for i in x])"
   ]
  },
  {
   "cell_type": "code",
   "execution_count": 24,
   "metadata": {},
   "outputs": [
    {
     "data": {
      "text/plain": [
       "{'Nhuman': '1567',\n",
       " '_id': '新北市板橋區流芳里',\n",
       " 'bigadd': '新北市',\n",
       " 'lat': 25.0063524,\n",
       " 'lng': 121.4568661,\n",
       " 'smalladd': '板橋區'}"
      ]
     },
     "execution_count": 24,
     "metadata": {},
     "output_type": "execute_result"
    }
   ],
   "source": [
    "data[0]"
   ]
  },
  {
   "cell_type": "code",
   "execution_count": 35,
   "metadata": {},
   "outputs": [
    {
     "data": {
      "text/plain": [
       "7659"
      ]
     },
     "execution_count": 35,
     "metadata": {},
     "output_type": "execute_result"
    }
   ],
   "source": [
    "client=pymongo.mongo_client.MongoClient(\"localhost\",27017,username='j122085',password='850605')\n",
    "db=client.rawData\n",
    "collection=db.Nhuman\n",
    "len(list(collection.find({})))"
   ]
  },
  {
   "cell_type": "code",
   "execution_count": 134,
   "metadata": {},
   "outputs": [
    {
     "name": "stdout",
     "output_type": "stream",
     "text": [
      "['admin', 'local', 'rawData']\n",
      "['ipeenWebsite', 'Nhumnan', 'ipeenInfo', 'addressCoordinate', 'HRdata104', 'CostPower', 'Nhuman']\n"
     ]
    }
   ],
   "source": [
    "client=pymongo.mongo_client.MongoClient(\"172.20.26.39\",27017,username='j122085',password='850605')\n",
    "print(client.database_names())\n",
    "db=client.rawData\n",
    "print(db.collection_names())\n",
    "collection=db.addressCoordinate\n",
    "Coordinate=list(collection.find({}))\n",
    "for i in Coordinate:\n",
    "    del i[\"_id\"]\n",
    "import json\n",
    "with open('../data/Coordinate.json','w') as f:\n",
    "    json.dump(Coordinate,f)"
   ]
  },
  {
   "cell_type": "markdown",
   "metadata": {
    "collapsed": true
   },
   "source": [
    "# 將區里經緯度資訊放進mongo內"
   ]
  },
  {
   "cell_type": "code",
   "execution_count": 1,
   "metadata": {
    "collapsed": true
   },
   "outputs": [],
   "source": [
    "import json\n",
    "import pymongo\n",
    "with open('../data/Coordinate.json') as f:\n",
    "    coordinate=json.load(f)\n",
    "    \n",
    "client=pymongo.mongo_client.MongoClient(\"localhost\",27017,username='j122085',password='850605')\n",
    "db=client.rawData\n",
    "collection=db.addressCoordinate\n",
    "collection.insert_many(coordinate)"
   ]
  },
  {
   "cell_type": "code",
   "execution_count": 34,
   "metadata": {
    "collapsed": true
   },
   "outputs": [],
   "source": []
  },
  {
   "cell_type": "code",
   "execution_count": 29,
   "metadata": {
    "collapsed": true
   },
   "outputs": [],
   "source": []
  },
  {
   "cell_type": "code",
   "execution_count": 41,
   "metadata": {},
   "outputs": [
    {
     "ename": "KeyError",
     "evalue": "'site_id'",
     "output_type": "error",
     "traceback": [
      "\u001b[1;31m---------------------------------------------------------------------------\u001b[0m",
      "\u001b[1;31mKeyError\u001b[0m                                  Traceback (most recent call last)",
      "\u001b[1;32m<ipython-input-41-a5c658bdec28>\u001b[0m in \u001b[0;36m<module>\u001b[1;34m()\u001b[0m\n\u001b[0;32m      4\u001b[0m \u001b[0mx\u001b[0m\u001b[1;33m=\u001b[0m\u001b[1;33m[\u001b[0m\u001b[1;33m{\u001b[0m\u001b[0mtitle\u001b[0m\u001b[1;33m:\u001b[0m\u001b[0mvalue\u001b[0m \u001b[1;32mfor\u001b[0m \u001b[0mtitle\u001b[0m\u001b[1;33m,\u001b[0m\u001b[0mvalue\u001b[0m \u001b[1;32min\u001b[0m \u001b[0mzip\u001b[0m\u001b[1;33m(\u001b[0m\u001b[0mtitles\u001b[0m\u001b[1;33m,\u001b[0m\u001b[0mdata\u001b[0m\u001b[1;33m.\u001b[0m\u001b[0msplit\u001b[0m\u001b[1;33m(\u001b[0m\u001b[1;34m\",\"\u001b[0m\u001b[1;33m)\u001b[0m\u001b[1;33m)\u001b[0m\u001b[1;33m}\u001b[0m \u001b[1;32mfor\u001b[0m \u001b[0mdata\u001b[0m \u001b[1;32min\u001b[0m \u001b[0mdatas\u001b[0m\u001b[1;33m[\u001b[0m\u001b[1;36m2\u001b[0m\u001b[1;33m:\u001b[0m\u001b[1;33m]\u001b[0m\u001b[1;33m]\u001b[0m\u001b[1;33m\u001b[0m\u001b[0m\n\u001b[0;32m      5\u001b[0m \u001b[1;33m\u001b[0m\u001b[0m\n\u001b[1;32m----> 6\u001b[1;33m \u001b[0mdata\u001b[0m\u001b[1;33m=\u001b[0m\u001b[1;33m[\u001b[0m\u001b[1;33m{\u001b[0m\u001b[1;34m\"add\"\u001b[0m\u001b[1;33m:\u001b[0m\u001b[0madd\u001b[0m\u001b[1;33m[\u001b[0m\u001b[1;34m'site_id'\u001b[0m\u001b[1;33m]\u001b[0m\u001b[1;33m.\u001b[0m\u001b[0mreplace\u001b[0m\u001b[1;33m(\u001b[0m\u001b[1;34m\"　\"\u001b[0m\u001b[1;33m,\u001b[0m\u001b[1;34m\"\"\u001b[0m\u001b[1;33m)\u001b[0m\u001b[1;33m.\u001b[0m\u001b[0mreplace\u001b[0m\u001b[1;33m(\u001b[0m\u001b[1;34m\"\\U000fffb5\"\u001b[0m\u001b[1;33m,\u001b[0m\u001b[1;34m\"五\"\u001b[0m\u001b[1;33m)\u001b[0m\u001b[1;33m+\u001b[0m\u001b[0madd\u001b[0m\u001b[1;33m[\u001b[0m\u001b[1;34m'village'\u001b[0m\u001b[1;33m]\u001b[0m\u001b[1;33m.\u001b[0m\u001b[0mreplace\u001b[0m\u001b[1;33m(\u001b[0m\u001b[1;34m\" \"\u001b[0m\u001b[1;33m,\u001b[0m\u001b[1;34m\"\"\u001b[0m\u001b[1;33m)\u001b[0m\u001b[1;33m.\u001b[0m\u001b[0mreplace\u001b[0m\u001b[1;33m(\u001b[0m\u001b[1;34m\"\\U000fffb5\"\u001b[0m\u001b[1;33m,\u001b[0m\u001b[1;34m\"五\"\u001b[0m\u001b[1;33m)\u001b[0m\u001b[1;33m.\u001b[0m\u001b[0mreplace\u001b[0m\u001b[1;33m(\u001b[0m\u001b[1;34m\"?\"\u001b[0m\u001b[1;33m,\u001b[0m\u001b[1;34m\"館\"\u001b[0m\u001b[1;33m)\u001b[0m\u001b[1;33m,\u001b[0m\u001b[1;34m'Nhuman'\u001b[0m\u001b[1;33m:\u001b[0m\u001b[0madd\u001b[0m\u001b[1;33m[\u001b[0m\u001b[1;34m'people_total'\u001b[0m\u001b[1;33m]\u001b[0m\u001b[1;33m}\u001b[0m\u001b[1;32mfor\u001b[0m \u001b[0madd\u001b[0m \u001b[1;32min\u001b[0m \u001b[0mx\u001b[0m\u001b[1;33m[\u001b[0m\u001b[1;36m1\u001b[0m\u001b[1;33m:\u001b[0m\u001b[1;33m]\u001b[0m\u001b[1;33m]\u001b[0m\u001b[1;33m\u001b[0m\u001b[0m\n\u001b[0m",
      "\u001b[1;32m<ipython-input-41-a5c658bdec28>\u001b[0m in \u001b[0;36m<listcomp>\u001b[1;34m(.0)\u001b[0m\n\u001b[0;32m      4\u001b[0m \u001b[0mx\u001b[0m\u001b[1;33m=\u001b[0m\u001b[1;33m[\u001b[0m\u001b[1;33m{\u001b[0m\u001b[0mtitle\u001b[0m\u001b[1;33m:\u001b[0m\u001b[0mvalue\u001b[0m \u001b[1;32mfor\u001b[0m \u001b[0mtitle\u001b[0m\u001b[1;33m,\u001b[0m\u001b[0mvalue\u001b[0m \u001b[1;32min\u001b[0m \u001b[0mzip\u001b[0m\u001b[1;33m(\u001b[0m\u001b[0mtitles\u001b[0m\u001b[1;33m,\u001b[0m\u001b[0mdata\u001b[0m\u001b[1;33m.\u001b[0m\u001b[0msplit\u001b[0m\u001b[1;33m(\u001b[0m\u001b[1;34m\",\"\u001b[0m\u001b[1;33m)\u001b[0m\u001b[1;33m)\u001b[0m\u001b[1;33m}\u001b[0m \u001b[1;32mfor\u001b[0m \u001b[0mdata\u001b[0m \u001b[1;32min\u001b[0m \u001b[0mdatas\u001b[0m\u001b[1;33m[\u001b[0m\u001b[1;36m2\u001b[0m\u001b[1;33m:\u001b[0m\u001b[1;33m]\u001b[0m\u001b[1;33m]\u001b[0m\u001b[1;33m\u001b[0m\u001b[0m\n\u001b[0;32m      5\u001b[0m \u001b[1;33m\u001b[0m\u001b[0m\n\u001b[1;32m----> 6\u001b[1;33m \u001b[0mdata\u001b[0m\u001b[1;33m=\u001b[0m\u001b[1;33m[\u001b[0m\u001b[1;33m{\u001b[0m\u001b[1;34m\"add\"\u001b[0m\u001b[1;33m:\u001b[0m\u001b[0madd\u001b[0m\u001b[1;33m[\u001b[0m\u001b[1;34m'site_id'\u001b[0m\u001b[1;33m]\u001b[0m\u001b[1;33m.\u001b[0m\u001b[0mreplace\u001b[0m\u001b[1;33m(\u001b[0m\u001b[1;34m\"　\"\u001b[0m\u001b[1;33m,\u001b[0m\u001b[1;34m\"\"\u001b[0m\u001b[1;33m)\u001b[0m\u001b[1;33m.\u001b[0m\u001b[0mreplace\u001b[0m\u001b[1;33m(\u001b[0m\u001b[1;34m\"\\U000fffb5\"\u001b[0m\u001b[1;33m,\u001b[0m\u001b[1;34m\"五\"\u001b[0m\u001b[1;33m)\u001b[0m\u001b[1;33m+\u001b[0m\u001b[0madd\u001b[0m\u001b[1;33m[\u001b[0m\u001b[1;34m'village'\u001b[0m\u001b[1;33m]\u001b[0m\u001b[1;33m.\u001b[0m\u001b[0mreplace\u001b[0m\u001b[1;33m(\u001b[0m\u001b[1;34m\" \"\u001b[0m\u001b[1;33m,\u001b[0m\u001b[1;34m\"\"\u001b[0m\u001b[1;33m)\u001b[0m\u001b[1;33m.\u001b[0m\u001b[0mreplace\u001b[0m\u001b[1;33m(\u001b[0m\u001b[1;34m\"\\U000fffb5\"\u001b[0m\u001b[1;33m,\u001b[0m\u001b[1;34m\"五\"\u001b[0m\u001b[1;33m)\u001b[0m\u001b[1;33m.\u001b[0m\u001b[0mreplace\u001b[0m\u001b[1;33m(\u001b[0m\u001b[1;34m\"?\"\u001b[0m\u001b[1;33m,\u001b[0m\u001b[1;34m\"館\"\u001b[0m\u001b[1;33m)\u001b[0m\u001b[1;33m,\u001b[0m\u001b[1;34m'Nhuman'\u001b[0m\u001b[1;33m:\u001b[0m\u001b[0madd\u001b[0m\u001b[1;33m[\u001b[0m\u001b[1;34m'people_total'\u001b[0m\u001b[1;33m]\u001b[0m\u001b[1;33m}\u001b[0m\u001b[1;32mfor\u001b[0m \u001b[0madd\u001b[0m \u001b[1;32min\u001b[0m \u001b[0mx\u001b[0m\u001b[1;33m[\u001b[0m\u001b[1;36m1\u001b[0m\u001b[1;33m:\u001b[0m\u001b[1;33m]\u001b[0m\u001b[1;33m]\u001b[0m\u001b[1;33m\u001b[0m\u001b[0m\n\u001b[0m",
      "\u001b[1;31mKeyError\u001b[0m: 'site_id'"
     ]
    }
   ],
   "source": [
    "res=requests.get(\"http://data.moi.gov.tw/MoiOD/System/DownloadFile.aspx?DATA=3AF951B6-534D-46CB-8276-E158B6D9EE41\")\n",
    "datas=res.text.split(\"\\r\\n\")\n",
    "titles=datas[0].split(\",\")\n",
    "x=[{title:value for title,value in zip(titles,data.split(\",\"))} for data in datas[2:]]\n",
    "\n",
    "data=[{\"add\":add['site_id'].replace(\"　\",\"\").replace(\"\\U000fffb5\",\"五\")+add['village'].replace(\" \",\"\").replace(\"\\U000fffb5\",\"五\").replace(\"?\",\"館\"),'Nhuman':add['people_total']}for add in x[1:]]"
   ]
  },
  {
   "cell_type": "code",
   "execution_count": null,
   "metadata": {
    "collapsed": true
   },
   "outputs": [],
   "source": []
  }
 ],
 "metadata": {
  "kernelspec": {
   "display_name": "Python 3",
   "language": "python",
   "name": "python3"
  },
  "language_info": {
   "codemirror_mode": {
    "name": "ipython",
    "version": 3
   },
   "file_extension": ".py",
   "mimetype": "text/x-python",
   "name": "python",
   "nbconvert_exporter": "python",
   "pygments_lexer": "ipython3",
   "version": "3.6.3"
  }
 },
 "nbformat": 4,
 "nbformat_minor": 2
}
