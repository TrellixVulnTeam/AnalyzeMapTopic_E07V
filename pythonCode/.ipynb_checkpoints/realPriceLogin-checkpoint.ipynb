{
 "cells": [
  {
   "cell_type": "code",
   "execution_count": null,
   "metadata": {
    "collapsed": true
   },
   "outputs": [],
   "source": [
    "import requests\n",
    "headstr=\"\"\"Accept: text/html,application/xhtml+xml,application/xml;q=0.9,image/webp,image/apng,*/*;q=0.8\n",
    "Accept-Encoding: gzip, deflate\n",
    "Accept-Language: zh-TW,zh;q=0.9,en-US;q=0.8,en;q=0.7\n",
    "Connection: keep-alive\n",
    "Cookie: _ga=GA1.3.318223218.1528104516; _gid=GA1.3.1789114965.1531386334; JSESSIONID=9452E23A6BFE50BB9625955E8DF7E74E; __utma=72486415.318223218.1528104516.1531387568.1531387568.1; __utmc=72486415; __utmz=72486415.1531387568.1.1.utmcsr=(direct)|utmccn=(direct)|utmcmd=(none); __utmb=72486415.1.10.1531387568\n",
    "Host: plvr.land.moi.gov.tw\n",
    "Referer: http://plvr.land.moi.gov.tw/DownloadOpenData\n",
    "Upgrade-Insecure-Requests: 1\n",
    "User-Agent: Mozilla/5.0 (Windows NT 6.1; Win64; x64) AppleWebKit/537.36 (KHTML, like Gecko) Chrome/67.0.3396.99 Safari/537.36\"\"\"\n",
    "\n",
    "\n",
    "\n",
    "res=requests.get(\"http://plvr.land.moi.gov.tw//Download?type=zip&fileName=lvr_landcsv.zip\")"
   ]
  },
  {
   "cell_type": "code",
   "execution_count": null,
   "metadata": {
    "collapsed": true
   },
   "outputs": [],
   "source": [
    "with open(\"realPriceLogin.zip\",'wb') as f:\n",
    "    f.write(res.content)"
   ]
  },
  {
   "cell_type": "code",
   "execution_count": null,
   "metadata": {
    "collapsed": true
   },
   "outputs": [],
   "source": [
    "import zipfile\n",
    "zip_ref = zipfile.ZipFile(\"realPriceLogin.zip\", 'r')\n",
    "zip_ref.extractall(\"realPriceLogin\")\n",
    "zip_ref.close()"
   ]
  },
  {
   "cell_type": "code",
   "execution_count": null,
   "metadata": {
    "collapsed": true
   },
   "outputs": [],
   "source": []
  },
  {
   "cell_type": "code",
   "execution_count": null,
   "metadata": {
    "scrolled": true
   },
   "outputs": [],
   "source": [
    "import os \n",
    "import re\n",
    "import pandas as pd\n",
    "\n",
    "allData=[]\n",
    "for i in os.listdir(\"realPriceLogin\"):\n",
    "    if len(i)==16 and i[-4:]==\".CSV\":\n",
    "        with open(\"realPriceLogin/\"+i,'r',encoding=\"utf8\") as f:\n",
    "            csvStrList=f.read().replace('\\ufeff','').split(\"\\n\")\n",
    "            keys=csvStrList[0].split(\",\")\n",
    "            unitData=[]\n",
    "            for j in csvStrList[2:]:\n",
    "                data={}\n",
    "                for k,v in zip(keys,j.split(\",\")):\n",
    "                    data[k]=v\n",
    "                unitData.append(data)\n",
    "        allData.extend(unitData)\n",
    "        print(len(unitData),i)"
   ]
  },
  {
   "cell_type": "code",
   "execution_count": null,
   "metadata": {},
   "outputs": [],
   "source": [
    "allData[0]"
   ]
  },
  {
   "cell_type": "code",
   "execution_count": null,
   "metadata": {
    "collapsed": true
   },
   "outputs": [],
   "source": [
    "y=set()\n",
    "usefulDatas=[]\n",
    "for i in allData:\n",
    "    if '土地區段位置/建物區段門牌' in i and i['單價(元/平方公尺)']!=\"\" and (i['土地區段位置/建物區段門牌'][2]==\"市\" or i['土地區段位置/建物區段門牌'][2]==\"縣\"):\n",
    "        if i['土地區段位置/建物區段門牌'] not in y and round(int(float(i['單價(元/平方公尺)'])*3.3058)/10000)!=0:\n",
    "            usefulData={}\n",
    "            usefulData['地址']=i['土地區段位置/建物區段門牌']\n",
    "            usefulData['每坪價格']=str(round(int(float(i['單價(元/平方公尺)'])*3.3058)/10000))+\"萬\"\n",
    "            usefulDatas.append(usefulData)\n",
    "            y.add(i['土地區段位置/建物區段門牌'])"
   ]
  },
  {
   "cell_type": "code",
   "execution_count": null,
   "metadata": {
    "collapsed": true
   },
   "outputs": [],
   "source": [
    "import geocoder"
   ]
  },
  {
   "cell_type": "code",
   "execution_count": null,
   "metadata": {
    "scrolled": true
   },
   "outputs": [],
   "source": [
    "import geocoder\n",
    "for i in usefulDatas:\n",
    "    if i['地址'][2]==\"市\" or i['地址'][2]==\"縣\":\n",
    "        n=0\n",
    "        if 'lat' not in i:\n",
    "            while n<5:\n",
    "                try:\n",
    "                    geoData=geocoder.arcgis(i['地址'])\n",
    "                    i[\"lat\"],i['lng']=geoData.latlng\n",
    "                    n=10\n",
    "                    print(i['地址'],i[\"lat\"],i['lng'])\n",
    "                    time.sleep(0.5)\n",
    "                except:\n",
    "                    n+=1\n",
    "            "
   ]
  },
  {
   "cell_type": "code",
   "execution_count": null,
   "metadata": {
    "collapsed": true
   },
   "outputs": [],
   "source": [
    "for i in usefulDatas:\n",
    "    i['bigadd'],i['smalladd']=re.findall(\"(\\w\\w[市|縣])(\\w\\w?\\w?[區|市|鎮|鄉])\",i['地址'])[0]"
   ]
  },
  {
   "cell_type": "code",
   "execution_count": 12,
   "metadata": {
    "collapsed": true
   },
   "outputs": [],
   "source": [
    "import pymongo\n",
    "client=pymongo.MongoClient('192.168.1.113',27017,username='j122085',password='850605')\n",
    "# client=pymongo.MongoClient('localhost',27017,username='j122085',password='850605')\n",
    "colle=client.rawData.realPriceLogin\n",
    "# colle.drop()"
   ]
  },
  {
   "cell_type": "code",
   "execution_count": null,
   "metadata": {
    "collapsed": true
   },
   "outputs": [],
   "source": [
    "ids=[i['地址'] for i in usefulDatas]\n",
    "from pymongo import UpdateOne\n",
    "operations=[UpdateOne({\"_id\":idn},{\"$set\":data},upsert=True) for idn,data in zip(ids,usefulDatas)]"
   ]
  },
  {
   "cell_type": "code",
   "execution_count": null,
   "metadata": {},
   "outputs": [],
   "source": [
    "colle.bulk_write(operations,ordered=False)"
   ]
  },
  {
   "cell_type": "code",
   "execution_count": 13,
   "metadata": {
    "scrolled": true
   },
   "outputs": [
    {
     "data": {
      "text/plain": [
       "{'bigadd': '臺北市',\n",
       " 'lat': 24.989262338334555,\n",
       " 'lng': 121.55994606010151,\n",
       " 'smalladd': '文山區',\n",
       " '地址': '臺北市文山區興隆路四段1~30號',\n",
       " '每坪價格': '58萬'}"
      ]
     },
     "execution_count": 13,
     "metadata": {},
     "output_type": "execute_result"
    }
   ],
   "source": [
    "colle.find_one({},{\"_id\":False})"
   ]
  },
  {
   "cell_type": "code",
   "execution_count": null,
   "metadata": {
    "collapsed": true
   },
   "outputs": [],
   "source": []
  },
  {
   "cell_type": "code",
   "execution_count": null,
   "metadata": {
    "collapsed": true
   },
   "outputs": [],
   "source": [
    "import requests\n",
    "headstr=\"\"\"Accept: text/html,application/xhtml+xml,application/xml;q=0.9,image/webp,image/apng,*/*;q=0.8\n",
    "Accept-Encoding: gzip, deflate\n",
    "Accept-Language: zh-TW,zh;q=0.9,en-US;q=0.8,en;q=0.7\n",
    "Connection: keep-alive\n",
    "Cookie: _ga=GA1.3.318223218.1528104516; _gid=GA1.3.1789114965.1531386334; JSESSIONID=9452E23A6BFE50BB9625955E8DF7E74E; __utma=72486415.318223218.1528104516.1531387568.1531387568.1; __utmc=72486415; __utmz=72486415.1531387568.1.1.utmcsr=(direct)|utmccn=(direct)|utmcmd=(none); __utmb=72486415.1.10.1531387568\n",
    "Host: plvr.land.moi.gov.tw\n",
    "Referer: http://plvr.land.moi.gov.tw/DownloadOpenData\n",
    "Upgrade-Insecure-Requests: 1\n",
    "User-Agent: Mozilla/5.0 (Windows NT 6.1; Win64; x64) AppleWebKit/537.36 (KHTML, like Gecko) Chrome/67.0.3396.99 Safari/537.36\"\"\"\n",
    "\n",
    "\n",
    "\n",
    "res=requests.get(\"http://plvr.land.moi.gov.tw//Download?type=zip&fileName=lvr_landcsv.zip\")\n",
    "\n",
    "with open(\"realPriceLogin.zip\",'wb') as f:\n",
    "    f.write(res.content)\n",
    "\n",
    "import zipfile\n",
    "zip_ref = zipfile.ZipFile(\"realPriceLogin.zip\", 'r')\n",
    "zip_ref.extractall(\"realPriceLogin\")\n",
    "zip_ref.close()\n",
    "\n",
    "\n",
    "\n",
    "import os \n",
    "import re\n",
    "import pandas as pd\n",
    "\n",
    "allData=[]\n",
    "for i in os.listdir(\"realPriceLogin\"):\n",
    "    if len(i)==16 and i[-4:]==\".CSV\":\n",
    "        with open(\"realPriceLogin/\"+i,'r',encoding=\"utf8\") as f:\n",
    "            csvStrList=f.read().replace('\\ufeff','').split(\"\\n\")\n",
    "            keys=csvStrList[0].split(\",\")\n",
    "            unitData=[]\n",
    "            for j in csvStrList[2:]:\n",
    "                data={}\n",
    "                for k,v in zip(keys,j.split(\",\")):\n",
    "                    data[k]=v\n",
    "                unitData.append(data)\n",
    "        allData.extend(unitData)\n",
    "        print(len(unitData),i)\n",
    "\n",
    "allData[0]\n",
    "\n",
    "y=set()\n",
    "usefulDatas=[]\n",
    "for i in allData:\n",
    "    if '土地區段位置/建物區段門牌' in i and i['單價(元/平方公尺)']!=\"\" and (i['土地區段位置/建物區段門牌'][2]==\"市\" or i['土地區段位置/建物區段門牌'][2]==\"縣\"):\n",
    "        if i['土地區段位置/建物區段門牌'] not in y and round(int(float(i['單價(元/平方公尺)'])*3.3058)/10000)!=0:\n",
    "            usefulData={}\n",
    "            usefulData['地址']=i['土地區段位置/建物區段門牌']\n",
    "            usefulData['每坪價格']=str(round(int(float(i['單價(元/平方公尺)'])*3.3058)/10000))+\"萬\"\n",
    "            usefulDatas.append(usefulData)\n",
    "            y.add(i['土地區段位置/建物區段門牌'])\n",
    "\n",
    "import geocoder\n",
    "\n",
    "import geocoder\n",
    "for i in usefulDatas:\n",
    "    if i['地址'][2]==\"市\" or i['地址'][2]==\"縣\":\n",
    "        n=0\n",
    "        if 'lat' not in i:\n",
    "            while n<5:\n",
    "                try:\n",
    "                    geoData=geocoder.arcgis(i['地址'])\n",
    "                    i[\"lat\"],i['lng']=geoData.latlng\n",
    "                    n=10\n",
    "                    print(i['地址'],i[\"lat\"],i['lng'])\n",
    "                    time.sleep(0.5)\n",
    "                except:\n",
    "                    n+=1\n",
    "            \n",
    "\n",
    "for i in usefulDatas:\n",
    "    i['bigadd'],i['smalladd']=re.findall(\"(\\w\\w[市|縣])(\\w\\w?\\w?[區|市|鎮|鄉])\",i['地址'])[0]\n",
    "\n",
    "import pymongo\n",
    "client=pymongo.MongoClient('192.168.1.113',27017,username='j122085',password='850605')\n",
    "# client=pymongo.MongoClient('localhost',27017,username='j122085',password='850605')\n",
    "colle=client.rawData.realPriceLogin\n",
    "# colle.drop()\n",
    "\n",
    "ids=[i['地址'] for i in usefulDatas]\n",
    "from pymongo import UpdateOne\n",
    "operations=[UpdateOne({\"_id\":idn},{\"$set\":data},upsert=True) for idn,data in zip(ids,usefulDatas)]\n",
    "\n",
    "colle.bulk_write(operations,ordered=False)"
   ]
  },
  {
   "cell_type": "code",
   "execution_count": null,
   "metadata": {
    "collapsed": true
   },
   "outputs": [],
   "source": []
  }
 ],
 "metadata": {
  "kernelspec": {
   "display_name": "Python 3",
   "language": "python",
   "name": "python3"
  },
  "language_info": {
   "codemirror_mode": {
    "name": "ipython",
    "version": 3
   },
   "file_extension": ".py",
   "mimetype": "text/x-python",
   "name": "python",
   "nbconvert_exporter": "python",
   "pygments_lexer": "ipython3",
   "version": "3.6.4"
  }
 },
 "nbformat": 4,
 "nbformat_minor": 2
}
