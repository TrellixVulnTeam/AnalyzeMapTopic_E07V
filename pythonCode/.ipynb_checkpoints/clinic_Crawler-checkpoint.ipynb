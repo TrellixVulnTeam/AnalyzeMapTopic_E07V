{
 "cells": [
  {
   "cell_type": "code",
   "execution_count": null,
   "metadata": {
    "collapsed": true
   },
   "outputs": [],
   "source": [
    "#讀取資料集\n",
    "with open(r\"C:\\Users\\andy.yuan\\Downloads\\醫療機構基本資料.csv\",'r',encoding='utf8') as f:\n",
    "    clinicList=[{\"name\":dien.split(\",\")[1].replace('\"',''),\"address\":dien.split(\",\")[6].replace('\"','').split('號')[0].split(\"、\")[0].split(\"．\")[0].split(\".\")[0],\"bigadd\":dien.split(\",\")[4][:3],\"smalladd\":dien.split(\",\")[4][3:]} for dien in f.read().split(\"\\n\")[1:] \n",
    "                if len(dien.split(\",\"))>6]"
   ]
  },
  {
   "cell_type": "code",
   "execution_count": null,
   "metadata": {
    "collapsed": true
   },
   "outputs": [],
   "source": [
    "clinicList"
   ]
  },
  {
   "cell_type": "code",
   "execution_count": null,
   "metadata": {
    "collapsed": true,
    "scrolled": true
   },
   "outputs": [],
   "source": [
    "import requests\n",
    "import time\n",
    "import json\n",
    "from pymongo import UpdateOne\n",
    "import pymongo\n",
    "import geocoder\n",
    "\n",
    "b=time.time()\n",
    "Alln=len(clinicList)\n",
    "print(Alln)\n",
    "nn=0\n",
    "for dien in clinicList:\n",
    "    if 'lat' not in dien or dien['lat']=='24.1491968':\n",
    "        address=dien['address'].split(\".\")[0].split(\"、\")[0].split(\"號\")[0]\n",
    "        nn+=1\n",
    "        n=0\n",
    "        if nn%30==0:\n",
    "            e=time.time()\n",
    "            print(\"{}%\".format(round(nn/Alln,2)*100),str(round(b-e))+\"秒\")\n",
    "#             client=pymongo.mongo_client.MongoClient(\"localhost\",27017,username='j122085',password='850605')\n",
    "#             db=client.rawData\n",
    "#             collection=db.infoClinic\n",
    "#             datas=[i for i in clinicList if 'lat' in i]\n",
    "#             ids=[i['lat']+\"_\"+i['lng'] for i in datas]\n",
    "#             operations=[UpdateOne({\"_id\":idn},{\"$set\":data},upsert=True) for idn,data in zip(ids,datas)]\n",
    "#             try:\n",
    "#                 collection.bulk_write(operations,ordered=False)\n",
    "#             except:\n",
    "#                 pass\n",
    "        x=geocoder.arcgis(address)\n",
    "        while x.latlng==None:\n",
    "            time.sleep(0.5)\n",
    "            n+=1\n",
    "            x=geocoder.arcgis(address)\n",
    "            if n >10:\n",
    "                break\n",
    "        try: \n",
    "            dien['lat']=x.latlng[0]\n",
    "            dien['lng']=x.latlng[1]\n",
    "            time.sleep(1)\n",
    "            print(address,dien['lat'],dien['lng'])\n",
    "        except:\n",
    "            print(address+\"轉換失敗\")\n",
    "            \n",
    "client=pymongo.mongo_client.MongoClient(\"localhost\",27017,username='j122085',password='850605')\n",
    "db=client.rawData\n",
    "collection=db.infoClinic\n",
    "\n",
    "datas=[i for i in clinicList if 'lat' in i]\n",
    "ids=[i['lat']+\"_\"+i['lng'] for i in datas]\n",
    "operations=[UpdateOne({\"_id\":idn},{\"$set\":data},upsert=True) for idn,data in zip(ids,datas)]\n",
    "try:\n",
    "    collection.bulk_write(operations,ordered=False)\n",
    "except:\n",
    "    pass\n",
    "\n",
    "\n",
    "clientServer=pymongo.mongo_client.MongoClient(\"192.168.1.113\",27017,username='j122085',password='850605')\n",
    "dbServer=clientServer.rawData\n",
    "collectionServer=dbServer.infoClinic\n",
    "operationsServer=[UpdateOne({\"_id\":idn},{\"$set\":data},upsert=True) for idn,data in zip(ids,datas)]\n",
    "try:\n",
    "    collectionServer.bulk_write(operationsServer,ordered=False)\n",
    "except:\n",
    "    pass"
   ]
  },
  {
   "cell_type": "code",
   "execution_count": null,
   "metadata": {
    "collapsed": true
   },
   "outputs": [],
   "source": []
  },
  {
   "cell_type": "code",
   "execution_count": null,
   "metadata": {
    "collapsed": true
   },
   "outputs": [],
   "source": [
    "!pip install geocoder==1.38.1"
   ]
  },
  {
   "cell_type": "code",
   "execution_count": null,
   "metadata": {
    "collapsed": true,
    "scrolled": true
   },
   "outputs": [],
   "source": [
    "import pymongo\n",
    "import geocoder\n",
    "import time\n",
    "from pymongo import UpdateOne\n",
    "\n",
    "b=time.time()\n",
    "client=pymongo.mongo_client.MongoClient(\"192.168.1.113\",27017,username='j122085',password='850605')\n",
    "db=client.rawData\n",
    "collection=db.infoClinic\n",
    "xxx=list(collection.find({},{\"_id\":False}))\n",
    "\n",
    "import geocoder\n",
    "import time\n",
    "alln=len(xxx)\n",
    "print(\"共{}比需轉換\".format(alln))\n",
    "n=0\n",
    "for i in xxx:\n",
    "    if n%50==0:\n",
    "        e=time.time()\n",
    "        print(\"已完成{}筆，{}%，耗時{}秒\".format(n,round((n/alln)*100,2),e-b))\n",
    "        \n",
    "        \n",
    "    x=geocoder.arcgis(i[\"address\"])\n",
    "    while x.latlng==None:\n",
    "        time.sleep(0.5)\n",
    "        x=geocoder.arcgis(i[\"address\"])\n",
    "    i['lat']=x.latlng[0]\n",
    "    i['lng']=x.latlng[1]\n",
    "    time.sleep(1)\n",
    "    print(i['address'],i['lat'],i['lng'])\n",
    "    n+=1\n",
    "    \n",
    "datas=[i for i in xxx if 'lat' in i]\n",
    "ids=[str(i['lat'])+\"_\"+str(i['lng']) for i in datas]\n",
    "operations=[UpdateOne({\"_id\":idn},{\"$set\":data},upsert=True) for idn,data in zip(ids,datas)]\n",
    "try:\n",
    "    collection.bulk_write(operations,ordered=False)\n",
    "except:o\n",
    "    pass\n",
    "    "
   ]
  },
  {
   "cell_type": "code",
   "execution_count": null,
   "metadata": {
    "collapsed": true
   },
   "outputs": [],
   "source": []
  },
  {
   "cell_type": "code",
   "execution_count": null,
   "metadata": {
    "collapsed": true
   },
   "outputs": [],
   "source": []
  }
 ],
 "metadata": {
  "kernelspec": {
   "display_name": "Python 3",
   "language": "python",
   "name": "python3"
  },
  "language_info": {
   "codemirror_mode": {
    "name": "ipython",
    "version": 3
   },
   "file_extension": ".py",
   "mimetype": "text/x-python",
   "name": "python",
   "nbconvert_exporter": "python",
   "pygments_lexer": "ipython3",
   "version": "3.6.4"
  }
 },
 "nbformat": 4,
 "nbformat_minor": 2
}
