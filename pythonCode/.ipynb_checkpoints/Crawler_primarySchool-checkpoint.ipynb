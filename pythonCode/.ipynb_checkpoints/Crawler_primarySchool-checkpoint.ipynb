{
 "cells": [
  {
   "cell_type": "code",
   "execution_count": 4,
   "metadata": {
    "collapsed": true
   },
   "outputs": [],
   "source": [
    "#https://depart.moe.edu.tw/ED4500/News.aspx?n=5A930C32CC6C3818&sms=91B3AAE8C6388B96\n",
    "import requests\n",
    "res=requests.get(\"http://stats.moe.gov.tw/files/school/106/e1_new.csv\")"
   ]
  },
  {
   "cell_type": "code",
   "execution_count": 5,
   "metadata": {},
   "outputs": [],
   "source": [
    "text=res.text.replace(\"\\r\",\"\")"
   ]
  },
  {
   "cell_type": "code",
   "execution_count": 6,
   "metadata": {},
   "outputs": [],
   "source": [
    "cols=text.split(\"\\n\")[0].split(\",\")\n",
    "\n",
    "datas=[]\n",
    "for i in text.split(\"\\n\")[1:]:\n",
    "    data={}\n",
    "    for k,v in zip(cols,i.split(\",\")):\n",
    "        data[k]=v\n",
    "        datas.append(data)"
   ]
  },
  {
   "cell_type": "code",
   "execution_count": 7,
   "metadata": {
    "collapsed": true
   },
   "outputs": [],
   "source": [
    "res=requests.get(\"http://stats.moe.gov.tw/files/school/106/j1_new.csv\")\n",
    "text=res.text.replace(\"\\r\",\"\")\n",
    "cols=text.split(\"\\n\")[0].split(\",\")\n",
    "for i in text.split(\"\\n\")[1:]:\n",
    "    data={}\n",
    "    for k,v in zip(cols,i.split(\",\")):\n",
    "        data[k]=v\n",
    "        datas.append(data)"
   ]
  },
  {
   "cell_type": "code",
   "execution_count": 8,
   "metadata": {},
   "outputs": [],
   "source": [
    "datas=[i for i in datas if '學校名稱' in i and i['學校名稱']!=\"\"]"
   ]
  },
  {
   "cell_type": "code",
   "execution_count": null,
   "metadata": {},
   "outputs": [],
   "source": [
    "import re\n",
    "for dien in datas:\n",
    "    dien['name']=dien.get('學校名稱',\"\")\n",
    "    dien['address']=dien.get('地址',\"\")\n",
    "    try:\n",
    "        dien[\"bigadd\"] = re.findall(\"(\\w\\w[市|縣])(\\w\\w?\\w?[區|市|鎮|鄉])\",dien['address'])[0][0]\n",
    "        dien[\"smalladd\"] = re.findall(\"(\\w\\w[市|縣])(\\w\\w?\\w?[區|市|鎮|鄉])\",dien['address'])[0][1]\n",
    "    except:\n",
    "        dien[\"bigadd\"] = \"\"\n",
    "        dien[\"smalladd\"] = \"\""
   ]
  },
  {
   "cell_type": "code",
   "execution_count": null,
   "metadata": {
    "scrolled": true
   },
   "outputs": [],
   "source": [
    "import geocoder\n",
    "import time\n",
    "for i in range(2):\n",
    "    for i in datas:\n",
    "        try:\n",
    "            if 'lat' not in i:\n",
    "                i['lat'],i['lng']=geocoder.arcgis(i['address'].split(\"]\")[1].split(\"號\")[0].split(\"-\")[0].split(\"、\")[0].split(\"~\")[0]).latlng\n",
    "                print(i['address'],i['lat'],i['lng'])\n",
    "                time.sleep(2)\n",
    "        except:\n",
    "            print(i['address'],\"no latlng\")\n",
    "            pass"
   ]
  },
  {
   "cell_type": "code",
   "execution_count": null,
   "metadata": {
    "collapsed": true
   },
   "outputs": [],
   "source": [
    "from pymongo import MongoClient,UpdateOne\n",
    "# client=MongoClient('192.168.1.113',27017,username='j122085',password=\"850605\")\n",
    "client=MongoClient('localhost',27017,username='j122085',password=\"850605\")\n",
    "colle=client.rawData.primarySchool\n",
    "ids=[i['name'] for i in datas]\n",
    "operation=[UpdateOne({\"_id\":idn},{\"$set\":data},upsert=True) for idn,data in zip(ids,datas)]\n",
    "colle.bulk_write(operation)\n",
    "client.close()"
   ]
  },
  {
   "cell_type": "code",
   "execution_count": null,
   "metadata": {
    "collapsed": true
   },
   "outputs": [],
   "source": []
  }
 ],
 "metadata": {
  "kernelspec": {
   "display_name": "Python 3",
   "language": "python",
   "name": "python3"
  },
  "language_info": {
   "codemirror_mode": {
    "name": "ipython",
    "version": 3
   },
   "file_extension": ".py",
   "mimetype": "text/x-python",
   "name": "python",
   "nbconvert_exporter": "python",
   "pygments_lexer": "ipython3",
   "version": "3.6.4"
  }
 },
 "nbformat": 4,
 "nbformat_minor": 2
}
