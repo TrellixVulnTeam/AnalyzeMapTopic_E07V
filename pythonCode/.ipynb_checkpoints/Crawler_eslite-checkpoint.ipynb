{
 "cells": [
  {
   "cell_type": "code",
   "execution_count": 3,
   "metadata": {
    "collapsed": true
   },
   "outputs": [],
   "source": [
    "from selenium import webdriver\n",
    "from bs4 import BeautifulSoup as bs\n",
    "driver=webdriver.Chrome(\"D:\\Driver\\chromedriver.exe\")"
   ]
  },
  {
   "cell_type": "code",
   "execution_count": 4,
   "metadata": {
    "collapsed": true
   },
   "outputs": [],
   "source": [
    "driver.get(\"http://www.eslitecorp.com/Site/Site_List.aspx?a=TW&l=b&sc=TW\")"
   ]
  },
  {
   "cell_type": "code",
   "execution_count": 5,
   "metadata": {
    "collapsed": true
   },
   "outputs": [],
   "source": [
    "soup=bs(driver.page_source,'lxml')"
   ]
  },
  {
   "cell_type": "code",
   "execution_count": 6,
   "metadata": {
    "collapsed": true
   },
   "outputs": [],
   "source": [
    "driver.quit()"
   ]
  },
  {
   "cell_type": "code",
   "execution_count": 7,
   "metadata": {
    "collapsed": true
   },
   "outputs": [],
   "source": [
    "datas=[]\n",
    "for li in soup.select(\"div.main_list > ul > li\"):\n",
    "    data={}\n",
    "    data['name']=li.select_one(\"a > div > h6\").text\n",
    "    data['address']=li.select_one(\"a > div > p\").text\n",
    "    datas.append(data)"
   ]
  },
  {
   "cell_type": "code",
   "execution_count": 8,
   "metadata": {},
   "outputs": [
    {
     "data": {
      "text/plain": [
       "[{'address': '花蓮市和平路581號2F〈遠東百貨2F〉', 'name': '誠品生活花蓮遠百店'},\n",
       " {'address': '台北市大同區南京西路16號B1之中山地下街B1-B48號店鋪（不含B24、B26號）', 'name': '誠品R79'},\n",
       " {'address': '高雄市前鎮區三多三路217號12F (高雄SOGO百貨12F)', 'name': '高雄SOGO店'},\n",
       " {'address': '臺中市西屯區臺灣大道三段251號', 'name': '台中大遠百店'},\n",
       " {'address': '新北市林口區文化三路一段356號1F', 'name': '林口店'},\n",
       " {'address': '臺北市大安區忠孝東路四段45號12F', 'name': '忠孝SOGO店'},\n",
       " {'address': '高雄市鹽埕區大勇路3號 (駁二藝術特區C4倉庫)', 'name': '高雄駁二店'},\n",
       " {'address': '台南市東區中華東路一段366號2樓', 'name': '南紡店'},\n",
       " {'address': '臺北市敦化南路一段245號', 'name': '敦南店'},\n",
       " {'address': '桃園市蘆竹區南崁路一段112號6F（台茂購物中心6F）', 'name': '桃園台茂店'},\n",
       " {'address': '臺北市信義區松高路11號', 'name': '信義店'},\n",
       " {'address': '臺北市信義區菸廠路88號', 'name': '松菸店'},\n",
       " {'address': '臺北市忠孝西路一段47號B1（臺北車站K區地下街）', 'name': '站前店'},\n",
       " {'address': '臺北市萬華區武昌街2段77號', 'name': '武昌店'},\n",
       " {'address': '臺北市新生南路三段98號B1~3F', 'name': '台大店'},\n",
       " {'address': '臺北市峨嵋街52號', 'name': '西門店'},\n",
       " {'address': '臺北市忠孝西路一段49號B1（B、C、D室）', 'name': '台北車站捷運店'},\n",
       " {'address': '新北市板橋區中山路一段46號', 'name': '板橋店'},\n",
       " {'address': '臺北市康寧路三段72號1F/B1', 'name': '東湖店'},\n",
       " {'address': '臺北市文林路338、340~1號1F', 'name': '士林店'},\n",
       " {'address': '新北市永和區中山路一段238號B1（比漾廣場B1）', 'name': '雙和比漾店'},\n",
       " {'address': '臺北市大直街70號（實踐大學綜合大樓1F/2F）', 'name': '實踐店'},\n",
       " {'address': '臺北市中山區敬業三路20號3F（美麗華百樂園漾館3F）', 'name': '美麗華店'},\n",
       " {'address': '宜蘭縣宜蘭市民權路二段38巷6號3F（宜蘭新月廣場3F）', 'name': '宜蘭店'},\n",
       " {'address': '新北市板橋區縣民大道二段66號', 'name': '新板店'},\n",
       " {'address': '新北市板橋區南雅南路二段21號', 'name': '亞東醫院店'},\n",
       " {'address': '桃園市中壢區元化路357號10F（中壢SOGO百貨10F）', 'name': '中壢SOGO店'},\n",
       " {'address': '桃園市中壢區中園路二段501號4F（中壢大江國際購物中心4F）', 'name': '中壢大江店'},\n",
       " {'address': '新竹市中央路229號（Big City 遠東巨城購物中心5F）', 'name': '新竹巨城店'},\n",
       " {'address': '台中市三民路三段161號10F、11F（台中中友百貨C棟）', 'name': '台中中友店'},\n",
       " {'address': '台中市西區公益路68號', 'name': '勤美·綠園道店'},\n",
       " {'address': '台中市西區健行路1049號 (金典綠園道B1)', 'name': '台中金典店'},\n",
       " {'address': '雲林縣虎尾鎮林森路一段491號', 'name': '虎尾店'},\n",
       " {'address': '台南市東區中華東路三段360號', 'name': '文化中心店'},\n",
       " {'address': '台南市文平路207號(慈濟中小學旁)', 'name': '台南安平店'},\n",
       " {'address': '高雄市三民區自由一路100號(高雄醫學大學附設中和紀念醫院B1/1F)', 'name': '高雄醫學院店'},\n",
       " {'address': '屏東市中正路72號7F (太平洋百貨7F)', 'name': '屏東太百店'},\n",
       " {'address': '高雄市苓雅區三多四路21號17F（大遠百百貨17F）', 'name': '高雄遠百店'},\n",
       " {'address': '台東市博愛路478號', 'name': '台東店'}]"
      ]
     },
     "execution_count": 8,
     "metadata": {},
     "output_type": "execute_result"
    }
   ],
   "source": [
    "datas"
   ]
  },
  {
   "cell_type": "code",
   "execution_count": 9,
   "metadata": {},
   "outputs": [
    {
     "name": "stdout",
     "output_type": "stream",
     "text": [
      "花蓮市和平路581 23.97814094226446 121.60018533943106\n",
      "台北市大同區南京西路16 25.052580776559633 121.52034395545043\n",
      "高雄市前鎮區三多三路217 22.614333738530924 120.30582472107447\n",
      "臺中市西屯區臺灣大道三段251 24.165051425443142 120.64482359559139\n",
      "新北市林口區文化三路一段356 25.071086712476095 121.36325690524534\n",
      "臺北市大安區忠孝東路四段45 25.04171452596792 121.54487883527611\n",
      "高雄市鹽埕區大勇路3 22.62017323731884 120.28193221784313\n",
      "台南市東區中華東路一段366 22.99122042936694 120.23378986023442\n",
      "臺北市敦化南路一段245 25.039116000000007 121.54910632474453\n",
      "桃園市蘆竹區南崁路一段112 25.052939808528816 121.28770344993919\n",
      "臺北市信義區松高路11 25.039126486005973 121.56585708090483\n",
      "臺北市信義區菸廠路88 25.044954623348286 121.56145717842944\n",
      "臺北市忠孝西路一段47 25.046326727739537 121.51739369401001\n",
      "臺北市萬華區武昌街2段77 25.04507187316061 121.50570295115125\n",
      "臺北市新生南路三段98 25.01697356924808 121.53318365055694\n",
      "臺北市峨嵋街52 25.037370000000067 121.56355000000008\n",
      "臺北市忠孝西路一段49 25.046651452653048 121.51622848835729\n",
      "新北市板橋區中山路一段46 25.0089570843673 121.46073201416695\n",
      "臺北市康寧路三段72 25.0701582470137 121.61145134831789\n",
      "臺北市文林路338 25.092704000836722 121.52574030850018\n",
      "新北市永和區中山路一段238 25.007784946159596 121.50768176741305\n",
      "臺北市大直街70 25.0835852200935 121.54629815361535\n",
      "臺北市中山區敬業三路20 25.083895500000008 121.5564335134249\n",
      "宜蘭縣宜蘭市民權路二段38巷6 24.75436813266778 121.75004202331354\n",
      "新北市板橋區縣民大道二段66 25.01245305632191 121.46294054887743\n",
      "新北市板橋區南雅南路二段21 24.99731983236194 121.45228712323274\n",
      "桃園市中壢區元化路357 24.96235523844401 121.22347195060301\n",
      "桃園市中壢區中園路二段501 25.00072927226046 121.22957759221583\n",
      "新竹市中央路229 24.80911637529539 120.97515139159803\n",
      "台中市三民路三段161 24.1519779841883 120.68498190463981\n",
      "台中市西區公益路68 24.150871526544837 120.66393848889153\n",
      "台中市西區健行路1049 24.15597826115196 120.66282287846937\n",
      "雲林縣虎尾鎮林森路一段491 23.709143390761316 120.43351852804537\n",
      "台南市東區中華東路三段360 22.97371001194522 120.22071161726014\n",
      "台南市文平路207 22.987108655288818 120.17789743352189\n",
      "高雄市三民區自由一路100 22.646292873160604 120.30915811033523\n",
      "屏東市中正路72 22.674097728836063 120.48957810880601\n",
      "高雄市苓雅區三多四路21 22.612940749639424 120.30161597974488\n",
      "台東市博愛路478 22.753930189855065 121.14548678460969\n"
     ]
    }
   ],
   "source": [
    "import geocoder\n",
    "import time\n",
    "for j in range(2):\n",
    "    for i in datas:\n",
    "        if 'lat' not in i:\n",
    "            newAdd=i['address'].split(\"-\")[0].split(\"~\")[0].split(\"、\")[0].split(\"號\")[0]\n",
    "            i['lat'],i['lng']=geocoder.arcgis(newAdd).latlng\n",
    "            print(newAdd,i['lat'],i['lng'])\n",
    "            time.sleep(1)\n",
    "        \n",
    "for i in datas:\n",
    "    if 'lat' not in i:\n",
    "        newAdd=i['address'].split(\"-\")[0].split(\"~\")[0].split(\"、\")[0].split(\"號\")[0]\n",
    "        i['lat'],i['lng']=geocoder.google(newAdd).latlng\n",
    "        print(newAdd,i['lat'],i['lng'])\n",
    "        time.sleep(1.5)"
   ]
  },
  {
   "cell_type": "code",
   "execution_count": 24,
   "metadata": {
    "collapsed": true
   },
   "outputs": [],
   "source": [
    "from pymongo import MongoClient,UpdateOne\n",
    "client=MongoClient(\"192.168.1.113\",27017,username='root',password='850605')"
   ]
  },
  {
   "cell_type": "code",
   "execution_count": 25,
   "metadata": {
    "collapsed": true
   },
   "outputs": [],
   "source": [
    "colle=client.rawData.eslite"
   ]
  },
  {
   "cell_type": "code",
   "execution_count": 26,
   "metadata": {
    "collapsed": true
   },
   "outputs": [],
   "source": [
    "ids=[i['name'] for i in datas]"
   ]
  },
  {
   "cell_type": "code",
   "execution_count": 27,
   "metadata": {
    "collapsed": true
   },
   "outputs": [],
   "source": [
    "operation=[UpdateOne({\"id\":idn},{\"$set\":data},upsert=True) for idn,data in zip(ids,datas)]"
   ]
  },
  {
   "cell_type": "code",
   "execution_count": 28,
   "metadata": {},
   "outputs": [
    {
     "data": {
      "text/plain": [
       "<pymongo.results.BulkWriteResult at 0x80ddec8>"
      ]
     },
     "execution_count": 28,
     "metadata": {},
     "output_type": "execute_result"
    }
   ],
   "source": [
    "colle.bulk_write(operation)"
   ]
  },
  {
   "cell_type": "code",
   "execution_count": 29,
   "metadata": {
    "collapsed": true
   },
   "outputs": [],
   "source": [
    "client.close()"
   ]
  },
  {
   "cell_type": "code",
   "execution_count": 32,
   "metadata": {},
   "outputs": [
    {
     "data": {
      "text/plain": [
       "[{'address': '花蓮市和平路581號2F〈遠東百貨2F〉',\n",
       "  'lat': 23.97814094226446,\n",
       "  'lng': 121.60018533943106,\n",
       "  'name': '誠品生活花蓮遠百店'},\n",
       " {'address': '台北市大同區南京西路16號B1之中山地下街B1-B48號店鋪（不含B24、B26號）',\n",
       "  'lat': 25.052580776559633,\n",
       "  'lng': 121.52034395545043,\n",
       "  'name': '誠品R79'},\n",
       " {'address': '高雄市前鎮區三多三路217號12F (高雄SOGO百貨12F)',\n",
       "  'lat': 22.614333738530924,\n",
       "  'lng': 120.30582472107447,\n",
       "  'name': '高雄SOGO店'},\n",
       " {'address': '臺中市西屯區臺灣大道三段251號',\n",
       "  'lat': 24.165051425443142,\n",
       "  'lng': 120.64482359559139,\n",
       "  'name': '台中大遠百店'},\n",
       " {'address': '新北市林口區文化三路一段356號1F',\n",
       "  'lat': 25.071086712476095,\n",
       "  'lng': 121.36325690524534,\n",
       "  'name': '林口店'},\n",
       " {'address': '臺北市大安區忠孝東路四段45號12F',\n",
       "  'lat': 25.04171452596792,\n",
       "  'lng': 121.54487883527611,\n",
       "  'name': '忠孝SOGO店'},\n",
       " {'address': '高雄市鹽埕區大勇路3號 (駁二藝術特區C4倉庫)',\n",
       "  'lat': 22.62017323731884,\n",
       "  'lng': 120.28193221784313,\n",
       "  'name': '高雄駁二店'},\n",
       " {'address': '台南市東區中華東路一段366號2樓',\n",
       "  'lat': 22.99122042936694,\n",
       "  'lng': 120.23378986023442,\n",
       "  'name': '南紡店'}]"
      ]
     },
     "execution_count": 32,
     "metadata": {},
     "output_type": "execute_result"
    }
   ],
   "source": [
    "datas[:8]"
   ]
  },
  {
   "cell_type": "code",
   "execution_count": null,
   "metadata": {
    "collapsed": true
   },
   "outputs": [],
   "source": []
  }
 ],
 "metadata": {
  "kernelspec": {
   "display_name": "Python 3",
   "language": "python",
   "name": "python3"
  },
  "language_info": {
   "codemirror_mode": {
    "name": "ipython",
    "version": 3
   },
   "file_extension": ".py",
   "mimetype": "text/x-python",
   "name": "python",
   "nbconvert_exporter": "python",
   "pygments_lexer": "ipython3",
   "version": "3.6.4"
  }
 },
 "nbformat": 4,
 "nbformat_minor": 2
}
