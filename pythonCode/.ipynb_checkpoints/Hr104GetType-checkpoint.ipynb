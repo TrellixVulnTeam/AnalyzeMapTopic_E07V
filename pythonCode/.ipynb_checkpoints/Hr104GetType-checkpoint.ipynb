{
 "cells": [
  {
   "cell_type": "code",
   "execution_count": 1,
   "metadata": {
    "collapsed": true
   },
   "outputs": [],
   "source": [
    "from sklearn.datasets import fetch_20newsgroups\n",
    "from sklearn.feature_extraction.text import CountVectorizer\n",
    "from sklearn.feature_extraction.text import TfidfTransformer\n",
    "from sklearn.neighbors.nearest_centroid import NearestCentroid\n",
    "from sklearn.naive_bayes import MultinomialNB\n",
    "from sklearn.neighbors import KNeighborsClassifier\n",
    "from sklearn import svm"
   ]
  },
  {
   "cell_type": "code",
   "execution_count": 2,
   "metadata": {
    "collapsed": true
   },
   "outputs": [],
   "source": [
    "stopwordset = set()\n",
    "with open(r'D:\\dict\\stopwords.txt', 'r') as sw:\n",
    "    for line in sw:\n",
    "        stopwordset.add(line.strip('\\n'))\n",
    "\n",
    "\n",
    "\n",
    "\n",
    "import jieba\n",
    "def cut_text_list(textlist):\n",
    "    textcutlist=[]\n",
    "    words=[\"餐飲\",\"餐廳\",\"集團\",\"小舖\",\"飯店\",\"股份\",\"系統\",\"國際\",\"50嵐\",'和牛','鐵板燒',\"商務\",\"埼玉\",\"拉麵\",\"會社\",\"早午餐\"]\n",
    "    \n",
    "    for word in words:    \n",
    "        jieba.add_word(word)\n",
    "        \n",
    "    newstopwords=[\"有限公司\",'股份','集團',\"服務\",\"安心\",\"分公司\",'企業',\n",
    "                 '_',\"台灣\",\"股份\",\"管理\",\"顧問\",\"店\",\"系統\",\"台北\",\"國際\",\n",
    "                 \"商行\",\"法人\",\"基金\",\"文化\",\"商務\",\"工業\",\"公司\",\"醫院\",\"管理\",\"實業\",\"人才\",\"基金\",\"文教\"]\n",
    "    for stopword in newstopwords:\n",
    "        stopwordset.add(stopword)\n",
    "    \n",
    "    for text in textlist:\n",
    "        cutwords=jieba.cut(text)\n",
    "        \n",
    "        cuttext=\" \".join([word for word in cutwords if word not in stopwordset and '\\u4e00' <= word <= '\\u9fff'])\n",
    "        textcutlist.append(cuttext)\n",
    "    return textcutlist"
   ]
  },
  {
   "cell_type": "code",
   "execution_count": 3,
   "metadata": {},
   "outputs": [
    {
     "data": {
      "text/plain": [
       "['admin', 'local', 'rawData']"
      ]
     },
     "execution_count": 3,
     "metadata": {},
     "output_type": "execute_result"
    }
   ],
   "source": [
    "import pymongo\n",
    "client=pymongo.mongo_client.MongoClient('localhost',27017)\n",
    "client.database_names()"
   ]
  },
  {
   "cell_type": "code",
   "execution_count": 4,
   "metadata": {
    "scrolled": true
   },
   "outputs": [
    {
     "data": {
      "text/plain": [
       "['ipeenWebsite',\n",
       " 'Nhumnan',\n",
       " 'ipeenInfo',\n",
       " 'addressCoordinate',\n",
       " 'HRdata104',\n",
       " 'CostPower',\n",
       " 'Nhuman']"
      ]
     },
     "execution_count": 4,
     "metadata": {},
     "output_type": "execute_result"
    }
   ],
   "source": [
    "db=client.rawData\n",
    "db.collection_names()"
   ]
  },
  {
   "cell_type": "markdown",
   "metadata": {},
   "source": [
    "# 訓練集"
   ]
  },
  {
   "cell_type": "code",
   "execution_count": 5,
   "metadata": {
    "collapsed": true
   },
   "outputs": [],
   "source": [
    "collectionIpeen=db.ipeenInfo\n",
    "ipeenData=list(collectionIpeen.find())"
   ]
  },
  {
   "cell_type": "code",
   "execution_count": 6,
   "metadata": {
    "scrolled": true
   },
   "outputs": [
    {
     "data": {
      "text/plain": [
       "{'Ncomment': 75,\n",
       " '_id': 597032,\n",
       " 'address': '台北市大安區仁愛路四段27巷3號',\n",
       " 'averagecost': 673,\n",
       " 'bigadd': '台北市',\n",
       " 'bigstyle': '中式料理',\n",
       " 'collecount': 719,\n",
       " 'comments': ['http://www.ipeen.com.tw/comment/1550133',\n",
       "  'http://www.ipeen.com.tw/comment/1531625',\n",
       "  'http://www.ipeen.com.tw/comment/1531118',\n",
       "  'http://www.ipeen.com.tw/comment/1531088',\n",
       "  'http://www.ipeen.com.tw/comment/1531070'],\n",
       " 'ipeenscore': 45,\n",
       " 'lat': 25.0388350068,\n",
       " 'lng': 121.54526991892999,\n",
       " 'name': '天下三絕',\n",
       " 'reviewdate': '2015/05/06',\n",
       " 'smalladd': '大安區',\n",
       " 'smallstyle': '麵食點心',\n",
       " 'status': '正常營業',\n",
       " 'tele': '0227416299',\n",
       " 'url': 'http://www.ipeen.com.tw/shop/597032',\n",
       " 'viewcount': 802226}"
      ]
     },
     "execution_count": 6,
     "metadata": {},
     "output_type": "execute_result"
    }
   ],
   "source": [
    "ipeenData[0]"
   ]
  },
  {
   "cell_type": "code",
   "execution_count": 7,
   "metadata": {
    "collapsed": true
   },
   "outputs": [],
   "source": [
    "dienName=list([work['name'].split(\"(\")[0] for work in ipeenData])\n",
    "bigStyleList=list([work['bigstyle'].split(\"(\")[0] for work in ipeenData])\n",
    "smallStyleList=list([work['smallstyle'].split(\"(\")[0] for work in ipeenData])"
   ]
  },
  {
   "cell_type": "code",
   "execution_count": 9,
   "metadata": {},
   "outputs": [],
   "source": [
    "pincutlist=cut_text_list(dienName)"
   ]
  },
  {
   "cell_type": "code",
   "execution_count": 10,
   "metadata": {},
   "outputs": [
    {
     "name": "stdout",
     "output_type": "stream",
     "text": [
      "文字轉向量矩陣\n"
     ]
    }
   ],
   "source": [
    "count_vect=CountVectorizer()\n",
    "X_train_counts=count_vect.fit_transform(pincutlist)\n",
    "print('文字轉向量矩陣')"
   ]
  },
  {
   "cell_type": "code",
   "execution_count": 11,
   "metadata": {},
   "outputs": [
    {
     "name": "stdout",
     "output_type": "stream",
     "text": [
      "tfidf\n"
     ]
    }
   ],
   "source": [
    "tfidf_transformer=TfidfTransformer()\n",
    "X_train_tfidf = tfidf_transformer.fit_transform(X_train_counts)\n",
    "print('tfidf')"
   ]
  },
  {
   "cell_type": "code",
   "execution_count": 12,
   "metadata": {},
   "outputs": [
    {
     "data": {
      "text/plain": [
       "37052"
      ]
     },
     "execution_count": 12,
     "metadata": {},
     "output_type": "execute_result"
    }
   ],
   "source": [
    "len(list(X_train_tfidf))"
   ]
  },
  {
   "cell_type": "markdown",
   "metadata": {},
   "source": [
    "# 測試集"
   ]
  },
  {
   "cell_type": "code",
   "execution_count": 13,
   "metadata": {
    "collapsed": true
   },
   "outputs": [],
   "source": [
    "collectionHR=db.HRdata104\n",
    "HRdata=list(collectionHR.find({}))"
   ]
  },
  {
   "cell_type": "code",
   "execution_count": 14,
   "metadata": {
    "scrolled": true
   },
   "outputs": [
    {
     "data": {
      "text/plain": [
       "[{'APPEAR_DATE': '20180118',\n",
       "  'JOB': '肯德基-活力打工族-台北八德',\n",
       "  'JOBCAT_DESCRIPT': '餐飲服務生',\n",
       "  'JOB_ADDRESS': '八德路一段64號',\n",
       "  'JOB_ADDR_NO_DESCRIPT': '台北市中正區',\n",
       "  'LAT': 25.0438758,\n",
       "  'LON': 121.5314242,\n",
       "  'NAME': '必勝客Pizza Hut/肯德基KFC_富利餐飲股份有限公司',\n",
       "  'PRODUCT': '以活力與熱情的服務態度，提供顧客優質多元的餐飲品項與用餐環境。',\n",
       "  'SAL_MONTH_HIGH': 0,\n",
       "  'SAL_MONTH_LOW': 0,\n",
       "  '_id': ObjectId('5a67f67880b110186c00f2c7'),\n",
       "  'bigadd': '台北市',\n",
       "  'smalladd': '中正區'},\n",
       " {'APPEAR_DATE': '20180119',\n",
       "  'JOB': '懷石創意冷盤料理師傅 (台北店)',\n",
       "  'JOBCAT_DESCRIPT': '日式廚師',\n",
       "  'JOB_ADDRESS': '北平東路14號',\n",
       "  'JOB_ADDR_NO_DESCRIPT': '台北市中正區',\n",
       "  'LAT': 25.0460438,\n",
       "  'LON': 121.5244609,\n",
       "  'NAME': '鈺善閣．素．養生懷石_鈺善閣餐飲有限公司',\n",
       "  'PRODUCT': '《鈺善閣》款待您和您最重要的人！台灣素食領導品牌，以精緻個人式套餐呈現，視覺與味覺雙享受！完全天然食材，堅持不使用素料！\\n 改變的力量:人有善願   天必從之 一念真誠   恆通法界',\n",
       "  'SAL_MONTH_HIGH': 0,\n",
       "  'SAL_MONTH_LOW': 0,\n",
       "  '_id': ObjectId('5a67f67880b110186c00f2c8'),\n",
       "  'bigadd': '台北市',\n",
       "  'smalladd': '中正區'},\n",
       " {'APPEAR_DATE': '20180123',\n",
       "  'JOB': '摩斯國家音樂廳店(122mos)-兼職人員',\n",
       "  'JOBCAT_DESCRIPT': '餐飲服務生',\n",
       "  'JOB_ADDRESS': '中山南路21之1號',\n",
       "  'JOB_ADDR_NO_DESCRIPT': '台北市中正區',\n",
       "  'LAT': 25.034876,\n",
       "  'LON': 121.518001,\n",
       "  'NAME': '摩斯漢堡_安心食品服務股份有限公司',\n",
       "  'PRODUCT': '摩斯漢堡連鎖餐廳之經營。摩斯漢堡為來自日本的速食餐飲品牌，日本消費者評價第一，足稱創造東方美味漢堡的專家，有米漢堡、蜜汁烤雞堡...等多樣化商品。',\n",
       "  'SAL_MONTH_HIGH': 0,\n",
       "  'SAL_MONTH_LOW': 0,\n",
       "  '_id': ObjectId('5a67f67880b110186c00f2c9'),\n",
       "  'bigadd': '台北市',\n",
       "  'smalladd': '中正區'}]"
      ]
     },
     "execution_count": 14,
     "metadata": {},
     "output_type": "execute_result"
    }
   ],
   "source": [
    "HRdata[0:3]"
   ]
  },
  {
   "cell_type": "code",
   "execution_count": 15,
   "metadata": {
    "collapsed": true
   },
   "outputs": [],
   "source": [
    "name=list([work['NAME'] for work in HRdata])\n",
    "hr=list([work['PRODUCT'] for work in HRdata])\n",
    "docs_new=cut_text_list(hr)\n",
    "X_new_counts= count_vect.transform(docs_new)\n",
    "x_new_tfidf=tfidf_transformer.transform(X_new_counts)\n"
   ]
  },
  {
   "cell_type": "code",
   "execution_count": 16,
   "metadata": {},
   "outputs": [
    {
     "data": {
      "text/plain": [
       "'鈺善閣 款待 最 重要 人 素食 領導 品牌 精 緻 人 式 套餐 呈現 視覺 味 覺雙 享受 完全 天然 食材 堅持 使用 素料 改變 力量 人有 善願 天必 一念 真 誠 恆通 法界'"
      ]
     },
     "execution_count": 16,
     "metadata": {},
     "output_type": "execute_result"
    }
   ],
   "source": [
    "docs_new[1]"
   ]
  },
  {
   "cell_type": "code",
   "execution_count": 24,
   "metadata": {},
   "outputs": [
    {
     "data": {
      "text/plain": [
       "0"
      ]
     },
     "execution_count": 24,
     "metadata": {},
     "output_type": "execute_result"
    }
   ],
   "source": [
    "import gc\n",
    "gc.collect()"
   ]
  },
  {
   "cell_type": "markdown",
   "metadata": {},
   "source": [
    "# Roccio"
   ]
  },
  {
   "cell_type": "code",
   "execution_count": 19,
   "metadata": {
    "scrolled": true
   },
   "outputs": [
    {
     "name": "stdout",
     "output_type": "stream",
     "text": [
      "Roccio\n",
      "array(['其他美食', '素食', '速食料理', ..., '亞洲料理', '小吃', '小吃'],\n",
      "      dtype='<U9')\n",
      "0.10900592803955078\n"
     ]
    },
    {
     "data": {
      "text/plain": [
       "Counter({'': 48,\n",
       "         'buffet自助餐': 481,\n",
       "         '中式料理': 1006,\n",
       "         '主題特色餐廳': 2122,\n",
       "         '亞洲料理': 1783,\n",
       "         '其他美食': 3280,\n",
       "         '冰品、飲料、甜湯': 810,\n",
       "         '咖啡、簡餐、茶': 1288,\n",
       "         '小吃': 5694,\n",
       "         '日式料理': 3031,\n",
       "         '早餐': 577,\n",
       "         '烘焙、甜點、零食': 1588,\n",
       "         '燒烤類': 606,\n",
       "         '異國料理': 1531,\n",
       "         '素食': 114,\n",
       "         '速食料理': 533,\n",
       "         '鍋類': 700})"
      ]
     },
     "execution_count": 19,
     "metadata": {},
     "output_type": "execute_result"
    }
   ],
   "source": [
    "from collections import Counter\n",
    "import time\n",
    "import pprint\n",
    "#試用Roccio分群\n",
    "# from sklearn.neighbors.nearest_centroid import NearestCentroid\n",
    "st=time.time()\n",
    "clf = NearestCentroid().fit(X_train_tfidf,bigStyleList)\n",
    "predicted =clf.predict(x_new_tfidf)\n",
    "print(\"Roccio\")\n",
    "pprint.pprint(predicted)\n",
    "ed=time.time()\n",
    "print(ed-st)\n",
    "Counter(predicted)"
   ]
  },
  {
   "cell_type": "markdown",
   "metadata": {},
   "source": [
    "# bayes"
   ]
  },
  {
   "cell_type": "code",
   "execution_count": null,
   "metadata": {
    "collapsed": true
   },
   "outputs": [],
   "source": [
    "st=time.time()\n",
    "clf = MultinomialNB().fit(X_train_tfidf,bigStyleList)\n",
    "predicted =clf.predict(x_new_tfidf)\n",
    "print(\"bayes\")\n",
    "pprint.pprint(predicted)\n",
    "ed=time.time()\n",
    "print(ed-st)\n",
    "Counter(predicted)"
   ]
  },
  {
   "cell_type": "markdown",
   "metadata": {},
   "source": [
    "# KNN"
   ]
  },
  {
   "cell_type": "code",
   "execution_count": null,
   "metadata": {
    "collapsed": true,
    "scrolled": true
   },
   "outputs": [],
   "source": [
    "st=time.time()\n",
    "clf = KNeighborsClassifier(15).fit(X_train_tfidf,bigStyleList)\n",
    "predicted =clf.predict(x_new_tfidf)\n",
    "print(\"Kmeans\")\n",
    "pprint.pprint(predicted)\n",
    "ed=time.time()\n",
    "print(ed-st)\n",
    "Counter(predicted)"
   ]
  },
  {
   "cell_type": "markdown",
   "metadata": {},
   "source": [
    "# SVM"
   ]
  },
  {
   "cell_type": "code",
   "execution_count": null,
   "metadata": {
    "collapsed": true,
    "scrolled": true
   },
   "outputs": [],
   "source": [
    "import time\n",
    "import pprint\n",
    "#試用svm分群\n",
    "# from sklearn import svm\n",
    "st=time.time()\n",
    "clf = svm.SVC(kernel=\"linear\").fit(X_train_tfidf,bigStyleList)\n",
    "predicted =clf.predict(x_new_tfidf)\n",
    "print(\"svm\")\n",
    "pprint.pprint(predicted)\n",
    "ed=time.time()\n",
    "print(ed-st)\n",
    "Counter(predicted)"
   ]
  },
  {
   "cell_type": "code",
   "execution_count": null,
   "metadata": {},
   "outputs": [],
   "source": [
    "for i,j in zip(name,list(predicted)[50:80]):\n",
    "    print(i,j)"
   ]
  },
  {
   "cell_type": "code",
   "execution_count": null,
   "metadata": {},
   "outputs": [],
   "source": [
    "import gc\n",
    "gc.collect()"
   ]
  },
  {
   "cell_type": "code",
   "execution_count": 149,
   "metadata": {},
   "outputs": [
    {
     "data": {
      "text/plain": [
       "array(['美式料理', '飲料專賣店', '其他小吃'],\n",
       "      dtype='<U13')"
      ]
     },
     "execution_count": 149,
     "metadata": {},
     "output_type": "execute_result"
    }
   ],
   "source": [
    "xxx=cut_text_list([\"我家 牛排\",\"清心\",\"西堤\"])\n",
    "xx= count_vect.transform(xxx)\n",
    "x=tfidf_transformer.transform(xx)\n",
    "\n",
    "\n",
    "predicted =clf.predict(x)\n",
    "predicted"
   ]
  },
  {
   "cell_type": "code",
   "execution_count": null,
   "metadata": {
    "collapsed": true
   },
   "outputs": [],
   "source": []
  }
 ],
 "metadata": {
  "kernelspec": {
   "display_name": "Python 3",
   "language": "python",
   "name": "python3"
  },
  "language_info": {
   "codemirror_mode": {
    "name": "ipython",
    "version": 3
   },
   "file_extension": ".py",
   "mimetype": "text/x-python",
   "name": "python",
   "nbconvert_exporter": "python",
   "pygments_lexer": "ipython3",
   "version": "3.6.3"
  }
 },
 "nbformat": 4,
 "nbformat_minor": 2
}
