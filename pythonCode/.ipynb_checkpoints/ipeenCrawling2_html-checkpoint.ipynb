{
 "cells": [
  {
   "cell_type": "code",
   "execution_count": null,
   "metadata": {
    "collapsed": true
   },
   "outputs": [],
   "source": [
    "import json\n",
    "import requests\n",
    "import os\n",
    "from bs4 import BeautifulSoup as bs"
   ]
  },
  {
   "cell_type": "code",
   "execution_count": null,
   "metadata": {
    "collapsed": true
   },
   "outputs": [],
   "source": [
    "if not os.path.exists('../data/html'):\n",
    "    os.makedirs('../data/html')"
   ]
  },
  {
   "cell_type": "code",
   "execution_count": null,
   "metadata": {
    "collapsed": true
   },
   "outputs": [],
   "source": [
    "with open(\"../data/WebsiteSet.json\",\"r\") as f:\n",
    "    ipeenWebsite=json.load(f)"
   ]
  },
  {
   "cell_type": "markdown",
   "metadata": {},
   "source": [
    "# 第一版-待將存檔名改成id"
   ]
  },
  {
   "cell_type": "code",
   "execution_count": null,
   "metadata": {
    "collapsed": true,
    "scrolled": true
   },
   "outputs": [],
   "source": [
    "# for i in ipeenWebsite:\n",
    "#     if not os.path.exists('./data/html/'+i+'.html'):\n",
    "#         res=requests.get(ipeenWebsite[i])\n",
    "#         if res.status_code==200:\n",
    "#             with open(\"./data/html/\"+i+\".html\",\"w\",encoding=\"utf8\") as f:\n",
    "#                 f.write(res.text)\n",
    "#                 print(i)\n",
    "#             res.close()\n",
    "#         else:\n",
    "#             print(res.status_code)\n",
    "#             print(i+\"失敗\")\n",
    "#             res.close()\n",
    "#     else:\n",
    "#         print(i+\"已抓取跳過\")"
   ]
  },
  {
   "cell_type": "code",
   "execution_count": null,
   "metadata": {
    "collapsed": true
   },
   "outputs": [],
   "source": []
  },
  {
   "cell_type": "code",
   "execution_count": null,
   "metadata": {
    "collapsed": true
   },
   "outputs": [],
   "source": [
    "# 將店名網址改成ID名網址\n",
    "# n=0\n",
    "# for i in ipeenWebsite:\n",
    "#     if n%100==0:\n",
    "#         print(n)\n",
    "#     if os.path.exists('./data/html/'+i+'.html'):\n",
    "#         n+=1\n",
    "#         with open('./data/html/'+i+'.html',encoding=\"utf8\") as f:\n",
    "#             with open('./data/html2/'+ipeenWebsite[i].split(\"/\")[-1]+'.html',\"w\",encoding=\"utf8\") as d:\n",
    "#                 d.write(f.read())\n",
    "                \n",
    "                "
   ]
  },
  {
   "cell_type": "markdown",
   "metadata": {},
   "source": [
    "# 第二版 直接存ID 資料存於html2資料夾 (目前抓完約需三整天)"
   ]
  },
  {
   "cell_type": "code",
   "execution_count": null,
   "metadata": {
    "collapsed": true
   },
   "outputs": [],
   "source": [
    "import time\n",
    "import json\n",
    "import requests\n",
    "import os\n",
    "from bs4 import BeautifulSoup as bs\n",
    "\n",
    "#建立儲存網址的地方\n",
    "if not os.path.exists('../data/html2'):\n",
    "    os.makedirs('../data/html2')\n",
    "    \n",
    "#確認共有幾個網址需要抓\n",
    "with open(\"../data/WebsiteSet.json\",\"r\") as f:\n",
    "    ipeenWebsite=json.load(f)\n",
    "    print(\"共有%s資料要抓取\"%len(ipeenWebsite))\n",
    "\n",
    "n=0\n",
    "#將每個網址的網頁抓下來，每30頁睡5秒防ban\n",
    "for i in ipeenWebsite:\n",
    "    if not os.path.exists('../data/html2/'+ipeenWebsite[i].split(\"/\")[-1]+'.html'):\n",
    "        n+=1\n",
    "        if n%15==0:\n",
    "            time.sleep(5)\n",
    "            print(n)\n",
    "        res=requests.get(ipeenWebsite[i])\n",
    "        if res.status_code==200:\n",
    "            with open(\"../data/html2/\"+ipeenWebsite[i].split(\"/\")[-1]+\".html\",\"w\",encoding=\"utf8\") as f:\n",
    "                f.write(res.text)\n",
    "                print(i)\n",
    "            res.close()\n",
    "        else:\n",
    "            print(res.status_code)\n",
    "            print(ipeenWebsite[i].split(\"/\")[-1]+\"失敗\")\n",
    "            res.close()\n",
    "    #過去抓取過的網頁直接跳過\n",
    "    else:\n",
    "        print(i+\"已抓取跳過\")"
   ]
  },
  {
   "cell_type": "code",
   "execution_count": null,
   "metadata": {
    "collapsed": true
   },
   "outputs": [],
   "source": [
    "with open(\"../data/WebsiteSet.json\",\"r\") as f:\n",
    "    ipeenWebsite=json.load(f)"
   ]
  },
  {
   "cell_type": "code",
   "execution_count": null,
   "metadata": {
    "collapsed": true
   },
   "outputs": [],
   "source": [
    "ipeenWebsite"
   ]
  },
  {
   "cell_type": "code",
   "execution_count": null,
   "metadata": {
    "collapsed": true
   },
   "outputs": [],
   "source": []
  },
  {
   "cell_type": "markdown",
   "metadata": {},
   "source": [
    "# try summary"
   ]
  },
  {
   "cell_type": "code",
   "execution_count": null,
   "metadata": {
    "collapsed": true
   },
   "outputs": [],
   "source": [
    "import json\n",
    "import requests\n",
    "import os\n",
    "from bs4 import BeautifulSoup as bs\n",
    "if not os.path.exists('../data/html'):\n",
    "    os.makedirs('../data/html')\n",
    "with open(\"../data/WebsiteSet.json\",\"r\") as f:\n",
    "    ipeenWebsite=json.load(f)\n",
    "    \n",
    "import time\n",
    "import json\n",
    "import requests\n",
    "import os\n",
    "from bs4 import BeautifulSoup as bs\n",
    "\n",
    "#建立儲存網址的地方\n",
    "if not os.path.exists('../data/html2'):\n",
    "    os.makedirs('../data/html2')\n",
    "    \n",
    "#確認共有幾個網址需要抓\n",
    "with open(\"../data/WebsiteSet.json\",\"r\") as f:\n",
    "    ipeenWebsite=json.load(f)\n",
    "    print(\"共有%s資料要抓取\"%len(ipeenWebsite))\n",
    "\n",
    "n=0\n",
    "#將每個網址的網頁抓下來，每30頁睡5秒防ban\n",
    "for i in ipeenWebsite:\n",
    "    if not os.path.exists('../data/html2/'+ipeenWebsite[i].split(\"/\")[-1]+'.html'):\n",
    "        n+=1\n",
    "        if n%15==0:\n",
    "            time.sleep(5)\n",
    "            print(n)\n",
    "        res=requests.get(ipeenWebsite[i])\n",
    "        if res.status_code==200:\n",
    "            with open(\"../data/html2/\"+ipeenWebsite[i].split(\"/\")[-1]+\".html\",\"w\",encoding=\"utf8\") as f:\n",
    "                f.write(res.text)\n",
    "                print(i)\n",
    "            res.close()\n",
    "        else:\n",
    "            print(res.status_code)\n",
    "            print(ipeenWebsite[i].split(\"/\")[-1]+\"失敗\")\n",
    "            res.close()\n",
    "    #過去抓取過的網頁直接跳過\n",
    "    else:\n",
    "        print(i+\"已抓取跳過\")"
   ]
  },
  {
   "cell_type": "code",
   "execution_count": null,
   "metadata": {
    "collapsed": true
   },
   "outputs": [],
   "source": []
  },
  {
   "cell_type": "markdown",
   "metadata": {},
   "source": [
    "# try summary2"
   ]
  },
  {
   "cell_type": "code",
   "execution_count": null,
   "metadata": {
    "scrolled": true
   },
   "outputs": [],
   "source": [
    "import json\n",
    "import requests\n",
    "import os\n",
    "from bs4 import BeautifulSoup as bs    \n",
    "import time\n",
    "import pymongo\n",
    "import re\n",
    "from pymongo import UpdateOne#0125\n",
    "b=time.time()\n",
    "    \n",
    "    \n",
    "#確認共有幾個網址需要抓\n",
    "#連Mongodb\n",
    "client = pymongo.MongoClient('localhost', 27017,username='j122085',password='850605')\n",
    "#連DB名\n",
    "db=client['rawData']\n",
    "#秀DB內的collection list\n",
    "print(db.collection_names())\n",
    "collectionWeb = db.ipeenWebsite\n",
    "ipeenWebsite={dien['_id']:dien[\"website\"] for dien in list(collectionWeb.find({}))}\n",
    "\n",
    "print(\"共有%s資料要抓取\"%len(ipeenWebsite))\n",
    "collectionInfo = db.ipeenInfo\n",
    "dienInfo=list(collectionInfo.find({}))\n",
    "client.close()\n",
    "              \n",
    "dienset=set()         \n",
    "if len(dienInfo)!=0:\n",
    "    dienset=set([dien[\"_id\"] for dien in dienInfo])\n",
    "\n",
    "n=0\n",
    "#將每個網址的網頁抓下來，每30頁睡5秒防ban\n",
    "dienlist=[]\n",
    "for i in ipeenWebsite:\n",
    "    if int(i) not in dienset:\n",
    "#         e=time.time()\n",
    "#         print(int(e-b))\n",
    "#         print(\"連接前\")\n",
    "        try:\n",
    "            res = None\n",
    "            while res is None:\n",
    "                try:\n",
    "                    res=requests.get(ipeenWebsite[i])\n",
    "                    while \"RedisException\" in res.text or \"目前系統忙碌中\" in res.text:\n",
    "                        print(\"requests太頻繁被卡，睡兩分鐘\")\n",
    "                        time.sleep(120)\n",
    "                        res=requests.get(ipeenWebsite[i])\n",
    "                except:\n",
    "                    print(\"requests逾時，睡兩分鐘\")\n",
    "                    time.sleep(120)\n",
    "            if \"很抱歉，找不到此頁面！\" in res.text:\n",
    "                print(\"{}，該頁已死\".format(i))\n",
    "                continue\n",
    "            if res.status_code==200:\n",
    "                n+=1\n",
    "    #             e=time.time()\n",
    "    #             print(int(e-b))\n",
    "    #             print(\"已連接\")\n",
    "                if n%20==0:\n",
    "                    client = pymongo.MongoClient('localhost', 27017,username='j122085',password='850605')\n",
    "                    db=client['rawData']\n",
    "                    collectionInfo = db.ipeenInfo\n",
    "                    try:\n",
    "                        #0125----------------------------\n",
    "                        ids=[data.pop(\"_id\") for data in dienlist]\n",
    "                        operations=[UpdateOne({\"_id\":idn},{'$set':data},upsert=True) for idn ,data in zip(ids,dienlist)]\n",
    "                        collectionInfo.bulk_write(operations)\n",
    "                        #0125----------------------------\n",
    "    #                     collectionInfo.insert_many(dienlist,ordered=False)\n",
    "                    except:\n",
    "                        print(\"RRRRRRRRRRRRRRRRRRRRRR\")#0125\n",
    "    #                     print(\"some data has same _id\")\n",
    "                    dataN=collectionInfo.count()#0125\n",
    "                    client.close()\n",
    "                    print(\"目前有{}筆資料\".format(dataN))#0125\n",
    "    #                 print(\"目前有{}筆資料\".format(len(dienInfo)+n))\n",
    "                    dienlist=[]\n",
    "                    time.sleep(10)\n",
    "                diendata={}\n",
    "                soup=bs(res.text,\"lxml\")\n",
    "                info=soup.select_one(\"#shop-header > div.info\")\n",
    "\n",
    "                diendata[\"_id\"]=int(i)#id\n",
    "                diendata[\"name\"]=info.find('span', attrs={'itemprop': 'name'}).text.replace('\"',\"\")\n",
    "                try:\n",
    "                    diendata['othername']=re.findall(\"\\((\\w*[店|館|門市|百貨|街|夜市|商場|時代|廣場|中心|三越|大學|中|區|高鐵])\\)\",diendata['name'])[0]\n",
    "                except:\n",
    "                    diendata['othername']=0\n",
    "\n",
    "\n",
    "                diendata[\"bigstyle\"]=soup.find('a', attrs={'data-label': '詳細資訊_大分類'}).text\n",
    "                diendata[\"smallstyle\"]=info.find('a', attrs={'data-label': '上方小分類'}).text\n",
    "\n",
    "                try:\n",
    "                    diendata[\"averagecost\"]=int(re.findall(\"本店均消 +([0-9]+) +元\",info.select_one('p.cost.i').text)[0])\n",
    "                except:\n",
    "                    diendata[\"averagecost\"]=0\n",
    "                try:\n",
    "                    diendata[\"tele\"]=info.find('a', attrs={'data-label': '上方電話'}).text.replace(\"-\",\"\").replace(\")\",\"\").replace(\"(\",\"\").replace(\" \",\"\")#tele\n",
    "                except:\n",
    "                    diendata[\"tele\"]=0\n",
    "                try:\n",
    "                    diendata[\"address\"]=info.find('a', attrs={'data-label': '上方地址'}).text.replace(\"\\n\",\" \").strip()\n",
    "    #                 diendata[\"address\"]=re.findall(\"..[市|縣].+[區|市|鎮|鄉].+[路|街|地段|巷|鎮][0-9]+[-|之]?[0-9]*?[號|巷|弄]?[0-9]*[號|巷|弄|樓]\",\n",
    "    #                        info.find('a', attrs={'data-label': '上方地址'}).text)[0]#add\n",
    "                except:\n",
    "                    diendata[\"address\"]=0\n",
    "                #0116新增=================================================\n",
    "                try:\n",
    "                    diendata[\"bigadd\"] = re.findall(\"(..[市|縣])(\\w\\w?\\w?[區|市|鎮|鄉])\",diendata[\"address\"])[0][0]\n",
    "                    diendata[\"smalladd\"] = re.findall(\"(..[市|縣])(\\w\\w?\\w?[區|市|鎮|鄉])\",diendata[\"address\"])[0][1]\n",
    "                except:\n",
    "                    diendata[\"bigadd\"]=0\n",
    "                    diendata[\"smalladd\"]=0\n",
    "                #0116新增=================================================\n",
    "                try:\n",
    "                    diendata[\"lat\"]=float(re.findall(\"\\/c=([0-9]+\\.[0-9]+)\\,([0-9]+\\.[0-9]+)\\/z=\",\n",
    "                                                   info.find('a', attrs={'data-label': '上方地址'})[\"href\"])[0][0])#lat.lng\n",
    "                except:\n",
    "                    diendata[\"lat\"]=0\n",
    "                try:\n",
    "                    diendata[\"lng\"]=float(re.findall(\"\\/c=([0-9]+\\.[0-9]+)\\,([0-9]+\\.[0-9]+)\\/z=\",\n",
    "                                                   info.find('a', attrs={'data-label': '上方地址'})[\"href\"])[0][1])#lat.lng\n",
    "                except:\n",
    "                    diendata[\"lng\"]=0\n",
    "                try:\n",
    "                    diendata[\"Ncomment\"]=int(re.findall(\"會員分享文 \\(([0-9]+)\\)\",soup.text)[0])#Ncomment\n",
    "                except:\n",
    "                    diendata[\"Ncomment\"]=0\n",
    "\n",
    "                #第四版變更---------------------\n",
    "                diendata[\"url\"]=ipeenWebsite[i]\n",
    "    #             commentPage=int(diendata[\"Ncomment\"]/5)+1\n",
    "    #             peenlist=[]\n",
    "    #             for i in range(1,commentPage+1):\n",
    "    #                 url2=diendata[\"url\"]+'/comments?p='+str(i)\n",
    "    #                 res2=requests.get(url2)\n",
    "    #                 n+=1\n",
    "    #                 #每90筆requests資料儲存一次\n",
    "    #                 if n%90==0:\n",
    "    #                     with open(savePath,\"w\") as d:\n",
    "    #                         json.dump(dienlist,d)\n",
    "    #                     print(\"已存%s筆店家資料\"%k)\n",
    "    #                 #每45筆睡5秒，以防ban\n",
    "    #                 if n%30==0:\n",
    "    #                     e=time.time()\n",
    "    #                     print(\"已執行%s秒\"%int(e-b))\n",
    "    #                     time.sleep(5)\n",
    "    #                 if k%1000==0:\n",
    "    #                     with open(\"..\\data\\diendataURL2\\%s.json\"%k,\"w\") as d:\n",
    "    #                         json.dump(dienlist,d)\n",
    "    #                     print(\"%s筆資料已備分\"%k)\n",
    "    #                 if res2.status_code == 200:\n",
    "    #                     soup2=bs(res2.text,'lxml')\n",
    "    #                     res2.close()\n",
    "    #                     pagepeenlist=['http://www.ipeen.com.tw'+i['href'] for i in soup2.select(\"p.summary > a\") \n",
    "    #                                   if \"checkin\" not in i['href']]\n",
    "    #                     peenlist+=pagepeenlist\n",
    "                peenlist=['http://www.ipeen.com.tw'+i['href'] for i in soup.select(\"p.summary > a\") \n",
    "                                      if \"checkin\" not in i['href']]\n",
    "                diendata[\"comments\"]=peenlist\n",
    "                #第四版變更---------------------  \n",
    "                diendata[\"ipeenscore\"]=int(info.select_one(\"span.score-bar.large > meter\")['value'])#ipeenscore\n",
    "                if \"已歇業\" in info.select_one(\"h1\").text:\n",
    "                    diendata[\"status\"]=\"結束營業\"\n",
    "                elif \"已搬遷\" in info.select_one(\"h1\").text:\n",
    "                    diendata[\"status\"]=\"已搬遷\"\n",
    "                else:\n",
    "                    diendata[\"status\"]=\"正常營業\"\n",
    "                diendata[\"viewcount\"]=int(re.findall(\"共([0-9]+)人瀏覽([0-9]+)人收藏\",info.select_one(\"div.scalar\").text.\n",
    "                           replace(\",\",\"\").replace(\"\\n\",\"\").replace(\" \",\"\"))[0][0])#viewcount\n",
    "                diendata[\"collecount\"]=int(re.findall(\"共([0-9]+)人瀏覽([0-9]+)人收藏\",info.select_one(\"div.scalar\").text.\n",
    "                           replace(\",\",\"\").replace(\"\\n\",\"\").replace(\" \",\"\"))[0][1])#collecount\n",
    "                diendata[\"reviewdate\"]=re.findall(\"更新時間(\\d{4}\\/\\d{2}\\/\\d{2})\",soup.select_one(\"div#shop-details\").text.\n",
    "                           replace(\"\\n\",\"\").replace(\" \",\"\"))[0]#renewdate\n",
    "                dienlist.append(diendata)\n",
    "                res.close()\n",
    "    #             e=time.time()\n",
    "    #             print(int(e-b))\n",
    "    #             print(\"已爬取\")\n",
    "                print(i)\n",
    "            else:\n",
    "                print(res.status_code)\n",
    "                print(i+\"失敗\")\n",
    "                res.close()\n",
    "                print(\"request出錯，睡30秒\")\n",
    "                time.sleep(30)\n",
    "        except:\n",
    "            print(\"{}，該頁已死\".format(i))\n",
    "            continue\n",
    "    #過去抓取過的網頁直接跳過\n",
    "    else:\n",
    "#         print(i+\"已抓取跳過\")\n",
    "        pass\n",
    "        \n",
    "client = pymongo.MongoClient('localhost', 27017,username='j122085',password='850605')\n",
    "db=client['rawData']\n",
    "collectionInfo = db.ipeenInfo\n",
    "try:\n",
    "    #0125----------------------------\n",
    "    ids=[data.pop(\"_id\") for data in dienlist]\n",
    "    operations=[UpdateOne({\"_id\":idn},{'$set':data},upsert=True) for idn ,data in zip(ids,dienlist)]\n",
    "    collectionInfo.bulk_write(operations)\n",
    "    #0125----------------------------\n",
    "#                     collectionInfo.insert_many(dienlist,ordered=False)\n",
    "except:\n",
    "    print(\"RRRRRRRRRRRRRRRRRRRRRR\")#0125\n",
    "#                     print(\"some data has same _id\")\n",
    "dataN=collectionInfo.count()#0125\n",
    "#0126-------------------------------------------------------------每次抓取完畢後，統計類型\n",
    "ipeenData=list(collectionInfo.find({}))\n",
    "bigStyleCount = dict(Counter([dien['bigstyle'] for dien in ipeenData if dien['status'] == \"正常營業\"\n",
    "                                                 and dien['lat'] > 18\n",
    "                                                 and dien['lat'] < 27\n",
    "                                                 and dien['lng'] < 125\n",
    "                                                 and dien['lng'] > 117\n",
    "                                                 and dien['bigadd'] != 0\n",
    "                                                 and dien['smalladd'] != 0]))\n",
    "smallStyleCount = dict(Counter([dien['smallstyle'] for dien in ipeenData if dien['status'] == \"正常營業\"\n",
    "                                                 and dien['lat'] > 18\n",
    "                                                 and dien['lat'] < 27\n",
    "                                                 and dien['lng'] < 125\n",
    "                                                 and dien['lng'] > 117\n",
    "                                                 and dien['bigadd'] != 0\n",
    "                                                 and dien['smalladd'] != 0]))\n",
    "\n",
    "nowdate=time.strftime(\"%Y%m%d\", time.localtime())\n",
    "bigStyleCount['_id']=nowdate\n",
    "smallStyleCount['_id']=nowdate\n",
    "try:\n",
    "    db.smallStyleCount.insert_one(smallStyleCount)\n",
    "    db.bigStyleCount.insert_one(bigStyleCount)\n",
    "except:\n",
    "    pass\n",
    "#0126-------------------------------------------------------------\n",
    "client.close()\n",
    "print(\"共有{}筆資料\".format(dataN))"
   ]
  },
  {
   "cell_type": "code",
   "execution_count": 1,
   "metadata": {},
   "outputs": [
    {
     "name": "stdout",
     "output_type": "stream",
     "text": [
      "['ipeenWebsite', 'bigStyleCount', 'ipeenInfo', 'smallStyleCount', 'addressCoordinate', 'HRdata104', 'CostPower', 'Nhuman']\n"
     ]
    }
   ],
   "source": [
    "import pymongo\n",
    "client = pymongo.MongoClient('localhost', 27017,username='j122085',password='850605')\n",
    "#連DB名\n",
    "db=client['rawData']\n",
    "#秀DB內的collection list\n",
    "print(db.collection_names())\n",
    "\n",
    "# collectionInfo = db.ipeenInfo\n",
    "# ipeenInfo=list(collectionInfo.find({}))"
   ]
  },
  {
   "cell_type": "code",
   "execution_count": null,
   "metadata": {
    "collapsed": true
   },
   "outputs": [],
   "source": []
  }
 ],
 "metadata": {
  "kernelspec": {
   "display_name": "Python 3",
   "language": "python",
   "name": "python3"
  },
  "language_info": {
   "codemirror_mode": {
    "name": "ipython",
    "version": 3
   },
   "file_extension": ".py",
   "mimetype": "text/x-python",
   "name": "python",
   "nbconvert_exporter": "python",
   "pygments_lexer": "ipython3",
   "version": "3.6.3"
  }
 },
 "nbformat": 4,
 "nbformat_minor": 2
}
