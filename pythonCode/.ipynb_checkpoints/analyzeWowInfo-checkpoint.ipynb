{
 "cells": [
  {
   "cell_type": "code",
   "execution_count": 1,
   "metadata": {
    "collapsed": true
   },
   "outputs": [],
   "source": [
    "import json\n",
    "import pymongo\n",
    "from math import radians, cos, sin, asin, sqrt\n",
    "import numpy\n",
    "import math\n",
    "from collections import Counter"
   ]
  },
  {
   "cell_type": "code",
   "execution_count": 2,
   "metadata": {
    "collapsed": true
   },
   "outputs": [],
   "source": [
    "def haversine(lng1, lat1, lng2, lat2):\n",
    "    # 将十进制度数转化为弧度\n",
    "    lng1, lat1, lng2, lat2 = map(radians, [lng1, lat1, lng2, lat2])\n",
    "    # haversine公式\n",
    "    dlng = lng2 - lng1\n",
    "    dlat = lat2 - lat1\n",
    "    a = sin(dlat / 2) ** 2 + cos(lat1) * cos(lat2) * sin(dlng / 2) ** 2\n",
    "    c = 2 * asin(sqrt(a))\n",
    "    r = 6371  # 地球平均半径，单位为公里\n",
    "    return c * r * 1000"
   ]
  },
  {
   "cell_type": "code",
   "execution_count": 11,
   "metadata": {},
   "outputs": [
    {
     "data": {
      "text/plain": [
       "['busData',\n",
       " 'HRdata104',\n",
       " 'wowprimediendata',\n",
       " 'departmentStore',\n",
       " 'smallStyleCount',\n",
       " 'addressCoordinate',\n",
       " 'Nhuman',\n",
       " 'ipeenWebsite',\n",
       " 'bigStyleCount',\n",
       " 'ipeenInfo',\n",
       " 'conStore',\n",
       " 'testDB',\n",
       " 'CostPower']"
      ]
     },
     "execution_count": 11,
     "metadata": {},
     "output_type": "execute_result"
    }
   ],
   "source": [
    "queryElements={}\n",
    "client = pymongo.mongo_client.MongoClient(\"localhost\", 27017,username='j122085',password='850605')\n",
    "db=client.rawData\n",
    "db.collection_names()"
   ]
  },
  {
   "cell_type": "code",
   "execution_count": 3,
   "metadata": {},
   "outputs": [
    {
     "data": {
      "text/plain": [
       "{'Ncomment': 118,\n",
       " 'address': '台北市信義區忠孝東路五段10號10樓',\n",
       " 'averagecost': 1210,\n",
       " 'bigadd': '台北市',\n",
       " 'bigstyle': 'buffet自助餐',\n",
       " 'collecount': 739,\n",
       " 'comments': ['http://www.ipeen.com.tw/comment/1360256',\n",
       "  'http://www.ipeen.com.tw/comment/1260569',\n",
       "  'http://www.ipeen.com.tw/comment/1241048',\n",
       "  'http://www.ipeen.com.tw/comment/1197122',\n",
       "  'http://www.ipeen.com.tw/comment/1186946'],\n",
       " 'id': 95584,\n",
       " 'ipeenscore': 45,\n",
       " 'lat': 25.040763368711964,\n",
       " 'lng': 121.56571445244984,\n",
       " 'name': '台北W飯店 - the kitchen table 西餐廳',\n",
       " 'reviewdate': '2016/09/01',\n",
       " 'smalladd': '信義區',\n",
       " 'smallstyle': '複合式',\n",
       " 'status': '正常營業',\n",
       " 'tele': '0277038887',\n",
       " 'url': 'http://www.ipeen.com.tw/shop/95584',\n",
       " 'viewcount': 8987274}"
      ]
     },
     "execution_count": 3,
     "metadata": {},
     "output_type": "execute_result"
    }
   ],
   "source": [
    "# collection = client.rawData.wowprimeipeen\n",
    "collection = client.rawData.ipeenInfo\n",
    "ipeendata = list(collection.find(queryElements))\n",
    "client.close()\n",
    "ipeendata = [dien for dien in ipeendata if dien['status'] == \"正常營業\"\n",
    "                                         and dien['lat'] > 18\n",
    "                                         and dien['lat'] < 27\n",
    "                                         and dien['lng'] < 125\n",
    "                                         and dien['lng'] > 117\n",
    "                                         and dien['bigadd'] != 0\n",
    "                                         and dien['smalladd'] != 0\n",
    "                                         and dien['averagecost']<8000]\n",
    "\n",
    "for dien in ipeendata:\n",
    "    dien[\"id\"] = dien.pop(\"_id\")\n",
    "ipeendata[3]"
   ]
  },
  {
   "cell_type": "code",
   "execution_count": 4,
   "metadata": {},
   "outputs": [
    {
     "data": {
      "text/plain": [
       "{'APPEAR_DATE': '20180222',\n",
       " 'DESCRIPTION': '陶板屋台北重慶南店\\n誠    徵：大廳計時人員\\n工作內容：協助現場顧客服務、外場營運協助等。\\n工作時段：(依營運需求彈性排班,工作時間面試詳洽)\\n\\n◎ 全日班-1名\\n(10:30~14:30 及 17:00~22:00)\\n◎ 假日班-1名\\n(10:30~14:30 及 17:00~22:00) \\n◎ 早班-1名\\n(10:30~14:30)\\n◎ 晚班-1名\\n(17:00~22:00)\\n\\n學/經 歷：高中職以上,具服務熱忱。',\n",
       " 'J': '4460426b56363f5631323a6344543618638704226443640212121211f382b2625381j52',\n",
       " 'JOB': '陶板屋台北重慶南店-大廳計時人員',\n",
       " 'JOBCAT_DESCRIPT': '餐飲服務生',\n",
       " 'JOB_ADDRESS': '重慶南路一段58號2樓',\n",
       " 'JOB_ADDR_NO_DESCRIPT': '台北市中正區',\n",
       " 'NAME': '王品餐飲股份有限公司',\n",
       " 'SAL_MONTH_HIGH': 26400,\n",
       " 'SAL_MONTH_LOW': 24800,\n",
       " 'bigadd': '台北市',\n",
       " 'bigstyle': '咖啡、簡餐、茶',\n",
       " 'lat': 25.043903,\n",
       " 'lng': 121.513078,\n",
       " 'smalladd': '中正區'}"
      ]
     },
     "execution_count": 4,
     "metadata": {},
     "output_type": "execute_result"
    }
   ],
   "source": [
    "client = pymongo.mongo_client.MongoClient(\"localhost\", 27017,username='j122085',password='850605')\n",
    "collection = client.rawData.HRdata104\n",
    "hr104data = list(collection.find(queryElements))\n",
    "client.close()\n",
    "hr104data = [dien for dien in hr104data if dien['LAT'] > 18\n",
    "             and dien['LAT'] < 27\n",
    "             and dien['SAL_MONTH_LOW'] > 18000\n",
    "             and dien['SAL_MONTH_LOW'] < 100000\n",
    "             and dien['SAL_MONTH_HIGH'] > 18000\n",
    "             and dien['SAL_MONTH_HIGH'] < 200000\n",
    "             and dien['LON'] < 125\n",
    "             and dien['LON'] > 117\n",
    "             and dien['bigadd'] != 0\n",
    "             and dien['smalladd'] != 0]\n",
    "\n",
    "\n",
    "\n",
    "for dien in hr104data:\n",
    "    dien[\"lat\"] = dien.pop(\"LAT\")\n",
    "    dien[\"lng\"] = dien.pop(\"LON\")\n",
    "    del dien[\"_id\"]\n",
    "hr104data[5]"
   ]
  },
  {
   "cell_type": "code",
   "execution_count": 5,
   "metadata": {},
   "outputs": [
    {
     "data": {
      "text/plain": [
       "{'add': '新北市板橋區新興里',\n",
       " 'bigadd': '新北市',\n",
       " 'lat': 25.0076421,\n",
       " 'lng': 121.4549022,\n",
       " 'smalladd': '板橋區',\n",
       " 'weight': 3337}"
      ]
     },
     "execution_count": 5,
     "metadata": {},
     "output_type": "execute_result"
    }
   ],
   "source": [
    "client = pymongo.mongo_client.MongoClient(\"localhost\", 27017,username='j122085',password='850605')\n",
    "collection = client.rawData.Nhuman\n",
    "Nhumandata = list(collection.find(queryElements))\n",
    "client.close()\n",
    "for dien in Nhumandata:\n",
    "    dien[\"weight\"] = int(dien.pop(\"Nhuman\"))\n",
    "    dien[\"add\"] = dien.pop(\"_id\")\n",
    "Nhumandata[5]"
   ]
  },
  {
   "cell_type": "code",
   "execution_count": 6,
   "metadata": {},
   "outputs": [
    {
     "data": {
      "text/plain": [
       "{'add': '臺北市士林區舊佳里',\n",
       " 'bigadd': '台北市',\n",
       " 'lat': 25.0973296,\n",
       " 'lng': 121.5248678,\n",
       " 'smalladd': '士林區',\n",
       " 'weight': 68}"
      ]
     },
     "execution_count": 6,
     "metadata": {},
     "output_type": "execute_result"
    }
   ],
   "source": [
    "client = pymongo.mongo_client.MongoClient(\"localhost\", 27017,username='j122085',password='850605')\n",
    "collection = client.rawData.CostPower\n",
    "CostPowerdata = list(collection.find(queryElements))\n",
    "client.close()\n",
    "for dien in CostPowerdata:\n",
    "    dien[\"weight\"] = int(dien.pop('costPower'))\n",
    "    dien[\"add\"] = dien.pop(\"_id\")\n",
    "CostPowerdata[5]"
   ]
  },
  {
   "cell_type": "code",
   "execution_count": 12,
   "metadata": {},
   "outputs": [
    {
     "data": {
      "text/plain": [
       "{'_id': '東新國小',\n",
       " 'bigCity': '臺北市',\n",
       " 'lat': 25.05746843,\n",
       " 'lng': 121.6020404,\n",
       " 'stationName': '東新國小'}"
      ]
     },
     "execution_count": 12,
     "metadata": {},
     "output_type": "execute_result"
    }
   ],
   "source": [
    "client = pymongo.mongo_client.MongoClient(\"localhost\", 27017,username='j122085',password='850605')\n",
    "collection = client.rawData.busData\n",
    "busData = list(collection.find(queryElements))\n",
    "client.close()\n",
    "busData[5]\n",
    "# ['busData',\n",
    "#  'HRdata104',\n",
    "#  'wowprimediendata',\n",
    "#  'departmentStore',\n",
    "#  'smallStyleCount',\n",
    "#  'addressCoordinate',\n",
    "#  'Nhuman',\n",
    "#  'ipeenWebsite',\n",
    "#  'bigStyleCount',\n",
    "#  'ipeenInfo',\n",
    "#  'conStore',\n",
    "#  'testDB',\n",
    "#  'CostPower']"
   ]
  },
  {
   "cell_type": "code",
   "execution_count": 26,
   "metadata": {},
   "outputs": [
    {
     "data": {
      "text/plain": [
       "{'_id': '高雄市前鎮區草衙里后安路１４６',\n",
       " 'add': '高雄市前鎮區草衙里后安路１４６',\n",
       " 'bigadd': '高雄市',\n",
       " 'lat': '25.086368784991',\n",
       " 'lng': '121.52553924517',\n",
       " 'name': '統一超商股份有限公司',\n",
       " 'smalladd': '前鎮區'}"
      ]
     },
     "execution_count": 26,
     "metadata": {},
     "output_type": "execute_result"
    }
   ],
   "source": [
    "client = pymongo.mongo_client.MongoClient(\"localhost\", 27017,username='j122085',password='850605')\n",
    "collection = client.rawData.conStore\n",
    "busData = list(collection.find(queryElements))\n",
    "client.close()\n",
    "busData[5]"
   ]
  },
  {
   "cell_type": "code",
   "execution_count": 7,
   "metadata": {},
   "outputs": [
    {
     "data": {
      "text/plain": [
       "{'Address': '新北市新店區民權路86號2樓',\n",
       " 'AreaManager': '王至誠',\n",
       " 'Called': '原燒',\n",
       " 'CareerName': '原燒事業處',\n",
       " 'CareerNo': '102',\n",
       " 'Chef': '郭炳志',\n",
       " 'CloseDate': 'None',\n",
       " 'CodeId': 'F',\n",
       " 'CorporationId': '27492204',\n",
       " 'Corporation_ch': '原燒新店民權分公司',\n",
       " 'CreateDate': '2018-02-02 08:46:12.987000',\n",
       " 'ItemName': '百貨點',\n",
       " 'Manager': '吳憲政',\n",
       " 'NcostData_Analyze': 27,\n",
       " 'Nhuman_Analyze': 243950,\n",
       " 'Njob_Analyze': 103,\n",
       " 'Phone': '02-22191613',\n",
       " 'PlaceNo': '33',\n",
       " 'StoreName': '新店民權',\n",
       " 'StoreNo': '10202',\n",
       " '_id': '10202',\n",
       " 'areaRadius_Analyze': 2000,\n",
       " 'avgCost_Analyze': 121.0,\n",
       " 'avgDailyCustomer': 147,\n",
       " 'avgDailyMeal': 122,\n",
       " 'avgDailyNet': 94435,\n",
       " 'avgSalary_Analyze': 29884.0,\n",
       " 'bigadd': '新北市',\n",
       " 'costPower_Analyze': 49.0,\n",
       " 'income': '5000000',\n",
       " 'lastYearRevenue': 33066877,\n",
       " 'lat': 24.9832568,\n",
       " 'lng': 121.5370956,\n",
       " 'mostStyle_Analyze': '中式料理',\n",
       " 'smalladd': '新店區'}"
      ]
     },
     "execution_count": 7,
     "metadata": {},
     "output_type": "execute_result"
    }
   ],
   "source": [
    "client = pymongo.mongo_client.MongoClient(\"localhost\", 27017, username='j122085', password='850605')\n",
    "collection = client.rawData.wowprimediendata\n",
    "wowDiensData = list(collection.find({'CloseDate':'None',\"lat\": {\"$gt\": 1}}))\n",
    "wowDiensData=[dien for dien in wowDiensData if \"A\" not in dien['StoreNo'] and dien['StoreNo'][0]!='3']\n",
    "wowDiensData[0]"
   ]
  },
  {
   "cell_type": "code",
   "execution_count": 8,
   "metadata": {},
   "outputs": [
    {
     "data": {
      "text/plain": [
       "{'CooK BEEF!',\n",
       " 'hot 7',\n",
       " 'ita義塔',\n",
       " '乍牛',\n",
       " '其他事業處',\n",
       " '原燒',\n",
       " '品田牧場',\n",
       " '夏慕尼',\n",
       " '沐越',\n",
       " '王品',\n",
       " '石二鍋',\n",
       " '聚',\n",
       " '舒果',\n",
       " '舒果新加坡',\n",
       " '莆田',\n",
       " '蔬果截切配送中心',\n",
       " '藝奇',\n",
       " '陶板屋',\n",
       " '青花驕',\n",
       " '麻佬大',\n",
       " 'ＴＡＳＴｙ'}"
      ]
     },
     "execution_count": 8,
     "metadata": {},
     "output_type": "execute_result"
    }
   ],
   "source": [
    "set([i['Called'] for i in wowDiensData])"
   ]
  },
  {
   "cell_type": "code",
   "execution_count": 9,
   "metadata": {},
   "outputs": [
    {
     "name": "stdout",
     "output_type": "stream",
     "text": [
      "請輸入品牌名稱:\n",
      "半徑範圍(公尺):2000\n",
      "有281筆資料要分析\n",
      "已完成30項分析\n"
     ]
    },
    {
     "name": "stderr",
     "output_type": "stream",
     "text": [
      "D:\\anaconda\\lib\\site-packages\\numpy\\core\\fromnumeric.py:2957: RuntimeWarning: Mean of empty slice.\n",
      "  out=out, **kwargs)\n",
      "D:\\anaconda\\lib\\site-packages\\numpy\\core\\_methods.py:80: RuntimeWarning: invalid value encountered in double_scalars\n",
      "  ret = ret.dtype.type(ret / rcount)\n"
     ]
    },
    {
     "name": "stdout",
     "output_type": "stream",
     "text": [
      "已完成60項分析\n",
      "已完成90項分析\n",
      "已完成120項分析\n",
      "已完成150項分析\n",
      "已完成180項分析\n",
      "已完成210項分析\n",
      "已完成240項分析\n",
      "已完成270項分析\n"
     ]
    }
   ],
   "source": [
    "import numpy\n",
    "import math\n",
    "from collections import Counter\n",
    "x=[]\n",
    "queryDien=input(\"請輸入品牌名稱:\")\n",
    "radius=int(input(\"半徑範圍(公尺):\"))\n",
    "if queryDien!=\"\":\n",
    "    wowData=[i for i in wowDiensData if i['Called']==queryDien]\n",
    "else:\n",
    "    wowData=wowDiensData\n",
    "    queryDien=\"全品牌\"\n",
    "print(\"有{}筆資料要分析\".format(len(wowData)))\n",
    "n=0\n",
    "for wowDein in wowData:\n",
    "    n+=1\n",
    "    if n%30==0:\n",
    "        print(\"已完成{}項分析\".format(n))\n",
    "    y={}\n",
    "    y['店代號']=wowDein[\"_id\"]\n",
    "    y[\"事業處\"]=wowDein['Called']\n",
    "    y[\"分店名\"]=wowDein['StoreName']\n",
    "    y[\"地址\"]=wowDein['Address']\n",
    "    y['電話']=wowDein['Phone']\n",
    "#     y[\"區管理者\"]=wowDein['AreaManager']\n",
    "#     y[\"廚師\"]=wowDein['Chef']\n",
    "    try:\n",
    "        y['每日均_營收淨額(ADS)']=wowDein['avgDailyNet']\n",
    "        y['每日均_顧客量(ADGC)']=wowDein['avgDailyCustomer']\n",
    "#         y['每日均_客量']=wowDein['avgDailyMeal']\n",
    "    except:\n",
    "        pass\n",
    "    y[\"半徑範圍(公尺)\"]=radius\n",
    "    \n",
    "    \n",
    "    dienCostPower = round(numpy.mean([dien['weight'] for dien in CostPowerdata if haversine(lng1=dien[\"lng\"],\n",
    "                                                                 lat1=dien[\"lat\"],\n",
    "                                                                 lng2=wowDein[\"lng\"],\n",
    "                                                                 lat2=wowDein[\"lat\"]) <= radius]))\n",
    "    if not math.isnan(dienCostPower):\n",
    "        y[\"消費力\"]=dienCostPower\n",
    "        \n",
    "    y[\"消費力筆數\"]=len([dien['weight'] for dien in CostPowerdata if haversine(lng1=dien[\"lng\"],\n",
    "                                                                 lat1=dien[\"lat\"],\n",
    "                                                                 lng2=wowDein[\"lng\"],\n",
    "                                                                 lat2=wowDein[\"lat\"]) <= radius])\n",
    "    \n",
    "    \n",
    "    dienHuman = sum([dien['weight'] for dien in Nhumandata if haversine(lng1=dien[\"lng\"],\n",
    "                                                                 lat1=dien[\"lat\"],\n",
    "                                                                 lng2=wowDein[\"lng\"],\n",
    "                                                                 lat2=wowDein[\"lat\"]) <= radius])\n",
    "    y['人口數']=dienHuman \n",
    "    \n",
    "    \n",
    "    \n",
    "    avgSalary = round(numpy.mean([dien['SAL_MONTH_LOW']*1/3+dien['SAL_MONTH_HIGH']*2/3 for dien in hr104data if haversine(lng1=dien[\"lng\"],\n",
    "                                                                 lat1=dien[\"lat\"],\n",
    "                                                                 lng2=wowDein[\"lng\"],\n",
    "                                                                 lat2=wowDein[\"lat\"]) <= radius]))\n",
    "    if not math.isnan(avgSalary):\n",
    "        y['餐飲業平均薪資(2/3最低+1/3最高)']=avgSalary \n",
    "        \n",
    "    y['餐飲業徵才筆數']=len([dien['SAL_MONTH_LOW']*1/3+dien['SAL_MONTH_HIGH']*2/3 for dien in hr104data if haversine(lng1=dien[\"lng\"],\n",
    "                                                                 lat1=dien[\"lat\"],\n",
    "                                                                 lng2=wowDein[\"lng\"],\n",
    "                                                                 lat2=wowDein[\"lat\"]) <= radius])\n",
    "    \n",
    "    \n",
    "    avgCost = round(numpy.mean([dien['averagecost'] for dien in ipeendata if haversine(lng1=dien[\"lng\"],\n",
    "                                                                 lat1=dien[\"lat\"],\n",
    "                                                                 lng2=wowDein[\"lng\"],\n",
    "                                                                 lat2=wowDein[\"lat\"]) <= radius]))\n",
    "    if not math.isnan(avgCost):\n",
    "        y['餐飲業平均消費']=avgCost\n",
    "    \n",
    "    try:\n",
    "        mostStyle=Counter([dien['bigstyle'] for dien in ipeendata if haversine(lng1=dien[\"lng\"],\n",
    "                                                                     lat1=dien[\"lat\"],\n",
    "                                                                     lng2=wowDein[\"lng\"],\n",
    "                                                                     lat2=wowDein[\"lat\"]) <= radius]).most_common(1)[0][0]\n",
    "    except:\n",
    "        mostStyle=\"\"\n",
    "    y['最多品類']=mostStyle\n",
    "    \n",
    "    \n",
    "    \n",
    "    x.append(y)\n",
    "    \n",
    "    "
   ]
  },
  {
   "cell_type": "code",
   "execution_count": 15,
   "metadata": {},
   "outputs": [
    {
     "name": "stdout",
     "output_type": "stream",
     "text": [
      "儲存完畢\n"
     ]
    }
   ],
   "source": [
    "import pandas as pd\n",
    "df = pd.DataFrame(x)\n",
    "df=df.reindex(columns=['店代號','事業處','分店名','地址','電話','半徑範圍(公尺)','每日均_營收淨額','每日均_顧客量','每日均_客量',\n",
    "                       '消費力','消費力筆數','人口數','餐飲業平均薪資(2/3最低+1/3最高)','餐飲業徵才筆數','餐飲業平均消費','最多品類']) #,'區管理者',\"廚師\"\n",
    "writer = pd.ExcelWriter('../data/'+queryDien+'.xlsx', engine='xlsxwriter')\n",
    "df.to_excel(writer, sheet_name='Sheet1')\n",
    "writer.save()\n",
    "print(\"儲存完畢\")"
   ]
  },
  {
   "cell_type": "code",
   "execution_count": 65,
   "metadata": {
    "scrolled": true
   },
   "outputs": [
    {
     "data": {
      "text/plain": [
       "[{'事業處': '原燒',\n",
       "  '分店名': '新店民權',\n",
       "  '半徑範圍(公尺)': 2000,\n",
       "  '地址': '新北市新店區民權路86號2樓',\n",
       "  '平均薪資': 29884.0,\n",
       "  '店代號': '10202',\n",
       "  '廚師': '郭炳志',\n",
       "  '徵才筆數': 103,\n",
       "  '最多品類': '中式料理',\n",
       "  '消費力': 49.0,\n",
       "  '消費力筆數': 27,\n",
       "  '管理者': '王至誠',\n",
       "  '範圍人口數': 243950,\n",
       "  '電話': '02-22191613',\n",
       "  '餐飲業平均消費': 121.0},\n",
       " {'事業處': '原燒',\n",
       "  '分店名': '台中市政北',\n",
       "  '半徑範圍(公尺)': 2000,\n",
       "  '地址': '台中市西屯區市政北一路一號2樓',\n",
       "  '平均薪資': 28599.0,\n",
       "  '店代號': '10203',\n",
       "  '廚師': '莊鎮源',\n",
       "  '徵才筆數': 568,\n",
       "  '最多品類': '咖啡、簡餐、茶',\n",
       "  '消費力': 79.0,\n",
       "  '消費力筆數': 33,\n",
       "  '管理者': '蕭明泰',\n",
       "  '範圍人口數': 223146,\n",
       "  '電話': '04-22586886',\n",
       "  '餐飲業平均消費': 163.0},\n",
       " {'事業處': '原燒',\n",
       "  '分店名': '板橋館前東',\n",
       "  '半徑範圍(公尺)': 2000,\n",
       "  '地址': '新北市板橋區館前東路96號1樓',\n",
       "  '平均薪資': 29591.0,\n",
       "  '店代號': '10204',\n",
       "  '廚師': '鄭伊浚',\n",
       "  '徵才筆數': 240,\n",
       "  '最多品類': '小吃',\n",
       "  '消費力': 54.0,\n",
       "  '消費力筆數': 48,\n",
       "  '管理者': '王至誠',\n",
       "  '範圍人口數': 404374,\n",
       "  '電話': '02-29598558',\n",
       "  '餐飲業平均消費': 136.0},\n",
       " {'事業處': '原燒',\n",
       "  '分店名': '高雄中山',\n",
       "  '半徑範圍(公尺)': 2000,\n",
       "  '地址': '高雄市中山二路410號1、2樓',\n",
       "  '平均薪資': 27994.0,\n",
       "  '店代號': '10205',\n",
       "  '廚師': '黃文杰',\n",
       "  '徵才筆數': 214,\n",
       "  '最多品類': '中式料理',\n",
       "  '消費力': 52.0,\n",
       "  '消費力筆數': 65,\n",
       "  '管理者': '蕭明泰',\n",
       "  '範圍人口數': 204444,\n",
       "  '電話': '07-3322058',\n",
       "  '餐飲業平均消費': 133.0},\n",
       " {'事業處': '原燒',\n",
       "  '分店名': '台北京華城',\n",
       "  '半徑範圍(公尺)': 2000,\n",
       "  '地址': '台北市松山區八德路四段138號8樓',\n",
       "  '平均薪資': 29882.0,\n",
       "  '店代號': '10206',\n",
       "  '廚師': '蕭翔蔚',\n",
       "  '徵才筆數': 1313,\n",
       "  '最多品類': '中式料理',\n",
       "  '消費力': 68.0,\n",
       "  '消費力筆數': 60,\n",
       "  '管理者': '王至誠',\n",
       "  '範圍人口數': 392861,\n",
       "  '電話': '02-37621577',\n",
       "  '餐飲業平均消費': 248.0}]"
      ]
     },
     "execution_count": 65,
     "metadata": {},
     "output_type": "execute_result"
    }
   ],
   "source": [
    "x[:5]"
   ]
  },
  {
   "cell_type": "code",
   "execution_count": null,
   "metadata": {
    "collapsed": true
   },
   "outputs": [],
   "source": []
  },
  {
   "cell_type": "markdown",
   "metadata": {},
   "source": [
    "# 直接存進mongo內"
   ]
  },
  {
   "cell_type": "code",
   "execution_count": 32,
   "metadata": {
    "scrolled": true
   },
   "outputs": [
    {
     "name": "stdout",
     "output_type": "stream",
     "text": [
      "有281筆資料要分析\n",
      "已完成15項分析\n",
      "已完成30項分析\n"
     ]
    },
    {
     "name": "stderr",
     "output_type": "stream",
     "text": [
      "D:\\anaconda\\lib\\site-packages\\numpy\\core\\fromnumeric.py:2957: RuntimeWarning: Mean of empty slice.\n",
      "  out=out, **kwargs)\n",
      "D:\\anaconda\\lib\\site-packages\\numpy\\core\\_methods.py:80: RuntimeWarning: invalid value encountered in double_scalars\n",
      "  ret = ret.dtype.type(ret / rcount)\n"
     ]
    },
    {
     "name": "stdout",
     "output_type": "stream",
     "text": [
      "已完成45項分析\n",
      "已完成60項分析\n",
      "已完成75項分析\n",
      "已完成90項分析\n",
      "已完成105項分析\n",
      "已完成120項分析\n",
      "已完成135項分析\n",
      "已完成150項分析\n",
      "已完成165項分析\n",
      "已完成180項分析\n",
      "已完成195項分析\n",
      "已完成210項分析\n",
      "已完成225項分析\n",
      "已完成240項分析\n",
      "已完成255項分析\n",
      "已完成270項分析\n",
      "352.77499985694885\n"
     ]
    }
   ],
   "source": [
    "import json\n",
    "import pymongo\n",
    "from pymongo import UpdateOne\n",
    "import numpy\n",
    "import math\n",
    "from math import radians, cos, sin, asin, sqrt\n",
    "from collections import Counter\n",
    "import time\n",
    "import sys\n",
    "from email.mime.text import MIMEText\n",
    "from email.mime.multipart import MIMEMultipart\n",
    "from email.message import EmailMessage\n",
    "import smtplib\n",
    "\n",
    "def haversine(lng1, lat1, lng2, lat2):\n",
    "    # 将十进制度数转化为弧度\n",
    "    lng1, lat1, lng2, lat2 = map(radians, [lng1, lat1, lng2, lat2])\n",
    "    # haversine公式\n",
    "    dlng = lng2 - lng1\n",
    "    dlat = lat2 - lat1\n",
    "    a = sin(dlat / 2) ** 2 + cos(lat1) * cos(lat2) * sin(dlng / 2) ** 2\n",
    "    c = 2 * asin(sqrt(a))\n",
    "    r = 6371  # 地球平均半径，单位为公里\n",
    "    return c * r * 1000\n",
    "\n",
    "\n",
    "b=time.time()\n",
    "def mailTo(title,mailAdds,message,whoSend='AutoAddInsurance'):\n",
    "    msg = MIMEMultipart()    \n",
    "    sender = whoSend\n",
    "    subject = title\n",
    "    body = message\n",
    "    msg['From'] = sender\n",
    "    msg['To'] = ','.join(mailAdds)\n",
    "    msg['Subject'] = subject\n",
    "    msg.attach(MIMEText(body, 'plain'))\n",
    "    text=msg.as_string()\n",
    "    #print text\n",
    "    # Send the message via our SMTP server\n",
    "    s = smtplib.SMTP('192.168.2.1',25)\n",
    "    s.sendmail(sender,mailAdds, text)\n",
    "    s.quit()  \n",
    "\n",
    "try:\n",
    "    ######################################################IPEEN\n",
    "    b=time.time()\n",
    "    queryElements = {}\n",
    "    client = pymongo.mongo_client.MongoClient(\"localhost\", 27017, username='j122085', password='850605')\n",
    "    # collection = client.rawData.wowprimeipeen\n",
    "    collection = client.rawData.ipeenInfo\n",
    "    ipeendata = list(collection.find(queryElements))\n",
    "    ipeendata = [dien for dien in ipeendata if dien['status'] == \"正常營業\"\n",
    "                 and dien['lat'] > 18\n",
    "                 and dien['lat'] < 27\n",
    "                 and dien['lng'] < 125\n",
    "                 and dien['lng'] > 117\n",
    "                 and dien['bigadd'] != 0\n",
    "                 and dien['smalladd'] != 0\n",
    "                 and dien['averagecost'] < 8000]\n",
    "\n",
    "    for dien in ipeendata:\n",
    "        dien[\"id\"] = dien.pop(\"_id\")\n",
    "    ######################################################IPEEN\n",
    "    ######################################################104\n",
    "    collection = client.rawData.HRdata104\n",
    "    hr104data = list(collection.find(queryElements))\n",
    "    hr104data = [dien for dien in hr104data if dien['LAT'] > 18\n",
    "                 and dien['LAT'] < 27\n",
    "                 and dien['SAL_MONTH_LOW'] > 18000\n",
    "                 and dien['SAL_MONTH_LOW'] < 100000\n",
    "                 and dien['SAL_MONTH_HIGH'] > 18000\n",
    "                 and dien['SAL_MONTH_HIGH'] < 200000\n",
    "                 and dien['LON'] < 125\n",
    "                 and dien['LON'] > 117\n",
    "                 and dien['bigadd'] != 0\n",
    "                 and dien['smalladd'] != 0]\n",
    "\n",
    "    for dien in hr104data:\n",
    "        dien[\"lat\"] = dien.pop(\"LAT\")\n",
    "        dien[\"lng\"] = dien.pop(\"LON\")\n",
    "        del dien[\"_id\"]\n",
    "    ######################################################104\n",
    "    ######################################################Nhuman\n",
    "    collection = client.rawData.Nhuman\n",
    "    Nhumandata = list(collection.find(queryElements))\n",
    "    for dien in Nhumandata:\n",
    "        dien[\"weight\"] = int(dien.pop(\"Nhuman\"))\n",
    "        dien[\"add\"] = dien.pop(\"_id\")\n",
    "    ######################################################Nhuman\n",
    "    ######################################################CostPower\n",
    "    collection = client.rawData.CostPower\n",
    "    CostPowerdata = list(collection.find(queryElements))\n",
    "    for dien in CostPowerdata:\n",
    "        dien[\"weight\"] = int(dien.pop('costPower'))\n",
    "        dien[\"add\"] = dien.pop(\"_id\")\n",
    "    ######################################################CostPower\n",
    "    ######################################################Bus0320\n",
    "    collection = client.rawData.busData\n",
    "    busData = list(collection.find(queryElements))\n",
    "    for dien in busData:\n",
    "        dien[\"add\"] = dien.pop(\"_id\")\n",
    "    ######################################################Bus0320\n",
    "    ######################################################conStore0320\n",
    "    collection = client.rawData.conStore\n",
    "    conStoreData = list(collection.find(queryElements))\n",
    "    for dien in conStoreData:\n",
    "        dien.pop(\"_id\")\n",
    "    ######################################################conStore0320\n",
    "    ######################################################Wow\n",
    "    collection = client.rawData.wowprimediendata\n",
    "    wowDiensData = list(collection.find({'CloseDate': 'None', \"lat\": {\"$gt\": 1}}))\n",
    "    wowDiensData = [dien for dien in wowDiensData if \"A\" not in dien['StoreNo'] and dien['StoreNo'][0] != '3']\n",
    "\n",
    "    x = []\n",
    "    queryDien = \"\"#input(\"請輸入品牌名稱:\")\n",
    "    radius = 2000#int(input(\"半徑範圍(公尺):\"))\n",
    "    if queryDien != \"\":\n",
    "        wowDiensData = [i for i in wowDiensData if i['Called'] == queryDien]\n",
    "    else:\n",
    "        queryDien = \"全品牌\"\n",
    "    print(\"有{}筆資料要分析\".format(len(wowDiensData)))\n",
    "    n = 0\n",
    "    for wowDien in wowDiensData:\n",
    "        n += 1\n",
    "        if n % 15 == 0:\n",
    "            print(\"已完成{}項分析\".format(n))\n",
    "        wowDien[\"areaRadius_Analyze\"] = radius\n",
    "        dienCostPower = round(numpy.mean([dien['weight'] for dien in CostPowerdata if haversine(lng1=dien[\"lng\"],\n",
    "                                                                                                lat1=dien[\"lat\"],\n",
    "                                                                                                lng2=wowDien[\"lng\"],\n",
    "                                                                                                lat2=wowDien[\n",
    "                                                                                                    \"lat\"]) <= radius and 'weight' in dien]))\n",
    "\n",
    "        if not math.isnan(dienCostPower):\n",
    "            wowDien[\"costPower_Analyze\"] = dienCostPower\n",
    "        wowDien[\"NcostData_Analyze\"] = len([dien['weight'] for dien in CostPowerdata if haversine(lng1=dien[\"lng\"],\n",
    "                                                                                lat1=dien[\"lat\"],\n",
    "                                                                                lng2=wowDien[\"lng\"],\n",
    "                                                                                lat2=wowDien[\"lat\"]) <= radius and 'weight' in dien])\n",
    "        \n",
    "        dienHuman = sum([dien['weight'] for dien in Nhumandata if haversine(lng1=dien[\"lng\"],\n",
    "                                                                            lat1=dien[\"lat\"],\n",
    "                                                                            lng2=wowDien[\"lng\"],\n",
    "                                                                            lat2=wowDien[\"lat\"]) <= radius and 'weight' in dien])\n",
    "        wowDien['Nhuman_Analyze'] = dienHuman\n",
    "\n",
    "        avgSalary = round(numpy.mean(\n",
    "            [dien['SAL_MONTH_LOW'] * 1 / 3 + dien['SAL_MONTH_HIGH'] * 2 / 3 for dien in hr104data if\n",
    "             haversine(lng1=dien[\"lng\"],\n",
    "                       lat1=dien[\"lat\"],\n",
    "                       lng2=wowDien[\"lng\"],\n",
    "                       lat2=wowDien[\"lat\"]) <= radius and 'SAL_MONTH_HIGH' in dien and 'SAL_MONTH_LOW' in dien]))\n",
    "        if not math.isnan(avgSalary):\n",
    "            wowDien['avgSalary_Analyze'] = avgSalary\n",
    "\n",
    "        wowDien['Njob_Analyze'] = len([dien['SAL_MONTH_LOW'] * 1 / 3 + dien['SAL_MONTH_HIGH'] * 2 / 3 for dien in hr104data if\n",
    "                            haversine(lng1=dien[\"lng\"],\n",
    "                                      lat1=dien[\"lat\"],\n",
    "                                      lng2=wowDien[\"lng\"],\n",
    "                                      lat2=wowDien[\"lat\"]) <= radius and 'SAL_MONTH_HIGH' in dien  and 'SAL_MONTH_LOW' in dien])\n",
    "\n",
    "        avgCost = round(numpy.mean([dien['averagecost'] for dien in ipeendata if haversine(lng1=dien[\"lng\"],\n",
    "                                                                                           lat1=dien[\"lat\"],\n",
    "                                                                                           lng2=wowDien[\"lng\"],\n",
    "                                                                                           lat2=wowDien[\n",
    "                                                                                               \"lat\"]) <= radius and 'averagecost' in dien]))\n",
    "        if not math.isnan(avgCost):\n",
    "            wowDien['avgCost_Analyze'] = avgCost\n",
    "\n",
    "        try:\n",
    "            mostStyle = Counter([dien['bigstyle'] for dien in ipeendata if haversine(lng1=dien[\"lng\"],\n",
    "                                                                                     lat1=dien[\"lat\"],\n",
    "                                                                                     lng2=wowDien[\"lng\"],\n",
    "                                                                                     lat2=wowDien[\n",
    "                                                                                         \"lat\"]) <= radius and 'bigstyle' in dien]).most_common(1)[0][0]\n",
    "        except:\n",
    "            mostStyle = \"\"\n",
    "        wowDien['mostStyle_Analyze'] = mostStyle\n",
    "        \n",
    "        ###############################################################################################################0320\n",
    "        wowDien[\"NbusStation_Analyze\"] = len([dien['stationName'] for dien in busData if \"lng\" in dien and haversine(lng1=dien[\"lng\"],\n",
    "                                                                                lat1=dien[\"lat\"],\n",
    "                                                                                lng2=wowDien[\"lng\"],\n",
    "                                                                                lat2=wowDien[\"lat\"]) <= 500])#0326 change radius\n",
    "        \n",
    "        wowDien[\"NconStore_Analyze\"] = len([dien['name'] for dien in conStoreData if \"lng\" in dien and haversine(lng1=float(dien[\"lng\"]),\n",
    "                                                                                lat1=float(dien[\"lat\"]),\n",
    "                                                                                lng2=wowDien[\"lng\"],\n",
    "                                                                                lat2=wowDien[\"lat\"]) <= radius])\n",
    "#         conStoreData\n",
    "        wowDien[\"Nstar_Analyze\"] = len([dien['name'] for dien in ipeendata \n",
    "                                if '星巴' in dien['name'] \n",
    "                                and haversine(lng1=dien[\"lng\"],\n",
    "                                              lat1=dien[\"lat\"],\n",
    "                                              lng2=wowDien[\"lng\"],\n",
    "                                              lat2=wowDien[\"lat\"]) <= radius])\n",
    "        wowDien[\"Nmc_Analyze\"] = len([dien['name'] for dien in ipeendata \n",
    "                                if '麥當' in dien['name'] \n",
    "                                and haversine(lng1=dien[\"lng\"],\n",
    "                                              lat1=dien[\"lat\"],\n",
    "                                              lng2=wowDien[\"lng\"],\n",
    "                                              lat2=wowDien[\"lat\"]) <= radius])\n",
    "        wowDien[\"Nken_Analyze\"] = len([dien['name'] for dien in ipeendata \n",
    "                                if '肯德' in dien['name'] \n",
    "                                and haversine(lng1=dien[\"lng\"],\n",
    "                                              lat1=dien[\"lat\"],\n",
    "                                              lng2=wowDien[\"lng\"],\n",
    "                                              lat2=wowDien[\"lat\"]) <= radius])\n",
    "        wowDien[\"Nwa_Analyze\"] = len([dien['name'] for dien in ipeendata \n",
    "                                if '瓦城泰' in dien['name'] \n",
    "                                and haversine(lng1=dien[\"lng\"],\n",
    "                                              lat1=dien[\"lat\"],\n",
    "                                              lng2=wowDien[\"lng\"],\n",
    "                                              lat2=wowDien[\"lat\"]) <= radius])\n",
    "        ################################################################################################################0320\n",
    "        \n",
    "        \n",
    "        \n",
    "        \n",
    "        e = time.time()\n",
    "    print(e-b)\n",
    "\n",
    "\n",
    "    ids=[data.pop(\"_id\") for data in wowDiensData]\n",
    "    operations=[UpdateOne({\"_id\":idn},{'$set':data},upsert=True) for idn ,data in zip(ids,wowDiensData)]\n",
    "    try:\n",
    "        collection.bulk_write(operations ,ordered=False)\n",
    "    except Exception as er:\n",
    "        print(er)\n",
    "\n",
    "    alldata=list(collection.find({}))\n",
    "\n",
    "    client.close()\n",
    "    \n",
    "    mailTo(title=\"analyzeWowDataSuccess\",mailAdds=[\"andy.yuan@wowprime.com\"],message=\"分析完畢_耗時{}秒\".format(e-b),whoSend='analyzeWowData')\n",
    "except Exception as er:\n",
    "    errorMsg=str(er)+\"出錯位置:\"+str(sys.exc_info()[2].tb_lineno)\n",
    "    mailTo(title=\"analyzeWowDataFail\",mailAdds=[\"andy.yuan@wowprime.com\"],message=errorMsg,whoSend='analyzeWowData')"
   ]
  },
  {
   "cell_type": "markdown",
   "metadata": {},
   "source": [
    "# 以下試玩回歸"
   ]
  },
  {
   "cell_type": "code",
   "execution_count": 33,
   "metadata": {
    "collapsed": true
   },
   "outputs": [],
   "source": [
    "import pymongo\n",
    "client = pymongo.mongo_client.MongoClient(\"localhost\", 27017,username='j122085',password='850605')\n",
    "collections=client.rawData.wowprimediendata\n",
    "data=list(collections.find({}))"
   ]
  },
  {
   "cell_type": "code",
   "execution_count": 34,
   "metadata": {
    "collapsed": true
   },
   "outputs": [],
   "source": [
    "data=[i for i in data if i['CloseDate']==\"None\" \n",
    "      and \"A\" not in i['StoreNo'] \n",
    "      and \"B\" not in i['StoreNo'] \n",
    "      and i['StoreNo'][0]!='3' \n",
    "      and i['StoreNo'][:2]!='19' \n",
    "      and i['StoreNo'][:2]!='41'\n",
    "      and i['Called']!='曼咖啡'\n",
    "      and i['Called']!='泰國陶板屋'\n",
    "      and i['Called']!='新創事業處'\n",
    "      and i['Called']!='美國原燒'\n",
    "     ]"
   ]
  },
  {
   "cell_type": "code",
   "execution_count": 35,
   "metadata": {
    "scrolled": true
   },
   "outputs": [
    {
     "name": "stdout",
     "output_type": "stream",
     "text": [
      "{'聚', 'ＴＡＳＴｙ', '陶板屋', '莆田', '青花驕', '石二鍋', '夏慕尼', '舒果', '藝奇', 'ita義塔', '乍牛', '沐越', 'hot 7', '王品', 'CooK BEEF!', '麻佬大', '品田牧場', '原燒'}\n"
     ]
    },
    {
     "data": {
      "text/plain": [
       "{'Address': '新北市板橋區館前東路96號1樓',\n",
       " 'AreaManager': '王至誠',\n",
       " 'Called': '原燒',\n",
       " 'CareerName': '原燒事業處',\n",
       " 'CareerNo': '102',\n",
       " 'Chef': '鄭伊浚',\n",
       " 'CloseDate': 'None',\n",
       " 'CodeId': 'F',\n",
       " 'CorporationId': '41486956',\n",
       " 'Corporation_ch': '原燒板橋館前東店',\n",
       " 'CreateDate': '2018-02-02 08:46:13.233000',\n",
       " 'ItemName': '百貨點',\n",
       " 'Manager': '吳憲政',\n",
       " 'NbusStation_Analyze': 165,\n",
       " 'NconStore_Analyze': 221,\n",
       " 'NcostData_Analyze': 48,\n",
       " 'Nhuman_Analyze': 404374,\n",
       " 'Njob_Analyze': 240,\n",
       " 'Nken_Analyze': 3,\n",
       " 'Nmc_Analyze': 6,\n",
       " 'Nstar_Analyze': 8,\n",
       " 'Nwa_Analyze': 3,\n",
       " 'Phone': '02-29598558',\n",
       " 'PlaceNo': '30',\n",
       " 'StoreName': '板橋館前東',\n",
       " 'StoreNo': '10204',\n",
       " '_id': '10204',\n",
       " 'areaRadius_Analyze': 2000,\n",
       " 'avgCost_Analyze': 136.0,\n",
       " 'avgDailyCustomer': 157,\n",
       " 'avgDailyMeal': 134,\n",
       " 'avgDailyNet': 105236,\n",
       " 'avgSalary_Analyze': 29591.0,\n",
       " 'bigadd': '新北市',\n",
       " 'costPower_Analyze': 54.0,\n",
       " 'lastYearRevenue': 40378431,\n",
       " 'lat': 25.0074218,\n",
       " 'lng': 121.4624007,\n",
       " 'mostStyle_Analyze': '小吃',\n",
       " 'smalladd': '板橋區'}"
      ]
     },
     "execution_count": 35,
     "metadata": {},
     "output_type": "execute_result"
    }
   ],
   "source": [
    "print(set([i['Called'] for i in data]))\n",
    "data[2]"
   ]
  },
  {
   "cell_type": "code",
   "execution_count": 211,
   "metadata": {
    "scrolled": true
   },
   "outputs": [
    {
     "data": {
      "text/plain": [
       "{'Address': '桃園市復興路190、190之1、192、194號',\n",
       " 'AreaManager': '王至誠',\n",
       " 'Called': '原燒',\n",
       " 'CareerName': '原燒事業處',\n",
       " 'CareerNo': '102',\n",
       " 'Chef': '鄭信宏',\n",
       " 'CloseDate': 'None',\n",
       " 'CodeId': 'H',\n",
       " 'CorporationId': '28144133',\n",
       " 'Corporation_ch': '原燒桃園復興分公司',\n",
       " 'CreateDate': '2018-02-02 08:46:13.747000',\n",
       " 'ItemName': '百貨點',\n",
       " 'Manager': '吳憲政',\n",
       " 'NcostData_Analyze': 33,\n",
       " 'Nhuman_Analyze': 189479,\n",
       " 'Njob_Analyze': 124,\n",
       " 'Phone': '03-3357957',\n",
       " 'PlaceNo': '39',\n",
       " 'StoreName': '桃園復興',\n",
       " 'StoreNo': '10207',\n",
       " '_id': '10207',\n",
       " 'areaRadius_Analyze': 2000,\n",
       " 'avgCost_Analyze': 130.0,\n",
       " 'avgDailyCustomer': 123,\n",
       " 'avgDailyMeal': 105,\n",
       " 'avgDailyNet': 82705,\n",
       " 'avgSalary_Analyze': 27436.0,\n",
       " 'bigadd': '桃園市',\n",
       " 'costPower_Analyze': 59.0,\n",
       " 'lastYearRevenue': 30180943,\n",
       " 'lat': 24.9536959,\n",
       " 'lng': 121.223226,\n",
       " 'mostStyle_Analyze': '小吃',\n",
       " 'smalladd': '桃園區'}"
      ]
     },
     "execution_count": 211,
     "metadata": {},
     "output_type": "execute_result"
    }
   ],
   "source": [
    "data[5]"
   ]
  },
  {
   "cell_type": "code",
   "execution_count": 205,
   "metadata": {},
   "outputs": [
    {
     "data": {
      "text/plain": [
       "{'夏慕尼台中大隆分公司': {'消費力': 75.0, '營收': 204141},\n",
       " '夏慕尼台中文心分公司': {'消費力': 65.0, '營收': 227544},\n",
       " '夏慕尼台北中山北分公司': {'消費力': 71.0, '營收': 332748},\n",
       " '夏慕尼台北忠孝東': {'消費力': 73.0, '營收': 222255},\n",
       " '夏慕尼板橋民生分公司': {'消費力': 54.0, '營收': 271042},\n",
       " '夏慕尼高雄五福分公司': {'消費力': 50.0, '營收': 321154},\n",
       " '陶板屋板橋捷運新埔店': {'消費力': 56.0, '營收': 215205},\n",
       " '青花驕台北中山北店': {'消費力': 71.0, '營收': 258175}}"
      ]
     },
     "execution_count": 205,
     "metadata": {},
     "output_type": "execute_result"
    }
   ],
   "source": [
    "{i['Corporation_ch']:{'營收':i['avgDailyNet'],'消費力':i['costPower_Analyze']} for i in data if 'avgDailyNet' in i and i['avgDailyNet']>200000 }"
   ]
  },
  {
   "cell_type": "code",
   "execution_count": 191,
   "metadata": {
    "scrolled": false
   },
   "outputs": [
    {
     "name": "stderr",
     "output_type": "stream",
     "text": [
      "D:\\anaconda\\lib\\site-packages\\scipy\\stats\\stats.py:3021: RuntimeWarning: invalid value encountered in double_scalars\n",
      "  r = r_num / r_den\n",
      "D:\\anaconda\\lib\\site-packages\\scipy\\stats\\stats.py:5277: RuntimeWarning: invalid value encountered in less\n",
      "  x = np.where(x < 1.0, x, 1.0)  # if x > 1 then return 1.0\n"
     ]
    }
   ],
   "source": [
    "import scipy.stats as stats\n",
    "import pandas as pd\n",
    "getCov=[]\n",
    "for called in set([i['Called'] for i in data]):\n",
    "    x={}\n",
    "    yearRevenueList=[i['avgDailyNet'] for i in data if 'avgDailyNet' in i \n",
    "                     and 'costPower_Analyze' in i \n",
    "                     and i['NcostData_Analyze']>20\n",
    "                     and i['Called']==called]\n",
    "    costPowerList=[i['costPower_Analyze'] for i in data if 'avgDailyNet' in i \n",
    "                   and 'costPower_Analyze' in i \n",
    "                   and i['NcostData_Analyze']>20\n",
    "                   and i['Called']==called]\n",
    "    x['品牌']=called\n",
    "    x['資料筆數']=str(len(costPowerList))\n",
    "    x['ADS_vs_消費力_相關係數']=round(stats.pearsonr(yearRevenueList,costPowerList)[0],3)\n",
    "    getCov.append(x)\n",
    "    \n",
    "    \n",
    "df=pd.DataFrame(getCov)\n",
    "\n",
    "writer = pd.ExcelWriter('output.xlsx')\n",
    "df.to_excel(writer,'Sheet1')\n",
    "writer.save()"
   ]
  },
  {
   "cell_type": "code",
   "execution_count": null,
   "metadata": {
    "collapsed": true
   },
   "outputs": [],
   "source": [
    "get_median"
   ]
  },
  {
   "cell_type": "code",
   "execution_count": 192,
   "metadata": {},
   "outputs": [
    {
     "data": {
      "text/html": [
       "<div>\n",
       "<style>\n",
       "    .dataframe thead tr:only-child th {\n",
       "        text-align: right;\n",
       "    }\n",
       "\n",
       "    .dataframe thead th {\n",
       "        text-align: left;\n",
       "    }\n",
       "\n",
       "    .dataframe tbody tr th {\n",
       "        vertical-align: top;\n",
       "    }\n",
       "</style>\n",
       "<table border=\"1\" class=\"dataframe\">\n",
       "  <thead>\n",
       "    <tr style=\"text-align: right;\">\n",
       "      <th></th>\n",
       "      <th>ADS_vs_消費力_相關係數</th>\n",
       "      <th>品牌</th>\n",
       "      <th>資料筆數</th>\n",
       "    </tr>\n",
       "  </thead>\n",
       "  <tbody>\n",
       "    <tr>\n",
       "      <th>0</th>\n",
       "      <td>NaN</td>\n",
       "      <td>沐越</td>\n",
       "      <td>1</td>\n",
       "    </tr>\n",
       "    <tr>\n",
       "      <th>1</th>\n",
       "      <td>-0.180</td>\n",
       "      <td>莆田</td>\n",
       "      <td>3</td>\n",
       "    </tr>\n",
       "    <tr>\n",
       "      <th>2</th>\n",
       "      <td>NaN</td>\n",
       "      <td>青花驕</td>\n",
       "      <td>1</td>\n",
       "    </tr>\n",
       "    <tr>\n",
       "      <th>3</th>\n",
       "      <td>-0.351</td>\n",
       "      <td>王品</td>\n",
       "      <td>12</td>\n",
       "    </tr>\n",
       "    <tr>\n",
       "      <th>4</th>\n",
       "      <td>0.120</td>\n",
       "      <td>夏慕尼</td>\n",
       "      <td>12</td>\n",
       "    </tr>\n",
       "    <tr>\n",
       "      <th>5</th>\n",
       "      <td>0.180</td>\n",
       "      <td>陶板屋</td>\n",
       "      <td>19</td>\n",
       "    </tr>\n",
       "    <tr>\n",
       "      <th>6</th>\n",
       "      <td>0.621</td>\n",
       "      <td>CooK BEEF!</td>\n",
       "      <td>5</td>\n",
       "    </tr>\n",
       "    <tr>\n",
       "      <th>7</th>\n",
       "      <td>0.212</td>\n",
       "      <td>原燒</td>\n",
       "      <td>14</td>\n",
       "    </tr>\n",
       "    <tr>\n",
       "      <th>8</th>\n",
       "      <td>0.621</td>\n",
       "      <td>乍牛</td>\n",
       "      <td>3</td>\n",
       "    </tr>\n",
       "    <tr>\n",
       "      <th>9</th>\n",
       "      <td>1.000</td>\n",
       "      <td>ita義塔</td>\n",
       "      <td>2</td>\n",
       "    </tr>\n",
       "    <tr>\n",
       "      <th>10</th>\n",
       "      <td>0.250</td>\n",
       "      <td>ＴＡＳＴｙ</td>\n",
       "      <td>23</td>\n",
       "    </tr>\n",
       "    <tr>\n",
       "      <th>11</th>\n",
       "      <td>0.008</td>\n",
       "      <td>品田牧場</td>\n",
       "      <td>13</td>\n",
       "    </tr>\n",
       "    <tr>\n",
       "      <th>12</th>\n",
       "      <td>0.937</td>\n",
       "      <td>麻佬大</td>\n",
       "      <td>4</td>\n",
       "    </tr>\n",
       "    <tr>\n",
       "      <th>13</th>\n",
       "      <td>0.028</td>\n",
       "      <td>hot 7</td>\n",
       "      <td>12</td>\n",
       "    </tr>\n",
       "    <tr>\n",
       "      <th>14</th>\n",
       "      <td>0.077</td>\n",
       "      <td>聚</td>\n",
       "      <td>12</td>\n",
       "    </tr>\n",
       "    <tr>\n",
       "      <th>15</th>\n",
       "      <td>0.043</td>\n",
       "      <td>舒果</td>\n",
       "      <td>4</td>\n",
       "    </tr>\n",
       "    <tr>\n",
       "      <th>16</th>\n",
       "      <td>0.080</td>\n",
       "      <td>藝奇</td>\n",
       "      <td>7</td>\n",
       "    </tr>\n",
       "    <tr>\n",
       "      <th>17</th>\n",
       "      <td>0.174</td>\n",
       "      <td>石二鍋</td>\n",
       "      <td>29</td>\n",
       "    </tr>\n",
       "  </tbody>\n",
       "</table>\n",
       "</div>"
      ],
      "text/plain": [
       "    ADS_vs_消費力_相關係數          品牌 資料筆數\n",
       "0               NaN          沐越    1\n",
       "1            -0.180          莆田    3\n",
       "2               NaN         青花驕    1\n",
       "3            -0.351          王品   12\n",
       "4             0.120         夏慕尼   12\n",
       "5             0.180         陶板屋   19\n",
       "6             0.621  CooK BEEF!    5\n",
       "7             0.212          原燒   14\n",
       "8             0.621          乍牛    3\n",
       "9             1.000       ita義塔    2\n",
       "10            0.250       ＴＡＳＴｙ   23\n",
       "11            0.008        品田牧場   13\n",
       "12            0.937         麻佬大    4\n",
       "13            0.028       hot 7   12\n",
       "14            0.077           聚   12\n",
       "15            0.043          舒果    4\n",
       "16            0.080          藝奇    7\n",
       "17            0.174         石二鍋   29"
      ]
     },
     "execution_count": 192,
     "metadata": {},
     "output_type": "execute_result"
    }
   ],
   "source": [
    "df"
   ]
  },
  {
   "cell_type": "code",
   "execution_count": 151,
   "metadata": {},
   "outputs": [
    {
     "name": "stdout",
     "output_type": "stream",
     "text": [
      "[ 60028  54633  49622  61390  67790  54921  62109  79851  67139  75638\n",
      "  81458  59061  71132  87087  48298  84731  77290  72316  75306  47185\n",
      " 123342  74531  43618  70125  91334  62908  98753  92606 103459  88629\n",
      " 110596  78406  99119  85834  90324  74970  74060  85775  75499  68740\n",
      "  87353  73802  88105]\n",
      "[49. 72. 79. 56. 56. 53. 42. 62. 54. 74. 70. 46. 54. 71. 65. 55. 47. 65.\n",
      " 50. 63. 63. 51. 61. 51. 57. 55. 80. 43. 54. 58. 56. 57. 52. 59. 53. 53.\n",
      " 51. 54. 57. 51. 52. 53. 76.]\n",
      "43\n"
     ]
    }
   ],
   "source": [
    "import numpy as np\n",
    "data_X=np.array(yearRevenueList)\n",
    "data_Y=np.array(costPowerList)\n",
    "print(data_X)\n",
    "print(data_Y)\n",
    "print(len(data_X))"
   ]
  },
  {
   "cell_type": "code",
   "execution_count": 152,
   "metadata": {},
   "outputs": [
    {
     "data": {
      "text/plain": [
       "array([[1.        , 0.00338317],\n",
       "       [0.00338317, 1.        ]])"
      ]
     },
     "execution_count": 152,
     "metadata": {},
     "output_type": "execute_result"
    }
   ],
   "source": [
    "numpy.corrcoef(data_X,data_Y)"
   ]
  },
  {
   "cell_type": "code",
   "execution_count": 153,
   "metadata": {},
   "outputs": [
    {
     "data": {
      "text/plain": [
       "(0.003383169118087708, 0.9828218847065735)"
      ]
     },
     "execution_count": 153,
     "metadata": {},
     "output_type": "execute_result"
    }
   ],
   "source": [
    "import scipy.stats as stats\n",
    "stats.pearsonr(data_X,data_Y)\n",
    "\n",
    "\n",
    "\n"
   ]
  },
  {
   "cell_type": "code",
   "execution_count": 88,
   "metadata": {},
   "outputs": [
    {
     "name": "stdout",
     "output_type": "stream",
     "text": [
      "338681220738817876*a**2 + 16509122932*a*b - 970929454388.0*a + 250*b**2 - 29406.0*b + 889275.0\n",
      "677362441477635752*a + 16509122932*b - 970929454388.0\n",
      "16509122932*a + 500*b - 29406.0\n"
     ]
    }
   ],
   "source": [
    "from sympy import *\n",
    "num = len(data_X)\n",
    "def linear_regression(X, Y):\n",
    "    a, b = symbols('a b')\n",
    "    residual = 0\n",
    "    #residualSum 求殘差\n",
    "\n",
    "    for i in range(num):\n",
    "        residual += (Y[i] - (a * X[i] + b)) ** 2\n",
    "\n",
    "    #展開觀看方程式內容\n",
    "\n",
    "    print (expand(residual))\n",
    "    #對a微分\n",
    "\n",
    "    f1 = diff(residual, a)\n",
    "    #對b微分\n",
    "\n",
    "    f2 = diff(residual, b)\n",
    "    print (f1)\n",
    "    print (f2)\n",
    "    #求聯立方程式的解\n",
    "\n",
    "    res = solve([f1, f2], [a, b])\n",
    "    return res[a], res[b]\n",
    "\n",
    "a, b = linear_regression(data_X, data_Y)"
   ]
  },
  {
   "cell_type": "code",
   "execution_count": 91,
   "metadata": {},
   "outputs": [
    {
     "data": {
      "text/plain": [
       "58.8132690736243"
      ]
     },
     "execution_count": 91,
     "metadata": {},
     "output_type": "execute_result"
    }
   ],
   "source": [
    "b"
   ]
  },
  {
   "cell_type": "code",
   "execution_count": 92,
   "metadata": {},
   "outputs": [
    {
     "data": {
      "text/plain": [
       "-3.84355253007993e-11"
      ]
     },
     "execution_count": 92,
     "metadata": {},
     "output_type": "execute_result"
    }
   ],
   "source": [
    "a"
   ]
  },
  {
   "cell_type": "code",
   "execution_count": 207,
   "metadata": {},
   "outputs": [
    {
     "data": {
      "image/png": "[encoded data removed]",
      "text/plain": [
       "<matplotlib.figure.Figure at 0x512ec630>"
      ]
     },
     "metadata": {},
     "output_type": "display_data"
    }
   ],
   "source": [
    "yearRevenueList=[i['avgDailyNet'] for i in data if 'avgDailyNet' in i \n",
    "                 and 'costPower_Analyze' in i \n",
    "                 and i['NcostData_Analyze']>10]\n",
    "costPowerList=[i['costPower_Analyze'] for i in data if 'avgDailyNet' in i \n",
    "               and 'costPower_Analyze' in i \n",
    "               and i['NcostData_Analyze']>10]\n",
    "import numpy as np\n",
    "data_X=np.array(yearRevenueList)\n",
    "data_Y=np.array(costPowerList)\n",
    "\n",
    "import matplotlib.pyplot as plt\n",
    "plt.plot(data_X, data_Y, 'rx')\n",
    "plt.show()"
   ]
  },
  {
   "cell_type": "code",
   "execution_count": 138,
   "metadata": {},
   "outputs": [
    {
     "data": {
      "image/png": "[encoded data removed]",
      "text/plain": [
       "<matplotlib.figure.Figure at 0xc659be0>"
      ]
     },
     "metadata": {},
     "output_type": "display_data"
    },
    {
     "name": "stdout",
     "output_type": "stream",
     "text": [
      "Slope is 0.0010539741378557173\n",
      "Y intercept is 54.976139372404546\n"
     ]
    },
    {
     "ename": "ValueError",
     "evalue": "The truth value of an array with more than one element is ambiguous. Use a.any() or a.all()",
     "output_type": "error",
     "traceback": [
      "\u001b[1;31m---------------------------------------------------------------------------\u001b[0m",
      "\u001b[1;31mValueError\u001b[0m                                Traceback (most recent call last)",
      "\u001b[1;32m<ipython-input-138-0870297d9384>\u001b[0m in \u001b[0;36m<module>\u001b[1;34m()\u001b[0m\n\u001b[0;32m     31\u001b[0m \u001b[0mprint\u001b[0m \u001b[1;33m(\u001b[0m\u001b[1;34m'Y intercept is '\u001b[0m \u001b[1;33m+\u001b[0m \u001b[0mstr\u001b[0m\u001b[1;33m(\u001b[0m\u001b[0mb\u001b[0m\u001b[1;33m)\u001b[0m\u001b[1;33m)\u001b[0m\u001b[1;33m\u001b[0m\u001b[0m\n\u001b[0;32m     32\u001b[0m \u001b[0myp\u001b[0m \u001b[1;33m=\u001b[0m \u001b[0mnp\u001b[0m\u001b[1;33m.\u001b[0m\u001b[0mpolyval\u001b[0m\u001b[1;33m(\u001b[0m\u001b[1;33m[\u001b[0m\u001b[0mm\u001b[0m\u001b[1;33m,\u001b[0m\u001b[0mb\u001b[0m\u001b[1;33m]\u001b[0m\u001b[1;33m,\u001b[0m\u001b[0mx\u001b[0m\u001b[1;33m)\u001b[0m\u001b[1;33m\u001b[0m\u001b[0m\n\u001b[1;32m---> 33\u001b[1;33m \u001b[0mscatterPlot\u001b[0m\u001b[1;33m(\u001b[0m\u001b[0mx\u001b[0m\u001b[1;33m,\u001b[0m\u001b[0my\u001b[0m\u001b[1;33m,\u001b[0m\u001b[0myp\u001b[0m\u001b[1;33m)\u001b[0m\u001b[1;33m\u001b[0m\u001b[0m\n\u001b[0m",
      "\u001b[1;32m<ipython-input-138-0870297d9384>\u001b[0m in \u001b[0;36mscatterPlot\u001b[1;34m(x, y, yp, savePng)\u001b[0m\n\u001b[0;32m     15\u001b[0m         \u001b[0mplt\u001b[0m\u001b[1;33m.\u001b[0m\u001b[0mylabel\u001b[0m\u001b[1;33m(\u001b[0m\u001b[1;34m'Profit in $10,000s'\u001b[0m\u001b[1;33m)\u001b[0m\u001b[1;33m\u001b[0m\u001b[0m\n\u001b[0;32m     16\u001b[0m         \u001b[0mplt\u001b[0m\u001b[1;33m.\u001b[0m\u001b[0mscatter\u001b[0m\u001b[1;33m(\u001b[0m\u001b[0mx\u001b[0m\u001b[1;33m,\u001b[0m \u001b[0my\u001b[0m\u001b[1;33m,\u001b[0m \u001b[0mmarker\u001b[0m\u001b[1;33m=\u001b[0m\u001b[1;34m'x'\u001b[0m\u001b[1;33m)\u001b[0m\u001b[1;33m\u001b[0m\u001b[0m\n\u001b[1;32m---> 17\u001b[1;33m         \u001b[1;32mif\u001b[0m \u001b[0myp\u001b[0m \u001b[1;33m!=\u001b[0m \u001b[1;32mNone\u001b[0m\u001b[1;33m:\u001b[0m\u001b[1;33m\u001b[0m\u001b[0m\n\u001b[0m\u001b[0;32m     18\u001b[0m                 \u001b[0mplt\u001b[0m\u001b[1;33m.\u001b[0m\u001b[0mplot\u001b[0m\u001b[1;33m(\u001b[0m\u001b[0mx\u001b[0m\u001b[1;33m,\u001b[0m\u001b[0myp\u001b[0m\u001b[1;33m)\u001b[0m\u001b[1;33m\u001b[0m\u001b[0m\n\u001b[0;32m     19\u001b[0m         \u001b[1;32mif\u001b[0m \u001b[0msavePng\u001b[0m\u001b[1;33m==\u001b[0m\u001b[0mfalse\u001b[0m\u001b[1;33m:\u001b[0m\u001b[1;33m\u001b[0m\u001b[0m\n",
      "\u001b[1;31mValueError\u001b[0m: The truth value of an array with more than one element is ambiguous. Use a.any() or a.all()"
     ]
    }
   ],
   "source": [
    "from __future__ import division\n",
    "import pandas as pd \n",
    "import numpy as np \n",
    "import matplotlib.pyplot as plt \n",
    "import math\n",
    "\n",
    "\n",
    "x = data_X\n",
    "y = data_Y\n",
    "theta = np.zeros((2,1))\n",
    "\n",
    "#scatterplot of data with option to save figure.\n",
    "def scatterPlot(x,y,yp=None,savePng=False):\n",
    "\tplt.xlabel('Population of City in 10,000s')\n",
    "\tplt.ylabel('Profit in $10,000s')\n",
    "\tplt.scatter(x, y, marker='x')\n",
    "\tif yp != None:\n",
    "\t\tplt.plot(x,yp)\n",
    "\tif savePng==false:\n",
    "\t\tplt.show()\n",
    "\telse:\n",
    "\t\tname = raw_input('Name Figure File: ')\n",
    "\t\tplt.savefig(name+'.png')\n",
    "\n",
    "\n",
    "scatterPlot(x,y)\n",
    "\n",
    "#linear regression implementation using libraries\n",
    "(m,b) = np.polyfit(x,y,1)\n",
    "print ('Slope is ' + str(m))\n",
    "print ('Y intercept is ' + str(b))\n",
    "yp = np.polyval([m,b],x)\n",
    "scatterPlot(x,y,yp)"
   ]
  },
  {
   "cell_type": "code",
   "execution_count": 145,
   "metadata": {
    "collapsed": true
   },
   "outputs": [],
   "source": [
    "from __future__ import division\n",
    "import pandas as pd \n",
    "import numpy as np \n",
    "import matplotlib.pyplot as plt \n",
    "import math\n",
    "\n",
    "#read data into array\n",
    "# data = np.genfromtxt('ex1data1.txt',delimiter=',')\n",
    "x=data_X\n",
    "y=data_Y\n",
    "m=y.size\n",
    "a=ones(m,2)\n",
    "\n",
    "\n",
    "def cost(x, y, theta=np.zeros((2,1))):\n",
    "    \"\"\"Computes the cost of linear regression\n",
    "    theta = parameter for linear regression\n",
    "    x and y are the data points\n",
    "    This is done to monitor the cost of gradient descent\"\"\"\n",
    "    m = len(x)\n",
    "    J = 1/(2*m) * sum((x.dot(theta).flatten()- y)**2)\n",
    "    return J\n",
    "\n",
    "\n",
    "def gradientDesc(x, y, theta=np.zeros((2,1)), alpha=.01,iterations=1500):\n",
    "    \"\"\"\"Gradient Descent implementation of \n",
    "    linear regression with one variable\"\"\"\n",
    "    m = y.size\n",
    "    J = []\n",
    "    for numbers in range(iterations):\n",
    "        a = theta[0][0] - alpha*(1/m)*sum((x.dot(theta).flatten() - y)*x[:,0])\n",
    "        b = theta[1][0] - alpha*(1/m)*sum((x.dot(theta).flatten() - y)*x[:,1])\n",
    "        theta[0][0],theta[1][0]=a,b\n",
    "        print (theta[0][0])\n",
    "        print (theta[1][0])\n",
    "        J.append(cost(x,y,theta))\n",
    "        print ('Cost: ' + str(J[-1]))\n",
    "    return theta\n",
    "\n",
    "#scatterplot of data with option to save figure.\n",
    "def scatterPlot(x,y,yp=None,savePng=False):\n",
    "    plt.xlabel('Population of City in 10,000s')\n",
    "    plt.ylabel('Profit in $10,000s')\n",
    "    plt.scatter(x, y, marker='x')\n",
    "    if yp != None:\n",
    "        plt.plot(x,yp)\n",
    "    if savePng==false:\n",
    "        plt.show()\n",
    "    else:\n",
    "        name = raw_input('Name Figure File: ')\n",
    "        plt.savefig(name+'.png')"
   ]
  },
  {
   "cell_type": "code",
   "execution_count": 148,
   "metadata": {},
   "outputs": [
    {
     "data": {
      "image/png": "[encoded data removed]",
      "text/plain": [
       "<matplotlib.figure.Figure at 0xc60d860>"
      ]
     },
     "metadata": {},
     "output_type": "display_data"
    }
   ],
   "source": [
    "scatterPlot(x,y)"
   ]
  },
  {
   "cell_type": "code",
   "execution_count": null,
   "metadata": {
    "collapsed": true
   },
   "outputs": [],
   "source": []
  }
 ],
 "metadata": {
  "kernelspec": {
   "display_name": "Python 3",
   "language": "python",
   "name": "python3"
  },
  "language_info": {
   "codemirror_mode": {
    "name": "ipython",
    "version": 3
   },
   "file_extension": ".py",
   "mimetype": "text/x-python",
   "name": "python",
   "nbconvert_exporter": "python",
   "pygments_lexer": "ipython3",
   "version": "3.6.4"
  }
 },
 "nbformat": 4,
 "nbformat_minor": 2
}
