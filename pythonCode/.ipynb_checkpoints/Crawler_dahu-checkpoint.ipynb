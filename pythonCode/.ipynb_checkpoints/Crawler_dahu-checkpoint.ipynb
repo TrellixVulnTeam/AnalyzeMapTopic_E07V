{
 "cells": [
  {
   "cell_type": "code",
   "execution_count": 7,
   "metadata": {},
   "outputs": [],
   "source": [
    "import requests\n",
    "from bs4 import BeautifulSoup as bs\n",
    "import re\n",
    "res=requests.get(\"http://ootoya.com.tw/location.php\")\n",
    "soup=bs(res.text,'lxml')\n",
    "dataList=[]\n",
    "for ul in soup.select(\"div.location > ul.location\"):\n",
    "    dien={}\n",
    "    dien['name']=ul.select_one(\"div.store > h3\").text\n",
    "    dien['address']=ul.select('p')[0].text\n",
    "    dien['tele']=ul.select('p')[1].text\n",
    "    dien[\"bigadd\"] = re.findall(\"(\\w\\w[市|縣])(\\w\\w?\\w?[區|市|鎮|鄉])\",dien['address'])[0][0]\n",
    "    dien[\"smalladd\"] = re.findall(\"(\\w\\w[市|縣])(\\w\\w?\\w?[區|市|鎮|鄉])\",dien['address'])[0][1]\n",
    "    dataList.append(dien)"
   ]
  },
  {
   "cell_type": "code",
   "execution_count": 14,
   "metadata": {},
   "outputs": [],
   "source": [
    "import geocoder\n",
    "for i in range(2):\n",
    "    for i in dataList:\n",
    "        try:\n",
    "            if 'lat' not in i:\n",
    "                i['lat'],i['lng']=geocoder.arcgis(i['address'].split(\"號\")[0].split(\"-\")[0].split(\"、\")[0].split(\"~\")[0]).latlng\n",
    "                print(i['lat'],i['lng'])\n",
    "                time.sleep(2)\n",
    "        except:\n",
    "            print(i['address'],\"no latlng\")\n",
    "            pass"
   ]
  },
  {
   "cell_type": "code",
   "execution_count": 16,
   "metadata": {},
   "outputs": [],
   "source": [
    "from pymongo import MongoClient,UpdateOne\n",
    "client=MongoClient('192.168.1.113',27017,username='j122085',password=\"850605\")\n",
    "colle=client.rawData.dahu\n",
    "ids=[i['name'] for i in dataList]\n",
    "operation=[UpdateOne({\"_id\":idn},{\"$set\":data},upsert=True) for idn,data in zip(ids,dataList)]\n",
    "colle.bulk_write(operation)\n",
    "client.close()"
   ]
  },
  {
   "cell_type": "code",
   "execution_count": 18,
   "metadata": {},
   "outputs": [
    {
     "data": {
      "text/plain": [
       "33"
      ]
     },
     "execution_count": 18,
     "metadata": {},
     "output_type": "execute_result"
    }
   ],
   "source": [
    "colle.count()"
   ]
  },
  {
   "cell_type": "code",
   "execution_count": null,
   "metadata": {
    "collapsed": true
   },
   "outputs": [],
   "source": []
  }
 ],
 "metadata": {
  "kernelspec": {
   "display_name": "Python 3",
   "language": "python",
   "name": "python3"
  },
  "language_info": {
   "codemirror_mode": {
    "name": "ipython",
    "version": 3
   },
   "file_extension": ".py",
   "mimetype": "text/x-python",
   "name": "python",
   "nbconvert_exporter": "python",
   "pygments_lexer": "ipython3",
   "version": "3.6.4"
  }
 },
 "nbformat": 4,
 "nbformat_minor": 2
}
