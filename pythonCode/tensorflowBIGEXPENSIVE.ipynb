{
 "cells": [
  {
   "cell_type": "code",
   "execution_count": 1,
   "metadata": {},
   "outputs": [
    {
     "name": "stderr",
     "output_type": "stream",
     "text": [
      "D:\\anaconda\\lib\\site-packages\\h5py\\__init__.py:36: FutureWarning: Conversion of the second argument of issubdtype from `float` to `np.floating` is deprecated. In future, it will be treated as `np.float64 == np.dtype(float).type`.\n",
      "  from ._conv import register_converters as _register_converters\n"
     ]
    }
   ],
   "source": [
    "import tensorflow as tf"
   ]
  },
  {
   "cell_type": "code",
   "execution_count": 56,
   "metadata": {},
   "outputs": [
    {
     "data": {
      "text/plain": [
       "<tf.Tensor 'ts_c_6:0' shape=() dtype=int32>"
      ]
     },
     "execution_count": 56,
     "metadata": {},
     "output_type": "execute_result"
    }
   ],
   "source": [
    "ts_c=tf.constant(2,name='ts_c')\n",
    "ts_c"
   ]
  },
  {
   "cell_type": "code",
   "execution_count": 57,
   "metadata": {},
   "outputs": [
    {
     "data": {
      "text/plain": [
       "<tf.Variable 'ts_x_4:0' shape=() dtype=int32_ref>"
      ]
     },
     "execution_count": 57,
     "metadata": {},
     "output_type": "execute_result"
    }
   ],
   "source": [
    "ts_x=tf.Variable(ts_c+5,name='ts_x')\n",
    "ts_x"
   ]
  },
  {
   "cell_type": "code",
   "execution_count": 58,
   "metadata": {},
   "outputs": [
    {
     "data": {
      "text/plain": [
       "<tensorflow.python.client.session.Session at 0x1d051128>"
      ]
     },
     "execution_count": 58,
     "metadata": {},
     "output_type": "execute_result"
    }
   ],
   "source": [
    "sess=tf.Session()\n",
    "sess"
   ]
  },
  {
   "cell_type": "code",
   "execution_count": 59,
   "metadata": {
    "collapsed": true
   },
   "outputs": [],
   "source": [
    "init=tf.global_variables_initializer()\n",
    "sess.run(init)"
   ]
  },
  {
   "cell_type": "code",
   "execution_count": 60,
   "metadata": {},
   "outputs": [
    {
     "name": "stdout",
     "output_type": "stream",
     "text": [
      "2\n",
      "2\n"
     ]
    }
   ],
   "source": [
    "print(sess.run(ts_c))\n",
    "print(ts_c.eval(session=sess))"
   ]
  },
  {
   "cell_type": "code",
   "execution_count": 61,
   "metadata": {},
   "outputs": [
    {
     "name": "stdout",
     "output_type": "stream",
     "text": [
      "7\n",
      "7\n"
     ]
    }
   ],
   "source": [
    "print(sess.run(ts_x))\n",
    "print(ts_x.eval(session=sess))"
   ]
  },
  {
   "cell_type": "code",
   "execution_count": 62,
   "metadata": {
    "collapsed": true
   },
   "outputs": [],
   "source": [
    "sess.close()"
   ]
  },
  {
   "cell_type": "code",
   "execution_count": 63,
   "metadata": {},
   "outputs": [
    {
     "name": "stdout",
     "output_type": "stream",
     "text": [
      "2\n",
      "2\n",
      "7\n",
      "7\n"
     ]
    }
   ],
   "source": [
    "import tensorflow as tf\n",
    "\n",
    "ts_c=tf.constant(2,name='ts_c')\n",
    "ts_x=tf.Variable(ts_c+5,name='ts_x')\n",
    "\n",
    "with tf.Session() as sess:\n",
    "\n",
    "    init=tf.global_variables_initializer()\n",
    "    sess.run(init)\n",
    "\n",
    "    print(sess.run(ts_c))\n",
    "    print(ts_c.eval(session=sess))\n",
    "\n",
    "    print(sess.run(ts_x))\n",
    "    print(ts_x.eval(session=sess))"
   ]
  },
  {
   "cell_type": "code",
   "execution_count": 64,
   "metadata": {},
   "outputs": [],
   "source": [
    "width=tf.placeholder(\"int32\",name='width') #建立變數\n",
    "height=tf.placeholder(\"int32\",name='height')\n",
    "# area=width*height\n",
    "area=tf.multiply(width,height,name='area') #建立規則(相乘)"
   ]
  },
  {
   "cell_type": "code",
   "execution_count": 65,
   "metadata": {},
   "outputs": [
    {
     "name": "stdout",
     "output_type": "stream",
     "text": [
      "60\n"
     ]
    }
   ],
   "source": [
    "with tf.Session() as sess:\n",
    "    init=tf.global_variables_initializer()\n",
    "    sess.run(init)\n",
    "    print(sess.run(area,feed_dict={width:6,height:10}))"
   ]
  },
  {
   "cell_type": "code",
   "execution_count": 66,
   "metadata": {
    "collapsed": true
   },
   "outputs": [],
   "source": [
    "tf.summary.merge_all()\n",
    "train_writer=tf.summary.FileWriter(\"log/area\",sess.graph)"
   ]
  },
  {
   "cell_type": "code",
   "execution_count": 67,
   "metadata": {},
   "outputs": [
    {
     "name": "stdout",
     "output_type": "stream",
     "text": [
      "[0.4 0.2 0.4]\n"
     ]
    }
   ],
   "source": [
    "ts_X=tf.Variable([0.4,0.2,0.4])\n",
    "with tf.Session() as sess:\n",
    "    init=tf.global_variables_initializer()\n",
    "    sess.run(init)\n",
    "    X=sess.run(ts_X)\n",
    "    print(X)"
   ]
  },
  {
   "cell_type": "code",
   "execution_count": 68,
   "metadata": {},
   "outputs": [
    {
     "name": "stdout",
     "output_type": "stream",
     "text": [
      "(3,)\n"
     ]
    }
   ],
   "source": [
    "print(X.shape)"
   ]
  },
  {
   "cell_type": "code",
   "execution_count": 69,
   "metadata": {},
   "outputs": [
    {
     "name": "stdout",
     "output_type": "stream",
     "text": [
      "[[0.4 0.2 0.4]]\n"
     ]
    }
   ],
   "source": [
    "ts_X=tf.Variable([[0.4,0.2,0.4]])\n",
    "with tf.Session() as sess:\n",
    "    init=tf.global_variables_initializer()\n",
    "    sess.run(init)\n",
    "    X=sess.run(ts_X)\n",
    "    print(X)"
   ]
  },
  {
   "cell_type": "code",
   "execution_count": 70,
   "metadata": {},
   "outputs": [
    {
     "data": {
      "text/plain": [
       "(1, 3)"
      ]
     },
     "execution_count": 70,
     "metadata": {},
     "output_type": "execute_result"
    }
   ],
   "source": [
    "X.shape"
   ]
  },
  {
   "cell_type": "code",
   "execution_count": 71,
   "metadata": {},
   "outputs": [
    {
     "name": "stdout",
     "output_type": "stream",
     "text": [
      "[[-0.5 -0.2]\n",
      " [-0.3  0.4]\n",
      " [-0.5  0.2]]\n"
     ]
    }
   ],
   "source": [
    "W=tf.Variable([[-0.5,-0.2],\n",
    "                 [-0.3,0.4],\n",
    "                 [-0.5,0.2]])\n",
    "with tf.Session() as sess:\n",
    "    init=tf.global_variables_initializer()\n",
    "    sess.run(init)\n",
    "    W_array=sess.run(W)\n",
    "    print(W_array)"
   ]
  },
  {
   "cell_type": "code",
   "execution_count": 72,
   "metadata": {},
   "outputs": [
    {
     "data": {
      "text/plain": [
       "(3, 2)"
      ]
     },
     "execution_count": 72,
     "metadata": {},
     "output_type": "execute_result"
    }
   ],
   "source": [
    "W_array.shape"
   ]
  },
  {
   "cell_type": "code",
   "execution_count": 73,
   "metadata": {},
   "outputs": [
    {
     "name": "stdout",
     "output_type": "stream",
     "text": [
      "[[-1.3  0.4]]\n"
     ]
    }
   ],
   "source": [
    "X=tf.Variable([[1.,1.,1.]])\n",
    "W=tf.Variable([[-0.5,-0.2],\n",
    "                 [-0.3,0.4],\n",
    "                 [-0.5,0.2]])\n",
    "XW=tf.matmul(X,W )#矩陣相乘 [A]X[B]\n",
    "with tf.Session() as sess:\n",
    "    init=tf.global_variables_initializer()\n",
    "    sess.run(init)\n",
    "    XW_array=sess.run(XW)\n",
    "    print(XW_array)"
   ]
  },
  {
   "cell_type": "code",
   "execution_count": 74,
   "metadata": {},
   "outputs": [
    {
     "data": {
      "text/plain": [
       "array([[-1.3,  0.4]], dtype=float32)"
      ]
     },
     "execution_count": 74,
     "metadata": {},
     "output_type": "execute_result"
    }
   ],
   "source": [
    "XW_array"
   ]
  },
  {
   "cell_type": "code",
   "execution_count": 75,
   "metadata": {},
   "outputs": [
    {
     "name": "stdout",
     "output_type": "stream",
     "text": [
      "[[-1.1999999  0.6      ]]\n"
     ]
    }
   ],
   "source": [
    "b=tf.Variable([[0.1,0.2]])\n",
    "XW=XW_array\n",
    "Sum=XW+b#矩陣相乘 [A]X[B]\n",
    "with tf.Session() as sess:\n",
    "    init=tf.global_variables_initializer()\n",
    "    sess.run(init)\n",
    "    Sum_array=sess.run(Sum)\n",
    "    print(Sum_array)"
   ]
  },
  {
   "cell_type": "code",
   "execution_count": 76,
   "metadata": {},
   "outputs": [
    {
     "name": "stdout",
     "output_type": "stream",
     "text": [
      "[[-1.1999999  0.6      ]]\n"
     ]
    }
   ],
   "source": [
    "X=tf.Variable([[1.,1.,1.]])\n",
    "W=tf.Variable([[-0.5,-0.2],\n",
    "                 [-0.3,0.4],\n",
    "                 [-0.5,0.2]])\n",
    "b=tf.Variable([[0.1,0.2]])\n",
    "XWb=tf.matmul(X,W)+b\n",
    "with tf.Session() as sess:\n",
    "    init=tf.global_variables_initializer()\n",
    "    sess.run(init)\n",
    "    XWb_array=sess.run(XWb)\n",
    "    print(XWb_array)"
   ]
  },
  {
   "cell_type": "code",
   "execution_count": null,
   "metadata": {
    "collapsed": true
   },
   "outputs": [],
   "source": []
  },
  {
   "cell_type": "code",
   "execution_count": 78,
   "metadata": {},
   "outputs": [
    {
     "name": "stdout",
     "output_type": "stream",
     "text": [
      "[[-1.1999999  0.6      ]]\n",
      "[[0.  0.6]]\n",
      "[[0.23147522 0.6456563 ]]\n"
     ]
    }
   ],
   "source": [
    "X=tf.Variable([[1.,1.,1.]])\n",
    "W=tf.Variable([[-0.5,-0.2],\n",
    "                 [-0.3,0.4],\n",
    "                 [-0.5,0.2]])\n",
    "b=tf.Variable([[0.1,0.2]])\n",
    "XWb=tf.matmul(X,W)+b\n",
    "y=tf.nn.relu(XWb)\n",
    "z=tf.nn.sigmoid(XWb)\n",
    "with tf.Session() as sess:\n",
    "    init=tf.global_variables_initializer()\n",
    "    sess.run(init)\n",
    "    XWb_array=sess.run(XWb)\n",
    "    print(XWb_array)\n",
    "    y_array=sess.run(y)\n",
    "    print(y_array)\n",
    "    z_array=sess.run(z)\n",
    "    print(z_array)"
   ]
  },
  {
   "cell_type": "code",
   "execution_count": null,
   "metadata": {
    "collapsed": true
   },
   "outputs": [],
   "source": [
    "\n"
   ]
  },
  {
   "cell_type": "code",
   "execution_count": 95,
   "metadata": {},
   "outputs": [
    {
     "name": "stdout",
     "output_type": "stream",
     "text": [
      "W: [[ 0.8158025  -0.15821035]\n",
      " [ 2.030927   -1.52101   ]\n",
      " [-1.3168212   2.1893864 ]]\n",
      "\n",
      "b: [[-0.7732429  -0.50401545]]\n",
      "\n",
      "y: [[0.        2.1955369]]\n"
     ]
    }
   ],
   "source": [
    "W=tf.Variable(tf.random_normal([3,2]))#shape(3,2),mean=0 std=1的常態分佈\n",
    "b=tf.Variable(tf.random_normal([1,2]))\n",
    "X=tf.Variable([[1.,1.,2.]])\n",
    "y=tf.nn.relu(tf.matmul(X,W)+b)\n",
    "with tf.Session() as sess:\n",
    "    sess.run(tf.global_variables_initializer())\n",
    "    print(\"W:\",sess.run(W))\n",
    "    print(\"\\nb:\",sess.run(b))\n",
    "    \n",
    "    print(\"\\ny:\",sess.run(y))"
   ]
  },
  {
   "cell_type": "code",
   "execution_count": null,
   "metadata": {
    "collapsed": true
   },
   "outputs": [],
   "source": []
  },
  {
   "cell_type": "code",
   "execution_count": 98,
   "metadata": {},
   "outputs": [
    {
     "name": "stdout",
     "output_type": "stream",
     "text": [
      "W:\n",
      " [[ 1.0438826   0.5648275 ]\n",
      " [-0.2641154  -0.63883775]\n",
      " [-0.08137789 -0.9195565 ]]\n",
      "b:\n",
      " [[-0.6020955   0.49566168]]\n",
      "y:\n",
      " [[0.01491594 0.        ]]\n"
     ]
    }
   ],
   "source": [
    "with tf.Session() as sess:\n",
    "    sess.run(tf.global_variables_initializer())\n",
    "    (_W,_b,_y)=sess.run((W,b,y))\n",
    "    print(\"W:\\n\",_W)\n",
    "    print(\"b:\\n\",_b)\n",
    "    print(\"y:\\n\",_y)"
   ]
  },
  {
   "cell_type": "code",
   "execution_count": 99,
   "metadata": {},
   "outputs": [
    {
     "data": {
      "image/png": "[encoded data removed]",
      "text/plain": [
       "<matplotlib.figure.Figure at 0x1c9a0828>"
      ]
     },
     "metadata": {},
     "output_type": "display_data"
    }
   ],
   "source": [
    "ts_norm=tf.random_normal([1000])\n",
    "with tf.Session() as sess:\n",
    "    norlist=sess.run(ts_norm)\n",
    "import matplotlib.pyplot as plt\n",
    "plt.hist(norlist)\n",
    "plt.show()"
   ]
  },
  {
   "cell_type": "code",
   "execution_count": 102,
   "metadata": {},
   "outputs": [
    {
     "name": "stdout",
     "output_type": "stream",
     "text": [
      "W:\n",
      " [[ 0.80610096  0.62510115]\n",
      " [-0.5695194  -0.9355573 ]\n",
      " [ 0.9912614  -1.230398  ]]\n",
      "b:\n",
      " [[ 0.09986808 -0.16970553]]\n",
      "X:\n",
      " [[0.4 0.2 0.4]]\n",
      "y:\n",
      " [[0.70490915 0.        ]]\n"
     ]
    }
   ],
   "source": [
    "import numpy as np\n",
    "W=tf.Variable(tf.random_normal([3,2]))#shape(3,2),mean=0 std=1的常態分佈\n",
    "b=tf.Variable(tf.random_normal([1,2]))\n",
    "# X=tf.Variable([[1.,1.,2.]])\n",
    "X=tf.placeholder(\"float\",[None,3])# None是因為傳入的X筆數不限數量\n",
    "y=tf.nn.relu(tf.matmul(X,W)+b)\n",
    "with tf.Session() as sess:\n",
    "    sess.run(tf.global_variables_initializer())\n",
    "    X_array=np.array([[0.4,0.2,0.4]])\n",
    "    (_W,_b,_X,_y)=sess.run((W,b,X,y),feed_dict={X:X_array})\n",
    "    print(\"W:\\n\",_W)\n",
    "    print(\"b:\\n\",_b)\n",
    "    print(\"X:\\n\",_X)\n",
    "    print(\"y:\\n\",_y)"
   ]
  },
  {
   "cell_type": "markdown",
   "metadata": {},
   "source": [
    "# 手動神經網路"
   ]
  },
  {
   "cell_type": "code",
   "execution_count": 107,
   "metadata": {
    "collapsed": true
   },
   "outputs": [],
   "source": [
    "def layer(output_dim,input_dim,inputs,activation=None):\n",
    "    W=tf.Variable(tf.random_normal([input_dim,output_dim]))\n",
    "    b=tf.Variable(tf.random_normal([1,output_dim]))\n",
    "    XWb=tf.matmul(inputs,W)+b\n",
    "    if activation==None:\n",
    "        outputs=XWb\n",
    "    else:\n",
    "        outputs=activation(XWb)\n",
    "    return outputs"
   ]
  },
  {
   "cell_type": "code",
   "execution_count": 122,
   "metadata": {},
   "outputs": [
    {
     "name": "stdout",
     "output_type": "stream",
     "text": [
      "X [[0.4 0.2 0.4 0.5]\n",
      " [4.  3.5 2.  1.5]\n",
      " [0.1 0.9 0.5 0.3]]\n",
      "h [[1.0262557 0.        0.6201757]\n",
      " [3.2423189 0.        0.       ]\n",
      " [1.5161691 0.        0.6867098]]\n",
      "y [[-0.59824145 -1.2229887 ]\n",
      " [-1.2424915  -0.6453759 ]\n",
      " [-0.58638173 -1.2841129 ]]\n"
     ]
    }
   ],
   "source": [
    "import numpy\n",
    "X=tf.placeholder('float',[None,4])\n",
    "h=layer(3,4,X,tf.nn.relu)\n",
    "y=layer(2,3,h)\n",
    "\n",
    "with tf.Session() as sess:\n",
    "    sess.run(tf.global_variables_initializer())\n",
    "#     X_array=numpy.array([[0.4,0.2,0.4,0.5]])\n",
    "    X_array=numpy.array([[0.4,0.2,0.4,0.5],[4.,3.5,2.,1.5],[0.1,0.9,0.5,0.3]])\n",
    "    (X_,h_,y_)=sess.run((X,h,y),feed_dict={X:X_array})\n",
    "    print(\"X\",X_)\n",
    "    print(\"h\",h_)\n",
    "    print(\"y\",y_)"
   ]
  },
  {
   "cell_type": "code",
   "execution_count": 123,
   "metadata": {
    "collapsed": true
   },
   "outputs": [],
   "source": [
    "import tensorflow as tf"
   ]
  },
  {
   "cell_type": "code",
   "execution_count": 124,
   "metadata": {
    "collapsed": true
   },
   "outputs": [],
   "source": [
    "import tensorflow.examples.tutorials.mnist.input_dataut_data as input_data"
   ]
  },
  {
   "cell_type": "code",
   "execution_count": 126,
   "metadata": {},
   "outputs": [
    {
     "name": "stdout",
     "output_type": "stream",
     "text": [
      "Extracting MNIST_data/train-images-idx3-ubyte.gz\n",
      "Extracting MNIST_data/train-labels-idx1-ubyte.gz\n",
      "Extracting MNIST_data/t10k-images-idx3-ubyte.gz\n",
      "Extracting MNIST_data/t10k-labels-idx1-ubyte.gz\n"
     ]
    }
   ],
   "source": [
    "mnist=input_data.read_data_sets(\"MNIST_data/\",one_hot=True)"
   ]
  },
  {
   "cell_type": "code",
   "execution_count": 127,
   "metadata": {
    "collapsed": true
   },
   "outputs": [],
   "source": [
    "import matplotlib.pyplot as plt"
   ]
  },
  {
   "cell_type": "code",
   "execution_count": 133,
   "metadata": {
    "collapsed": true
   },
   "outputs": [],
   "source": [
    "def plot_image(image):\n",
    "    plt.imshow(image.reshape(28,28),cmap='binary')\n",
    "    plt.show()"
   ]
  },
  {
   "cell_type": "code",
   "execution_count": 134,
   "metadata": {},
   "outputs": [
    {
     "data": {
      "image/png": "[encoded data removed]",
      "text/plain": [
       "<matplotlib.figure.Figure at 0x27c22080>"
      ]
     },
     "metadata": {},
     "output_type": "display_data"
    }
   ],
   "source": [
    "plot_image(mnist.train.images[1])"
   ]
  },
  {
   "cell_type": "code",
   "execution_count": 136,
   "metadata": {},
   "outputs": [
    {
     "data": {
      "text/plain": [
       "3"
      ]
     },
     "execution_count": 136,
     "metadata": {},
     "output_type": "execute_result"
    }
   ],
   "source": [
    "import numpy as np\n",
    "np.argmax(mnist.train.labels[1])"
   ]
  },
  {
   "cell_type": "code",
   "execution_count": 143,
   "metadata": {
    "collapsed": true
   },
   "outputs": [],
   "source": [
    "import matplotlib.pyplot as plt\n",
    "def plot_images_labels_prediction(images,labels,prediction,idx,num=10):\n",
    "    fig=plt.gcf()\n",
    "    fig.set_size_inches(12,14)\n",
    "    if num>25 :num=25\n",
    "    for i in range(0,num):\n",
    "        ax=plt.subplot(5,5,1+i)\n",
    "        \n",
    "        ax.imshow(np.reshape(images[idx],(28,28)),cmap='binary')\n",
    "        \n",
    "        title='label='+str(np.argmax(labels[idx]))\n",
    "        if len(prediction)>0:\n",
    "            title+=\",predict=\"+str(prediction[idx])\n",
    "            \n",
    "        ax.set_title(title,fontsize=10)\n",
    "        ax.set_xticks([])\n",
    "        ax.set_yticks([])\n",
    "        idx+=1\n",
    "    plt.show()\n",
    "    "
   ]
  },
  {
   "cell_type": "code",
   "execution_count": 144,
   "metadata": {},
   "outputs": [
    {
     "name": "stderr",
     "output_type": "stream",
     "text": [
      "D:\\anaconda\\lib\\site-packages\\matplotlib\\cbook\\deprecation.py:106: MatplotlibDeprecationWarning: Adding an axes using the same arguments as a previous axes currently reuses the earlier instance.  In a future version, a new instance will always be created and returned.  Meanwhile, this warning can be suppressed, and the future behavior ensured, by passing a unique label to each axes instance.\n",
      "  warnings.warn(message, mplDeprecation, stacklevel=1)\n"
     ]
    },
    {
     "data": {
      "image/png": "[encoded data removed]",
      "text/plain": [
       "<matplotlib.figure.Figure at 0x27d17898>"
      ]
     },
     "metadata": {},
     "output_type": "display_data"
    }
   ],
   "source": [
    "plot_images_labels_prediction(mnist.train.images,mnist.train.labels,[],0)"
   ]
  },
  {
   "cell_type": "code",
   "execution_count": 145,
   "metadata": {
    "collapsed": true
   },
   "outputs": [],
   "source": [
    "tf.summary.merge_all()\n",
    "train_writer=tf.summary.FileWriter(\"log/area\",sess.graph)"
   ]
  },
  {
   "cell_type": "code",
   "execution_count": null,
   "metadata": {
    "collapsed": true
   },
   "outputs": [],
   "source": []
  }
 ],
 "metadata": {
  "kernelspec": {
   "display_name": "Python 3",
   "language": "python",
   "name": "python3"
  },
  "language_info": {
   "codemirror_mode": {
    "name": "ipython",
    "version": 3
   },
   "file_extension": ".py",
   "mimetype": "text/x-python",
   "name": "python",
   "nbconvert_exporter": "python",
   "pygments_lexer": "ipython3",
   "version": "3.6.4"
  }
 },
 "nbformat": 4,
 "nbformat_minor": 2
}
