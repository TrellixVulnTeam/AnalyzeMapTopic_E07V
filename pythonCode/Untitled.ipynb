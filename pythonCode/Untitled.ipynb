{
 "cells": [
  {
   "cell_type": "code",
   "execution_count": 1,
   "metadata": {
    "collapsed": true
   },
   "outputs": [],
   "source": [
    "x=[{'地址': '臺北市中山區北安路458巷47弄31~60號', '每坪價格': '52萬'},\n",
    " {'地址': '臺北市內湖區民權東路六段190巷33弄1~30號', '每坪價格': '51萬'},\n",
    " {'地址': '臺北市中山區敬業三路162巷121~150號', '每坪價格': '63萬'},\n",
    " {'地址': '臺北市萬華區東園街66巷24弄1~30號', '每坪價格': '55萬'},\n",
    " {'地址': '臺北市萬華區東園街66巷24弄1~30號', '每坪價格': '51萬'},\n",
    " {'地址': '臺北市大同區民族西路225巷3弄1~30號', '每坪價格': '50萬'},\n",
    " {'地址': '文昌段一小段631~660地號', '每坪價格': '3萬'},\n",
    " {'地址': '臺北市大同區承德路三段241~270號', '每坪價格': '74萬'},\n",
    " {'地址': '臺北市萬華區環河南路一段91~120號', '每坪價格': '52萬'},\n",
    " {'地址': '臺北市大同區延平北路一段31~60號', '每坪價格': '51萬'},\n",
    " {'地址': '臺北市中正區仁愛路二段9巷1~30號', '每坪價格': '83萬'},\n",
    " {'地址': '臺北市中正區仁愛路二段9巷1~30號', '每坪價格': '83萬'}]"
   ]
  },
  {
   "cell_type": "code",
   "execution_count": 14,
   "metadata": {},
   "outputs": [],
   "source": [
    "tuple_r_dict = lambda x: dict(val[::-1] for val in x.iteritems()) # _dict.items() in Python3.x\n",
    "\n",
    "# tuple_r_dict(tuple_r_dict(z))"
   ]
  },
  {
   "cell_type": "code",
   "execution_count": 31,
   "metadata": {},
   "outputs": [],
   "source": [
    "y=set()\n",
    "newX=[]\n",
    "for i in x:\n",
    "    if i[\"地址\"] not in y:\n",
    "        newX.append(i)\n",
    "        y.add(i[\"地址\"])\n",
    "    else:\n",
    "        pass"
   ]
  },
  {
   "cell_type": "code",
   "execution_count": 33,
   "metadata": {},
   "outputs": [
    {
     "data": {
      "text/plain": [
       "[{'地址': '臺北市中山區北安路458巷47弄31~60號', '每坪價格': '52萬'},\n",
       " {'地址': '臺北市內湖區民權東路六段190巷33弄1~30號', '每坪價格': '51萬'},\n",
       " {'地址': '臺北市中山區敬業三路162巷121~150號', '每坪價格': '63萬'},\n",
       " {'地址': '臺北市萬華區東園街66巷24弄1~30號', '每坪價格': '55萬'},\n",
       " {'地址': '臺北市大同區民族西路225巷3弄1~30號', '每坪價格': '50萬'},\n",
       " {'地址': '文昌段一小段631~660地號', '每坪價格': '3萬'},\n",
       " {'地址': '臺北市大同區承德路三段241~270號', '每坪價格': '74萬'},\n",
       " {'地址': '臺北市萬華區環河南路一段91~120號', '每坪價格': '52萬'},\n",
       " {'地址': '臺北市大同區延平北路一段31~60號', '每坪價格': '51萬'},\n",
       " {'地址': '臺北市中正區仁愛路二段9巷1~30號', '每坪價格': '83萬'}]"
      ]
     },
     "execution_count": 33,
     "metadata": {},
     "output_type": "execute_result"
    }
   ],
   "source": [
    "newX"
   ]
  },
  {
   "cell_type": "code",
   "execution_count": null,
   "metadata": {
    "collapsed": true
   },
   "outputs": [],
   "source": []
  }
 ],
 "metadata": {
  "kernelspec": {
   "display_name": "Python 3",
   "language": "python",
   "name": "python3"
  },
  "language_info": {
   "codemirror_mode": {
    "name": "ipython",
    "version": 3
   },
   "file_extension": ".py",
   "mimetype": "text/x-python",
   "name": "python",
   "nbconvert_exporter": "python",
   "pygments_lexer": "ipython3",
   "version": "3.6.4"
  }
 },
 "nbformat": 4,
 "nbformat_minor": 2
}
