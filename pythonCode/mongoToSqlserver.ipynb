{
 "cells": [
  {
   "cell_type": "markdown",
   "metadata": {},
   "source": [
    "# 轉中小學to GIS"
   ]
  },
  {
   "cell_type": "code",
   "execution_count": 30,
   "metadata": {
    "collapsed": true
   },
   "outputs": [],
   "source": [
    "import pymssql\n",
    "import pymongo"
   ]
  },
  {
   "cell_type": "code",
   "execution_count": 31,
   "metadata": {
    "scrolled": true
   },
   "outputs": [
    {
     "data": {
      "text/plain": [
       "['MRTinfo',\n",
       " 'info3Store',\n",
       " 'websites591',\n",
       " 'taiwanInfo',\n",
       " 'trainStation',\n",
       " 'taiwanInfoIta',\n",
       " 'eslite',\n",
       " 'ipeenInfo',\n",
       " 'conStore',\n",
       " 'CostPower',\n",
       " 'infoClinic',\n",
       " 'Watsons',\n",
       " 'pxmart',\n",
       " 'taiwanInfoSuFood',\n",
       " 'busData',\n",
       " 'HRdata104',\n",
       " 'wowprimediendata',\n",
       " 'info591',\n",
       " 'departmentStore',\n",
       " 'carrefour',\n",
       " 'smallStyleCount',\n",
       " 'addressCoordinate',\n",
       " 'Nhuman',\n",
       " 'taiwanInfoStoneTwo',\n",
       " 'ipeenWebsite',\n",
       " 'realPriceLogin',\n",
       " 'canSuMe',\n",
       " 'bigStyleCount',\n",
       " 'taiwanInfoHot7',\n",
       " 'dahu',\n",
       " 'primarySchool',\n",
       " 'taiwanInfoMaBoss']"
      ]
     },
     "execution_count": 31,
     "metadata": {},
     "output_type": "execute_result"
    }
   ],
   "source": [
    "client=pymongo.MongoClient('192.168.1.113', 27017,username=\"j122085\",password=\"850605\")\n",
    "#     client=pymongo.MongoClient('192.168.1.113', 27017,username=\"j122085\",password=\"850605\")\n",
    "db=client['rawData']\n",
    "db.collection_names()\n"
   ]
  },
  {
   "cell_type": "code",
   "execution_count": null,
   "metadata": {
    "collapsed": true
   },
   "outputs": [],
   "source": [
    "collection = db.primarySchool"
   ]
  },
  {
   "cell_type": "code",
   "execution_count": 45,
   "metadata": {
    "collapsed": true
   },
   "outputs": [],
   "source": [
    "client.close()"
   ]
  },
  {
   "cell_type": "code",
   "execution_count": 3,
   "metadata": {
    "collapsed": true
   },
   "outputs": [],
   "source": [
    "primarySchool=list(collection.find({}))"
   ]
  },
  {
   "cell_type": "code",
   "execution_count": 10,
   "metadata": {},
   "outputs": [
    {
     "data": {
      "text/plain": [
       "['_id',\n",
       " '代碼',\n",
       " '學校名稱',\n",
       " '公/私立',\n",
       " '縣市名稱',\n",
       " '地址',\n",
       " '電話',\n",
       " '網址',\n",
       " 'name',\n",
       " 'address',\n",
       " 'bigadd',\n",
       " 'smalladd',\n",
       " 'lat',\n",
       " 'lng']"
      ]
     },
     "execution_count": 10,
     "metadata": {},
     "output_type": "execute_result"
    }
   ],
   "source": [
    "list(primarySchool[0].keys())"
   ]
  },
  {
   "cell_type": "code",
   "execution_count": 8,
   "metadata": {},
   "outputs": [
    {
     "data": {
      "text/plain": [
       "['私立育才國小',\n",
       " '011601',\n",
       " '私立育才國小',\n",
       " '私立',\n",
       " '[01]新北市',\n",
       " '[234]新北市永和區福和路125巷20號',\n",
       " '(02)29214630',\n",
       " 'http://www.ytes.ntpc.edu.tw',\n",
       " '私立育才國小',\n",
       " '[234]新北市永和區福和路125巷20號',\n",
       " '新北市',\n",
       " '永和區',\n",
       " 25.007121985284826,\n",
       " 121.5216634926424]"
      ]
     },
     "execution_count": 8,
     "metadata": {},
     "output_type": "execute_result"
    }
   ],
   "source": [
    "list(primarySchool[0].values())"
   ]
  },
  {
   "cell_type": "code",
   "execution_count": 26,
   "metadata": {
    "collapsed": true,
    "scrolled": true
   },
   "outputs": [],
   "source": [
    "data=[(i['代碼'],i['學校名稱'],i['address'],i['bigadd'],i['smalladd'],i['lng'],i['lat'],\"G1\") for i in primarySchool]"
   ]
  },
  {
   "cell_type": "code",
   "execution_count": 27,
   "metadata": {},
   "outputs": [
    {
     "data": {
      "text/plain": [
       "('011601',\n",
       " '私立育才國小',\n",
       " '[234]新北市永和區福和路125巷20號',\n",
       " '新北市',\n",
       " '永和區',\n",
       " 121.5216634926424,\n",
       " 25.007121985284826,\n",
       " 'G1')"
      ]
     },
     "execution_count": 27,
     "metadata": {},
     "output_type": "execute_result"
    }
   ],
   "source": [
    "data[0]"
   ]
  },
  {
   "cell_type": "code",
   "execution_count": 56,
   "metadata": {
    "collapsed": true
   },
   "outputs": [],
   "source": [
    "conn = pymssql.connect(server='172.20.26.39:22534', user='sim',\n",
    "                           password='123', database='SIM',charset='utf8')"
   ]
  },
  {
   "cell_type": "code",
   "execution_count": 57,
   "metadata": {
    "collapsed": true
   },
   "outputs": [],
   "source": [
    "cursor = conn.cursor()"
   ]
  },
  {
   "cell_type": "code",
   "execution_count": 58,
   "metadata": {
    "collapsed": true,
    "scrolled": true
   },
   "outputs": [],
   "source": [
    "cursor.executemany(\"insert into GIS_MAPOBJECT (mobj_id,mobj_name,mobj_addr,CTRE_ID3,CTRE_ID4,mobj_lng,mobj_lat,mobj_type) values (%s, %s, %s, %s, %s, %s, %s, %s)\",\n",
    "    data)"
   ]
  },
  {
   "cell_type": "code",
   "execution_count": 59,
   "metadata": {
    "collapsed": true
   },
   "outputs": [],
   "source": [
    "conn.commit()"
   ]
  },
  {
   "cell_type": "code",
   "execution_count": 60,
   "metadata": {
    "collapsed": true
   },
   "outputs": [],
   "source": [
    "cursor.close()\n",
    "conn.close()"
   ]
  },
  {
   "cell_type": "code",
   "execution_count": 21,
   "metadata": {
    "collapsed": true
   },
   "outputs": [],
   "source": []
  },
  {
   "cell_type": "code",
   "execution_count": null,
   "metadata": {
    "collapsed": true
   },
   "outputs": [],
   "source": []
  },
  {
   "cell_type": "markdown",
   "metadata": {},
   "source": [
    "# 轉換需計算個數的feature資料"
   ]
  },
  {
   "cell_type": "code",
   "execution_count": 393,
   "metadata": {
    "collapsed": true
   },
   "outputs": [],
   "source": [
    "import pymssql\n",
    "import pymongo"
   ]
  },
  {
   "cell_type": "code",
   "execution_count": 394,
   "metadata": {
    "scrolled": true
   },
   "outputs": [
    {
     "data": {
      "text/plain": [
       "['MRTinfo',\n",
       " 'info3Store',\n",
       " 'websites591',\n",
       " 'taiwanInfo',\n",
       " 'trainStation',\n",
       " 'taiwanInfoIta',\n",
       " 'eslite',\n",
       " 'ipeenInfo',\n",
       " 'conStore',\n",
       " 'CostPower',\n",
       " 'infoClinic',\n",
       " 'Watsons',\n",
       " 'pxmart',\n",
       " 'taiwanInfoSuFood',\n",
       " 'busData',\n",
       " 'HRdata104',\n",
       " 'wowprimediendata',\n",
       " 'info591',\n",
       " 'departmentStore',\n",
       " 'carrefour',\n",
       " 'smallStyleCount',\n",
       " 'addressCoordinate',\n",
       " 'Nhuman',\n",
       " 'taiwanInfoStoneTwo',\n",
       " 'ipeenWebsite',\n",
       " 'realPriceLogin',\n",
       " 'canSuMe',\n",
       " 'bigStyleCount',\n",
       " 'taiwanInfoHot7',\n",
       " 'dahu',\n",
       " 'primarySchool',\n",
       " 'taiwanInfoMaBoss']"
      ]
     },
     "execution_count": 394,
     "metadata": {},
     "output_type": "execute_result"
    }
   ],
   "source": [
    "client=pymongo.MongoClient('192.168.1.113', 27017,username=\"j122085\",password=\"850605\")\n",
    "#     client=pymongo.MongoClient('192.168.1.113', 27017,username=\"j122085\",password=\"850605\")\n",
    "db=client['rawData']\n",
    "db.collection_names()\n"
   ]
  },
  {
   "cell_type": "code",
   "execution_count": 395,
   "metadata": {
    "collapsed": true,
    "scrolled": false
   },
   "outputs": [],
   "source": [
    "# aaa=[]\n",
    "# for i in collection.find():\n",
    "#     if i.get(\"lat\",i.get(\"LAT\",0.0))!=0.0:\n",
    "#         aaa.append([i.get(\"name\",i.get(\"NAME\",i.get(\"stationName\",\"\"))),\n",
    "#          i.get(\"lat\",i.get(\"LAT\",0.0)),\n",
    "#          i.get(\"lng\",i.get(\"LNG\",i.get(\"LON\",0.0))),\n",
    "#          i.get(\"bigadd\",i.get(\"BIGADD\",\"\")),\n",
    "#          i.get(\"smalladd\",i.get(\"SMALLADD\",\"\")),\n",
    "#          i.get(\"address\",i.get(\"ADDRESS\",\"\")),\n",
    "#          i.get(\"costPower\",\n",
    "#                i.get(\"SAL_MONTH_LOW\",\n",
    "#                      i.get(\"dinner\",\n",
    "#                            i.get(\"Nhuman\",\n",
    "#                                  i.get(\"price\",\n",
    "#                                        i.get(\"Ncomment\",\n",
    "#                                              i.get(\"每坪價格\", i.get(\"in\",\"\")))))))),    \n",
    "#          \"XXX\"])\n",
    "# aaa"
   ]
  },
  {
   "cell_type": "code",
   "execution_count": null,
   "metadata": {
    "collapsed": true
   },
   "outputs": [],
   "source": []
  },
  {
   "cell_type": "code",
   "execution_count": 398,
   "metadata": {
    "collapsed": true
   },
   "outputs": [],
   "source": [
    "typeDict={\"CostPower\":\"消費力\",\n",
    "\"HRdata104\":\"104資料\",\n",
    "\"MRTinfo\":\"捷運資料\",\n",
    "\"Nhuman\":\"戶籍人口數\",\n",
    "\"Watsons\":\"屈臣氏\",\n",
    "\"addressCoordinate\":\"鄉鎮區經緯度\",\n",
    "\"bigStyleCount\":\"愛評網大分類\",\n",
    "\"busData\":\"公車站牌資料\",\n",
    "\"canSuMe\":\"康是美\",\n",
    "\"carrefour\":\"家樂福\",\n",
    "\"conStore\":\"便利商店\",\n",
    "\"dahu\":\"大戶屋\",\n",
    "\"eslite\":\"誠品書局\",\n",
    "\"info3Store\":\"三商巧福\",\n",
    "\"info591\":\"591租屋資料\",\n",
    "\"infoClinic\":\"診所\",\n",
    "\"ipeenInfo\":\"愛評網\",\n",
    "\"ipeenWebsite\":\"愛評網網址\",\n",
    "\"pxmart\":\"全聯\",\n",
    "\"realPriceLogin\":\"實價登錄\",\n",
    "\"smallStyleCount\":\"愛評網小分類數量\",\n",
    "\"taiwanInfo\":\"台灣分析資料\",\n",
    "\"taiwanInfoHot7\":\"hot7好點預測\",\n",
    "\"taiwanInfoIta\":\"義塔好點預測\",\n",
    "\"taiwanInfoMaBoss\":\"麻老大好點預測\",\n",
    "\"taiwanInfoStoneTwo\":\"石二鍋好點預測\",\n",
    "\"taiwanInfoSuFood\":\"舒果好點預測\",\n",
    "\"trainStation\":\"火車站\",\n",
    "\"websites591\":\"591的網址\",\n",
    "\"wowprimediendata\":\"王品店家資料\",\n",
    "\"departmentStore\":\"便利商店\",\"primarySchool\":\"國中國小\"}"
   ]
  },
  {
   "cell_type": "code",
   "execution_count": 400,
   "metadata": {},
   "outputs": [],
   "source": [
    "allLocationData=[]\n",
    "for dbName in db.collection_names():\n",
    "    if \"taiwanInfo\" not in dbName:\n",
    "        collection = db[dbName]\n",
    "        for i in collection.find():\n",
    "            if i.get(\"lat\",i.get(\"LAT\",0.0))!=0.0 and len(str(i.get(\"name\",i.get(\"NAME\",i.get(\"stationName\",\"\")))).replace(\" \",\"\"))<200:\n",
    "                allLocationData.append([\n",
    "                 str(i.get(\"name\",i.get(\"NAME\",i.get(\"stationName\",\"\")))).replace(\" \",\"\"),\n",
    "                 float(i.get(\"lat\",i.get(\"LAT\",0.0))),\n",
    "                 float(i.get(\"lng\",i.get(\"LNG\",i.get(\"LON\",0.0)))),\n",
    "                 str(i.get(\"bigadd\",i.get(\"BIGADD\",\"\"))).replace(\" \",\"\"),\n",
    "                 str(i.get(\"smalladd\",i.get(\"SMALLADD\",\"\"))).replace(\" \",\"\"),\n",
    "                 str(i.get(\"address\",i.get(\"ADDRESS\",\"\"))).replace(\" \",\"\"),\n",
    "                 float(i.get(\"costPower\",\n",
    "                       i.get(\"SAL_MONTH_LOW\",\n",
    "                             i.get(\"dinner\",\n",
    "                                   i.get(\"Nhuman\",\n",
    "                                         i.get(\"price\",\n",
    "                                               i.get(\"Ncomment\",0.0))))))),    \n",
    "                 str(typeDict[dbName]).replace(\" \",\"\")])"
   ]
  },
  {
   "cell_type": "code",
   "execution_count": 401,
   "metadata": {},
   "outputs": [],
   "source": [
    "client.close()"
   ]
  },
  {
   "cell_type": "code",
   "execution_count": 402,
   "metadata": {},
   "outputs": [
    {
     "data": {
      "text/plain": [
       "305426"
      ]
     },
     "execution_count": 402,
     "metadata": {},
     "output_type": "execute_result"
    }
   ],
   "source": [
    "len(allLocationData)"
   ]
  },
  {
   "cell_type": "code",
   "execution_count": 404,
   "metadata": {},
   "outputs": [],
   "source": [
    "allLocationData=[tuple(i) for i in allLocationData]"
   ]
  },
  {
   "cell_type": "code",
   "execution_count": 405,
   "metadata": {
    "collapsed": true
   },
   "outputs": [],
   "source": [
    "try:\n",
    "    client.close()\n",
    "except:\n",
    "    pass"
   ]
  },
  {
   "cell_type": "code",
   "execution_count": 406,
   "metadata": {
    "collapsed": true
   },
   "outputs": [],
   "source": [
    "conn = pymssql.connect(server='172.20.26.39:22534', user='sim',\n",
    "                           password='123', database='SIM',charset='utf8')"
   ]
  },
  {
   "cell_type": "code",
   "execution_count": 407,
   "metadata": {
    "collapsed": true
   },
   "outputs": [],
   "source": [
    "cursor = conn.cursor()"
   ]
  },
  {
   "cell_type": "code",
   "execution_count": 408,
   "metadata": {
    "scrolled": true
   },
   "outputs": [],
   "source": [
    "cursor.executemany(\"insert into baseTable (name,lat,lng,bigadd,smalladd,address,pram,datatype) values (%s, %s, %s, %s, %s, %s, %s, %s)\",\n",
    "    allLocationData)"
   ]
  },
  {
   "cell_type": "code",
   "execution_count": 409,
   "metadata": {
    "collapsed": true
   },
   "outputs": [],
   "source": [
    "conn.commit()"
   ]
  },
  {
   "cell_type": "code",
   "execution_count": 410,
   "metadata": {
    "collapsed": true
   },
   "outputs": [],
   "source": [
    "cursor.close()\n",
    "conn.close()"
   ]
  },
  {
   "cell_type": "code",
   "execution_count": null,
   "metadata": {
    "collapsed": true
   },
   "outputs": [],
   "source": []
  },
  {
   "cell_type": "code",
   "execution_count": null,
   "metadata": {
    "collapsed": true
   },
   "outputs": [],
   "source": []
  },
  {
   "cell_type": "markdown",
   "metadata": {},
   "source": [
    "# 轉換王品店家"
   ]
  },
  {
   "cell_type": "code",
   "execution_count": 356,
   "metadata": {
    "collapsed": true
   },
   "outputs": [],
   "source": [
    "import pymssql\n",
    "import pymongo"
   ]
  },
  {
   "cell_type": "code",
   "execution_count": 357,
   "metadata": {
    "scrolled": true
   },
   "outputs": [
    {
     "data": {
      "text/plain": [
       "['MRTinfo',\n",
       " 'info3Store',\n",
       " 'websites591',\n",
       " 'taiwanInfo',\n",
       " 'trainStation',\n",
       " 'taiwanInfoIta',\n",
       " 'eslite',\n",
       " 'ipeenInfo',\n",
       " 'conStore',\n",
       " 'CostPower',\n",
       " 'infoClinic',\n",
       " 'Watsons',\n",
       " 'pxmart',\n",
       " 'taiwanInfoSuFood',\n",
       " 'busData',\n",
       " 'HRdata104',\n",
       " 'wowprimediendata',\n",
       " 'info591',\n",
       " 'departmentStore',\n",
       " 'carrefour',\n",
       " 'smallStyleCount',\n",
       " 'addressCoordinate',\n",
       " 'Nhuman',\n",
       " 'taiwanInfoStoneTwo',\n",
       " 'ipeenWebsite',\n",
       " 'realPriceLogin',\n",
       " 'canSuMe',\n",
       " 'bigStyleCount',\n",
       " 'taiwanInfoHot7',\n",
       " 'dahu',\n",
       " 'primarySchool',\n",
       " 'taiwanInfoMaBoss']"
      ]
     },
     "execution_count": 357,
     "metadata": {},
     "output_type": "execute_result"
    }
   ],
   "source": [
    "client=pymongo.MongoClient('192.168.1.113', 27017,username=\"j122085\",password=\"850605\")\n",
    "#     client=pymongo.MongoClient('192.168.1.113', 27017,username=\"j122085\",password=\"850605\")\n",
    "db=client['rawData']\n",
    "db.collection_names()\n"
   ]
  },
  {
   "cell_type": "code",
   "execution_count": 358,
   "metadata": {},
   "outputs": [],
   "source": [
    "collection = db.wowprimediendata\n",
    "wowData=list(collection.find({}))"
   ]
  },
  {
   "cell_type": "code",
   "execution_count": 359,
   "metadata": {
    "collapsed": true
   },
   "outputs": [],
   "source": [
    "client.close()"
   ]
  },
  {
   "cell_type": "code",
   "execution_count": 360,
   "metadata": {},
   "outputs": [],
   "source": [
    "from datetime import datetime\n",
    "wowData=[[i.get(\"Called\",\"\"),\n",
    "               i.get(\"CareerNo\",\"\"),\n",
    "               i.get(\"StoreNo\",\"\"),\n",
    "               i.get(\"StoreName\",\"\"),\n",
    "               i.get(\"Address\",\"\"),\n",
    "               i.get(\"bigadd\",\"\"),\n",
    "               i.get(\"smalladd\",\"\"),\n",
    "               i.get(\"storeType\",\"\"),\n",
    "               i.get(\"lat\",0.0),\n",
    "               i.get(\"lng\",0.0),\n",
    "               i.get(\"CloseDate\",\"\"),\n",
    "               i.get(\"CreateDate\",\"\"),\n",
    "               i.get(\"ADGC_weekday\",0),\n",
    "               i.get(\"ADGC_holiday\",0)] for i in wowData]"
   ]
  },
  {
   "cell_type": "code",
   "execution_count": 361,
   "metadata": {},
   "outputs": [],
   "source": [
    "for i in wowData:\n",
    "    if i[-3]!=\"None\":\n",
    "        i[-3]=str(datetime.strptime(i[-3].split(\".\")[0],'%Y-%m-%d %H:%M:%S'))\n",
    "    if i[-4]!=\"None\":\n",
    "        i[-4]=str(datetime.strptime(i[-4].split(\".\")[0],'%Y-%m-%d %H:%M:%S'))"
   ]
  },
  {
   "cell_type": "code",
   "execution_count": 362,
   "metadata": {},
   "outputs": [],
   "source": [
    "wowData=[tuple(i) for i in wowData]"
   ]
  },
  {
   "cell_type": "code",
   "execution_count": 364,
   "metadata": {
    "collapsed": true
   },
   "outputs": [],
   "source": [
    "try:\n",
    "    client.close()\n",
    "except:\n",
    "    pass"
   ]
  },
  {
   "cell_type": "code",
   "execution_count": 375,
   "metadata": {
    "collapsed": true
   },
   "outputs": [],
   "source": [
    "conn = pymssql.connect(server='172.20.26.39:22534', user='sim',\n",
    "                           password='123', database='SIM',charset='utf8')"
   ]
  },
  {
   "cell_type": "code",
   "execution_count": 376,
   "metadata": {
    "collapsed": true
   },
   "outputs": [],
   "source": [
    "cursor = conn.cursor()"
   ]
  },
  {
   "cell_type": "code",
   "execution_count": null,
   "metadata": {
    "scrolled": true
   },
   "outputs": [],
   "source": [
    "cursor.executemany(\"insert into wow_store (career,career_no,stor_id,stor_name,address,bigadd,smalladd,store_type,lat,lng,close_date,create_date,adgc_weekday,adgc_holiday)\\\n",
    "values (%s, %s, %s, %s, %s, %s, %s,%s, %s, %s, %s, %s, %s, %s)\",\n",
    "    wowData)"
   ]
  },
  {
   "cell_type": "code",
   "execution_count": 378,
   "metadata": {
    "collapsed": true
   },
   "outputs": [],
   "source": [
    "conn.commit()"
   ]
  },
  {
   "cell_type": "code",
   "execution_count": 379,
   "metadata": {
    "collapsed": true
   },
   "outputs": [],
   "source": [
    "cursor.close()\n",
    "conn.close()"
   ]
  },
  {
   "cell_type": "code",
   "execution_count": null,
   "metadata": {
    "collapsed": true
   },
   "outputs": [],
   "source": []
  },
  {
   "cell_type": "code",
   "execution_count": null,
   "metadata": {
    "collapsed": true
   },
   "outputs": [],
   "source": []
  },
  {
   "cell_type": "markdown",
   "metadata": {},
   "source": [
    "# 轉換愛評網資料"
   ]
  },
  {
   "cell_type": "code",
   "execution_count": 411,
   "metadata": {
    "collapsed": true
   },
   "outputs": [],
   "source": [
    "import pymssql\n",
    "import pymongo"
   ]
  },
  {
   "cell_type": "code",
   "execution_count": 412,
   "metadata": {
    "scrolled": true
   },
   "outputs": [
    {
     "data": {
      "text/plain": [
       "['MRTinfo',\n",
       " 'info3Store',\n",
       " 'websites591',\n",
       " 'taiwanInfo',\n",
       " 'trainStation',\n",
       " 'taiwanInfoIta',\n",
       " 'eslite',\n",
       " 'ipeenInfo',\n",
       " 'conStore',\n",
       " 'CostPower',\n",
       " 'infoClinic',\n",
       " 'Watsons',\n",
       " 'pxmart',\n",
       " 'taiwanInfoSuFood',\n",
       " 'busData',\n",
       " 'HRdata104',\n",
       " 'wowprimediendata',\n",
       " 'info591',\n",
       " 'departmentStore',\n",
       " 'carrefour',\n",
       " 'smallStyleCount',\n",
       " 'addressCoordinate',\n",
       " 'Nhuman',\n",
       " 'taiwanInfoStoneTwo',\n",
       " 'ipeenWebsite',\n",
       " 'realPriceLogin',\n",
       " 'canSuMe',\n",
       " 'bigStyleCount',\n",
       " 'taiwanInfoHot7',\n",
       " 'dahu',\n",
       " 'primarySchool',\n",
       " 'taiwanInfoMaBoss']"
      ]
     },
     "execution_count": 412,
     "metadata": {},
     "output_type": "execute_result"
    }
   ],
   "source": [
    "client=pymongo.MongoClient('192.168.1.113', 27017,username=\"j122085\",password=\"850605\")\n",
    "#     client=pymongo.MongoClient('192.168.1.113', 27017,username=\"j122085\",password=\"850605\")\n",
    "db=client['rawData']\n",
    "db.collection_names()\n"
   ]
  },
  {
   "cell_type": "code",
   "execution_count": 413,
   "metadata": {
    "collapsed": true
   },
   "outputs": [],
   "source": [
    "collection = db.ipeenInfo\n",
    "ipeenData=list(collection.find({}))"
   ]
  },
  {
   "cell_type": "code",
   "execution_count": 414,
   "metadata": {
    "collapsed": true
   },
   "outputs": [],
   "source": [
    "client.close()"
   ]
  },
  {
   "cell_type": "code",
   "execution_count": 415,
   "metadata": {
    "collapsed": true
   },
   "outputs": [],
   "source": [
    "from datetime import datetime\n",
    "ipeenData=[[i.get(\"name\",\"\"),\n",
    "               i.get(\"lat\",0.0),\n",
    "               i.get(\"lng\",0.0),\n",
    "               i.get(\"bigadd\",\"\"),\n",
    "               i.get(\"smalladd\",\"\"),\n",
    "               i.get(\"address\",\"\"),\n",
    "               i.get(\"bigstyle\",\"\"),\n",
    "               i.get(\"smallstyle\",\"\"),\n",
    "               i.get(\"averagecost\",0),\n",
    "               i.get(\"Ncomment\",0),\n",
    "               i.get(\"viewcount\",0),\n",
    "               i.get(\"reviewdate\",\"\")] for i in ipeenData]"
   ]
  },
  {
   "cell_type": "code",
   "execution_count": 420,
   "metadata": {},
   "outputs": [
    {
     "data": {
      "text/plain": [
       "'2018-09-30 00:00:00'"
      ]
     },
     "execution_count": 420,
     "metadata": {},
     "output_type": "execute_result"
    }
   ],
   "source": [
    "i[-1]"
   ]
  },
  {
   "cell_type": "code",
   "execution_count": null,
   "metadata": {
    "scrolled": true
   },
   "outputs": [],
   "source": [
    "for i in ipeenData:\n",
    "    if i[-1]!=\"\":\n",
    "        i[-1]=str(datetime.strptime(i[-1].split(\".\")[0],'%Y/%m/%d'))"
   ]
  },
  {
   "cell_type": "code",
   "execution_count": 422,
   "metadata": {
    "collapsed": true
   },
   "outputs": [],
   "source": [
    "ipeenData=[tuple(i) for i in ipeenData]"
   ]
  },
  {
   "cell_type": "code",
   "execution_count": 424,
   "metadata": {
    "collapsed": true
   },
   "outputs": [],
   "source": [
    "try:\n",
    "    client.close()\n",
    "except:\n",
    "    pass"
   ]
  },
  {
   "cell_type": "code",
   "execution_count": 425,
   "metadata": {
    "collapsed": true
   },
   "outputs": [],
   "source": [
    "conn = pymssql.connect(server='172.20.26.39:22534', user='sim',\n",
    "                           password='123', database='SIM',charset='utf8')"
   ]
  },
  {
   "cell_type": "code",
   "execution_count": 426,
   "metadata": {
    "collapsed": true
   },
   "outputs": [],
   "source": [
    "cursor = conn.cursor()"
   ]
  },
  {
   "cell_type": "code",
   "execution_count": 427,
   "metadata": {
    "collapsed": true,
    "scrolled": true
   },
   "outputs": [],
   "source": [
    "cursor.executemany(\"insert into ipeen_data (name,lat,lng,bigadd,smalladd,address,bigstyle,smallstyle,averagecost,ncomment,viewcount,reviewdate)\\\n",
    "values (%s, %s, %s, %s, %s, %s, %s,%s, %s, %s, %s, %s)\",\n",
    "    ipeenData)"
   ]
  },
  {
   "cell_type": "code",
   "execution_count": 428,
   "metadata": {
    "collapsed": true
   },
   "outputs": [],
   "source": [
    "conn.commit()"
   ]
  },
  {
   "cell_type": "code",
   "execution_count": 429,
   "metadata": {
    "collapsed": true
   },
   "outputs": [],
   "source": [
    "cursor.close()\n",
    "conn.close()"
   ]
  },
  {
   "cell_type": "code",
   "execution_count": null,
   "metadata": {
    "collapsed": true
   },
   "outputs": [],
   "source": []
  },
  {
   "cell_type": "code",
   "execution_count": null,
   "metadata": {
    "collapsed": true
   },
   "outputs": [],
   "source": []
  },
  {
   "cell_type": "markdown",
   "metadata": {},
   "source": [
    "# 轉換消費力資料"
   ]
  },
  {
   "cell_type": "code",
   "execution_count": 530,
   "metadata": {
    "collapsed": true
   },
   "outputs": [],
   "source": [
    "import pymssql\n",
    "import pymongo"
   ]
  },
  {
   "cell_type": "code",
   "execution_count": 531,
   "metadata": {
    "scrolled": true
   },
   "outputs": [
    {
     "data": {
      "text/plain": [
       "['MRTinfo',\n",
       " 'info3Store',\n",
       " 'websites591',\n",
       " 'taiwanInfo',\n",
       " 'trainStation',\n",
       " 'taiwanInfoIta',\n",
       " 'eslite',\n",
       " 'ipeenInfo',\n",
       " 'conStore',\n",
       " 'CostPower',\n",
       " 'infoClinic',\n",
       " 'Watsons',\n",
       " 'pxmart',\n",
       " 'taiwanInfoSuFood',\n",
       " 'busData',\n",
       " 'HRdata104',\n",
       " 'wowprimediendata',\n",
       " 'info591',\n",
       " 'departmentStore',\n",
       " 'carrefour',\n",
       " 'smallStyleCount',\n",
       " 'addressCoordinate',\n",
       " 'Nhuman',\n",
       " 'taiwanInfoStoneTwo',\n",
       " 'ipeenWebsite',\n",
       " 'realPriceLogin',\n",
       " 'canSuMe',\n",
       " 'bigStyleCount',\n",
       " 'taiwanInfoHot7',\n",
       " 'dahu',\n",
       " 'primarySchool',\n",
       " 'taiwanInfoMaBoss']"
      ]
     },
     "execution_count": 531,
     "metadata": {},
     "output_type": "execute_result"
    }
   ],
   "source": [
    "client=pymongo.MongoClient('192.168.1.113', 27017,username=\"j122085\",password=\"850605\")\n",
    "#     client=pymongo.MongoClient('192.168.1.113', 27017,username=\"j122085\",password=\"850605\")\n",
    "db=client['rawData']\n",
    "db.collection_names()\n"
   ]
  },
  {
   "cell_type": "code",
   "execution_count": 532,
   "metadata": {
    "collapsed": true
   },
   "outputs": [],
   "source": [
    "collection = db.CostPower\n",
    "Data=list(collection.find({}))"
   ]
  },
  {
   "cell_type": "code",
   "execution_count": 534,
   "metadata": {
    "collapsed": true
   },
   "outputs": [],
   "source": [
    "client.close()"
   ]
  },
  {
   "cell_type": "code",
   "execution_count": 535,
   "metadata": {},
   "outputs": [],
   "source": [
    "from datetime import datetime\n",
    "Data1=[[round(i.get(\"lat\",0.0),8),\n",
    "               round(i.get(\"lng\",0.0),8),\n",
    "               i.get(\"bigadd\",\"\"),\n",
    "               i.get(\"smalladd\",\"\"),\n",
    "               i.get(\"_id\",\"\")[-3:],\n",
    "               int(i.get(\"costPower\",0.0)),\n",
    "               \"消費力-電子發票張數\"] for i in Data]\n",
    "Data2=[[round(i.get(\"lat\",0.0),8),\n",
    "               round(i.get(\"lng\",0.0),8),\n",
    "               i.get(\"bigadd\",\"\"),\n",
    "               i.get(\"smalladd\",\"\"),\n",
    "               i.get(\"_id\",\"\")[-3:],\n",
    "               int(i.get(\"invoice\",0.0)),\n",
    "               \"消費力-電子發票額度\"] for i in Data]"
   ]
  },
  {
   "cell_type": "code",
   "execution_count": 536,
   "metadata": {
    "collapsed": true
   },
   "outputs": [],
   "source": [
    "Data1=[tuple(i) for i in Data1]\n",
    "Data2=[tuple(i) for i in Data2]"
   ]
  },
  {
   "cell_type": "code",
   "execution_count": 537,
   "metadata": {
    "collapsed": true
   },
   "outputs": [],
   "source": [
    "try:\n",
    "    client.close()\n",
    "except:\n",
    "    pass"
   ]
  },
  {
   "cell_type": "code",
   "execution_count": 538,
   "metadata": {
    "collapsed": true
   },
   "outputs": [],
   "source": [
    "conn = pymssql.connect(server='172.20.26.39:22534', user='sim',\n",
    "                           password='123', database='SIM',charset='utf8')"
   ]
  },
  {
   "cell_type": "code",
   "execution_count": 539,
   "metadata": {
    "collapsed": true
   },
   "outputs": [],
   "source": [
    "cursor = conn.cursor()"
   ]
  },
  {
   "cell_type": "code",
   "execution_count": 540,
   "metadata": {
    "scrolled": true
   },
   "outputs": [],
   "source": [
    "cursor.executemany(\"insert into costpower (lat,lng,bigadd,smalladd,area,costpower,type_costpower)\\\n",
    "values (%s, %s, %s, %s, %s, %s, %s)\",\n",
    "    Data1)"
   ]
  },
  {
   "cell_type": "code",
   "execution_count": 541,
   "metadata": {
    "collapsed": true
   },
   "outputs": [],
   "source": [
    "cursor.executemany(\"insert into costpower (lat,lng,bigadd,smalladd,area,costpower,type_costpower)\\\n",
    "values (%s, %s, %s, %s, %s, %s, %s)\",\n",
    "    Data2)"
   ]
  },
  {
   "cell_type": "code",
   "execution_count": 542,
   "metadata": {
    "collapsed": true
   },
   "outputs": [],
   "source": [
    "conn.commit()"
   ]
  },
  {
   "cell_type": "code",
   "execution_count": 543,
   "metadata": {
    "collapsed": true
   },
   "outputs": [],
   "source": [
    "cursor.close()\n",
    "conn.close()"
   ]
  },
  {
   "cell_type": "code",
   "execution_count": null,
   "metadata": {
    "collapsed": true
   },
   "outputs": [],
   "source": []
  },
  {
   "cell_type": "code",
   "execution_count": null,
   "metadata": {
    "collapsed": true
   },
   "outputs": [],
   "source": []
  },
  {
   "cell_type": "markdown",
   "metadata": {},
   "source": [
    "# 轉換人口資料"
   ]
  },
  {
   "cell_type": "code",
   "execution_count": 513,
   "metadata": {
    "collapsed": true
   },
   "outputs": [],
   "source": [
    "import pymssql\n",
    "import pymongo"
   ]
  },
  {
   "cell_type": "code",
   "execution_count": 514,
   "metadata": {
    "scrolled": true
   },
   "outputs": [
    {
     "data": {
      "text/plain": [
       "['MRTinfo',\n",
       " 'info3Store',\n",
       " 'websites591',\n",
       " 'taiwanInfo',\n",
       " 'trainStation',\n",
       " 'taiwanInfoIta',\n",
       " 'eslite',\n",
       " 'ipeenInfo',\n",
       " 'conStore',\n",
       " 'CostPower',\n",
       " 'infoClinic',\n",
       " 'Watsons',\n",
       " 'pxmart',\n",
       " 'taiwanInfoSuFood',\n",
       " 'busData',\n",
       " 'HRdata104',\n",
       " 'wowprimediendata',\n",
       " 'info591',\n",
       " 'departmentStore',\n",
       " 'carrefour',\n",
       " 'smallStyleCount',\n",
       " 'addressCoordinate',\n",
       " 'Nhuman',\n",
       " 'taiwanInfoStoneTwo',\n",
       " 'ipeenWebsite',\n",
       " 'realPriceLogin',\n",
       " 'canSuMe',\n",
       " 'bigStyleCount',\n",
       " 'taiwanInfoHot7',\n",
       " 'dahu',\n",
       " 'primarySchool',\n",
       " 'taiwanInfoMaBoss']"
      ]
     },
     "execution_count": 514,
     "metadata": {},
     "output_type": "execute_result"
    }
   ],
   "source": [
    "client=pymongo.MongoClient('192.168.1.113', 27017,username=\"j122085\",password=\"850605\")\n",
    "#     client=pymongo.MongoClient('192.168.1.113', 27017,username=\"j122085\",password=\"850605\")\n",
    "db=client['rawData']\n",
    "db.collection_names()\n"
   ]
  },
  {
   "cell_type": "code",
   "execution_count": 515,
   "metadata": {
    "collapsed": true
   },
   "outputs": [],
   "source": [
    "collection = db.Nhuman\n",
    "Data=list(collection.find({}))"
   ]
  },
  {
   "cell_type": "code",
   "execution_count": 516,
   "metadata": {},
   "outputs": [
    {
     "data": {
      "text/plain": [
       "{'Nhuman': '1567',\n",
       " '_id': '新北市板橋區流芳里',\n",
       " 'bigadd': '新北市',\n",
       " 'lat': 25.00855000000007,\n",
       " 'lng': 121.45719000000008,\n",
       " 'smalladd': '板橋區'}"
      ]
     },
     "execution_count": 516,
     "metadata": {},
     "output_type": "execute_result"
    }
   ],
   "source": [
    "Data[0]"
   ]
  },
  {
   "cell_type": "code",
   "execution_count": 517,
   "metadata": {
    "collapsed": true
   },
   "outputs": [],
   "source": [
    "client.close()"
   ]
  },
  {
   "cell_type": "code",
   "execution_count": 518,
   "metadata": {
    "collapsed": true
   },
   "outputs": [],
   "source": [
    "from datetime import datetime\n",
    "Data1=[[round(i.get(\"lat\",0.0),8),\n",
    "               round(i.get(\"lng\",0.0),8),\n",
    "               i.get(\"bigadd\",\"\"),\n",
    "               i.get(\"smalladd\",\"\"),\n",
    "               i.get(\"_id\",\"\")[-3:],\n",
    "               int(i.get(\"Nhuman\",0.0))\n",
    "       ] for i in Data]"
   ]
  },
  {
   "cell_type": "code",
   "execution_count": 519,
   "metadata": {
    "collapsed": true
   },
   "outputs": [],
   "source": [
    "Data1=[tuple(i) for i in Data1]"
   ]
  },
  {
   "cell_type": "code",
   "execution_count": 520,
   "metadata": {
    "collapsed": true
   },
   "outputs": [],
   "source": [
    "try:\n",
    "    client.close()\n",
    "except:\n",
    "    pass"
   ]
  },
  {
   "cell_type": "code",
   "execution_count": 525,
   "metadata": {
    "collapsed": true
   },
   "outputs": [],
   "source": [
    "conn = pymssql.connect(server='172.20.26.39:22534', user='sim',\n",
    "                           password='123', database='SIM',charset='utf8')"
   ]
  },
  {
   "cell_type": "code",
   "execution_count": 526,
   "metadata": {
    "collapsed": true
   },
   "outputs": [],
   "source": [
    "cursor = conn.cursor()"
   ]
  },
  {
   "cell_type": "code",
   "execution_count": 527,
   "metadata": {
    "collapsed": true,
    "scrolled": true
   },
   "outputs": [],
   "source": [
    "cursor.executemany(\"insert into population (lat,lng,bigadd,smalladd,area,population)\\\n",
    "values (%s, %s, %s, %s, %s, %s)\",\n",
    "    Data1)"
   ]
  },
  {
   "cell_type": "code",
   "execution_count": 528,
   "metadata": {
    "collapsed": true
   },
   "outputs": [],
   "source": [
    "conn.commit()"
   ]
  },
  {
   "cell_type": "code",
   "execution_count": 529,
   "metadata": {
    "collapsed": true
   },
   "outputs": [],
   "source": [
    "cursor.close()\n",
    "conn.close()"
   ]
  },
  {
   "cell_type": "code",
   "execution_count": null,
   "metadata": {
    "collapsed": true
   },
   "outputs": [],
   "source": []
  }
 ],
 "metadata": {
  "kernelspec": {
   "display_name": "Python 3",
   "language": "python",
   "name": "python3"
  },
  "language_info": {
   "codemirror_mode": {
    "name": "ipython",
    "version": 3
   },
   "file_extension": ".py",
   "mimetype": "text/x-python",
   "name": "python",
   "nbconvert_exporter": "python",
   "pygments_lexer": "ipython3",
   "version": "3.6.4"
  }
 },
 "nbformat": 4,
 "nbformat_minor": 2
}
