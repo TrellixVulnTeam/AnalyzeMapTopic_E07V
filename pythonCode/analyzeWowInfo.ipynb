{
 "cells": [
  {
   "cell_type": "code",
   "execution_count": 2,
   "metadata": {
    "collapsed": true
   },
   "outputs": [],
   "source": [
    "import json\n",
    "import pymongo\n",
    "from math import radians, cos, sin, asin, sqrt\n",
    "import numpy\n",
    "import math\n",
    "from collections import Counter"
   ]
  },
  {
   "cell_type": "code",
   "execution_count": 3,
   "metadata": {
    "collapsed": true
   },
   "outputs": [],
   "source": [
    "def haversine(lng1, lat1, lng2, lat2):\n",
    "    # 将十进制度数转化为弧度\n",
    "    lng1, lat1, lng2, lat2 = map(radians, [lng1, lat1, lng2, lat2])\n",
    "    # haversine公式\n",
    "    dlng = lng2 - lng1\n",
    "    dlat = lat2 - lat1\n",
    "    a = sin(dlat / 2) ** 2 + cos(lat1) * cos(lat2) * sin(dlng / 2) ** 2\n",
    "    c = 2 * asin(sqrt(a))\n",
    "    r = 6371  # 地球平均半径，单位为公里\n",
    "    return c * r * 1000"
   ]
  },
  {
   "cell_type": "code",
   "execution_count": 4,
   "metadata": {},
   "outputs": [
    {
     "data": {
      "text/plain": [
       "['Watsons',\n",
       " 'busData',\n",
       " 'HRdata104',\n",
       " 'wowprimediendata',\n",
       " 'info591',\n",
       " 'departmentStore',\n",
       " 'websites591',\n",
       " 'taiwanInfo',\n",
       " 'smallStyleCount',\n",
       " 'addressCoordinate',\n",
       " 'Nhuman',\n",
       " 'ipeenWebsite',\n",
       " 'bigStyleCount',\n",
       " 'ipeenInfo',\n",
       " 'conStore',\n",
       " 'testDB',\n",
       " 'CostPower']"
      ]
     },
     "execution_count": 4,
     "metadata": {},
     "output_type": "execute_result"
    }
   ],
   "source": [
    "queryElements={}\n",
    "client = pymongo.mongo_client.MongoClient(\"localhost\", 27017,username='j122085',password='850605')\n",
    "db=client.rawData\n",
    "db.collection_names()"
   ]
  },
  {
   "cell_type": "code",
   "execution_count": 5,
   "metadata": {},
   "outputs": [
    {
     "data": {
      "text/plain": [
       "{'Ncomment': 118,\n",
       " 'address': '台北市信義區忠孝東路五段10號10樓',\n",
       " 'averagecost': 1210,\n",
       " 'bigadd': '台北市',\n",
       " 'bigstyle': 'buffet自助餐',\n",
       " 'collecount': 739,\n",
       " 'comments': ['http://www.ipeen.com.tw/comment/1360256',\n",
       "  'http://www.ipeen.com.tw/comment/1260569',\n",
       "  'http://www.ipeen.com.tw/comment/1241048',\n",
       "  'http://www.ipeen.com.tw/comment/1197122',\n",
       "  'http://www.ipeen.com.tw/comment/1186946'],\n",
       " 'id': 95584,\n",
       " 'ipeenscore': 45,\n",
       " 'lat': 25.040763368711964,\n",
       " 'lng': 121.56571445244984,\n",
       " 'name': '台北W飯店 - the kitchen table 西餐廳',\n",
       " 'reviewdate': '2016/09/01',\n",
       " 'smalladd': '信義區',\n",
       " 'smallstyle': '複合式',\n",
       " 'status': '正常營業',\n",
       " 'tele': '0277038887',\n",
       " 'url': 'http://www.ipeen.com.tw/shop/95584',\n",
       " 'viewcount': 8987274}"
      ]
     },
     "execution_count": 5,
     "metadata": {},
     "output_type": "execute_result"
    }
   ],
   "source": [
    "# collection = client.rawData.wowprimeipeen\n",
    "collection = client.rawData.ipeenInfo\n",
    "ipeendata = list(collection.find(queryElements))\n",
    "client.close()\n",
    "ipeendata = [dien for dien in ipeendata if dien['status'] == \"正常營業\"\n",
    "                                         and dien['lat'] > 18\n",
    "                                         and dien['lat'] < 27\n",
    "                                         and dien['lng'] < 125\n",
    "                                         and dien['lng'] > 117\n",
    "                                         and dien['bigadd'] != 0\n",
    "                                         and dien['smalladd'] != 0\n",
    "                                         and dien['averagecost']<8000]\n",
    "\n",
    "for dien in ipeendata:\n",
    "    dien[\"id\"] = dien.pop(\"_id\")\n",
    "ipeendata[3]"
   ]
  },
  {
   "cell_type": "code",
   "execution_count": 6,
   "metadata": {},
   "outputs": [
    {
     "data": {
      "text/plain": [
       "{'APPEAR_DATE': '20180222',\n",
       " 'DESCRIPTION': '陶板屋台北重慶南店\\n誠    徵：大廳計時人員\\n工作內容：協助現場顧客服務、外場營運協助等。\\n工作時段：(依營運需求彈性排班,工作時間面試詳洽)\\n\\n◎ 全日班-1名\\n(10:30~14:30 及 17:00~22:00)\\n◎ 假日班-1名\\n(10:30~14:30 及 17:00~22:00) \\n◎ 早班-1名\\n(10:30~14:30)\\n◎ 晚班-1名\\n(17:00~22:00)\\n\\n學/經 歷：高中職以上,具服務熱忱。',\n",
       " 'J': '4460426b56363f5631323a6344543618638704226443640212121211f382b2625381j52',\n",
       " 'JOB': '陶板屋台北重慶南店-大廳計時人員',\n",
       " 'JOBCAT_DESCRIPT': '餐飲服務生',\n",
       " 'JOB_ADDRESS': '重慶南路一段58號2樓',\n",
       " 'JOB_ADDR_NO_DESCRIPT': '台北市中正區',\n",
       " 'NAME': '王品餐飲股份有限公司',\n",
       " 'SAL_MONTH_HIGH': 26400,\n",
       " 'SAL_MONTH_LOW': 24800,\n",
       " 'bigadd': '台北市',\n",
       " 'bigstyle': '咖啡、簡餐、茶',\n",
       " 'lat': 25.043903,\n",
       " 'lng': 121.513078,\n",
       " 'smalladd': '中正區'}"
      ]
     },
     "execution_count": 6,
     "metadata": {},
     "output_type": "execute_result"
    }
   ],
   "source": [
    "client = pymongo.mongo_client.MongoClient(\"localhost\", 27017,username='j122085',password='850605')\n",
    "collection = client.rawData.HRdata104\n",
    "hr104data = list(collection.find(queryElements))\n",
    "client.close()\n",
    "hr104data = [dien for dien in hr104data if dien['LAT'] > 18\n",
    "             and dien['LAT'] < 27\n",
    "             and dien['SAL_MONTH_LOW'] > 18000\n",
    "             and dien['SAL_MONTH_LOW'] < 100000\n",
    "             and dien['SAL_MONTH_HIGH'] > 18000\n",
    "             and dien['SAL_MONTH_HIGH'] < 200000\n",
    "             and dien['LON'] < 125\n",
    "             and dien['LON'] > 117\n",
    "             and dien['bigadd'] != 0\n",
    "             and dien['smalladd'] != 0]\n",
    "\n",
    "\n",
    "\n",
    "for dien in hr104data:\n",
    "    dien[\"lat\"] = dien.pop(\"LAT\")\n",
    "    dien[\"lng\"] = dien.pop(\"LON\")\n",
    "    del dien[\"_id\"]\n",
    "hr104data[5]"
   ]
  },
  {
   "cell_type": "code",
   "execution_count": 7,
   "metadata": {},
   "outputs": [
    {
     "data": {
      "text/plain": [
       "{'add': '新北市板橋區新興里',\n",
       " 'bigadd': '新北市',\n",
       " 'lat': 25.0076421,\n",
       " 'lng': 121.4549022,\n",
       " 'smalladd': '板橋區',\n",
       " 'weight': 3337}"
      ]
     },
     "execution_count": 7,
     "metadata": {},
     "output_type": "execute_result"
    }
   ],
   "source": [
    "client = pymongo.mongo_client.MongoClient(\"localhost\", 27017,username='j122085',password='850605')\n",
    "collection = client.rawData.Nhuman\n",
    "Nhumandata = list(collection.find(queryElements))\n",
    "client.close()\n",
    "for dien in Nhumandata:\n",
    "    dien[\"weight\"] = int(dien.pop(\"Nhuman\"))\n",
    "    dien[\"add\"] = dien.pop(\"_id\")\n",
    "Nhumandata[5]"
   ]
  },
  {
   "cell_type": "code",
   "execution_count": 8,
   "metadata": {},
   "outputs": [
    {
     "data": {
      "text/plain": [
       "{'add': '臺北市士林區舊佳里',\n",
       " 'bigadd': '台北市',\n",
       " 'lat': 25.0973296,\n",
       " 'lng': 121.5248678,\n",
       " 'smalladd': '士林區',\n",
       " 'weight': 68}"
      ]
     },
     "execution_count": 8,
     "metadata": {},
     "output_type": "execute_result"
    }
   ],
   "source": [
    "client = pymongo.mongo_client.MongoClient(\"localhost\", 27017,username='j122085',password='850605')\n",
    "collection = client.rawData.CostPower\n",
    "CostPowerdata = list(collection.find(queryElements))\n",
    "client.close()\n",
    "for dien in CostPowerdata:\n",
    "    dien[\"weight\"] = int(dien.pop('costPower'))\n",
    "    dien[\"add\"] = dien.pop(\"_id\")\n",
    "CostPowerdata[5]"
   ]
  },
  {
   "cell_type": "code",
   "execution_count": 9,
   "metadata": {},
   "outputs": [
    {
     "data": {
      "text/plain": [
       "{'_id': '東新國小',\n",
       " 'bigCity': '臺北市',\n",
       " 'lat': 25.05746843,\n",
       " 'lng': 121.6020404,\n",
       " 'stationName': '東新國小'}"
      ]
     },
     "execution_count": 9,
     "metadata": {},
     "output_type": "execute_result"
    }
   ],
   "source": [
    "client = pymongo.mongo_client.MongoClient(\"localhost\", 27017,username='j122085',password='850605')\n",
    "collection = client.rawData.busData\n",
    "busData = list(collection.find(queryElements))\n",
    "client.close()\n",
    "busData[5]\n",
    "# ['busData',\n",
    "#  'HRdata104',\n",
    "#  'wowprimediendata',\n",
    "#  'departmentStore',\n",
    "#  'smallStyleCount',\n",
    "#  'addressCoordinate',\n",
    "#  'Nhuman',\n",
    "#  'ipeenWebsite',\n",
    "#  'bigStyleCount',\n",
    "#  'ipeenInfo',\n",
    "#  'conStore',\n",
    "#  'testDB',\n",
    "#  'CostPower']"
   ]
  },
  {
   "cell_type": "code",
   "execution_count": 10,
   "metadata": {},
   "outputs": [
    {
     "data": {
      "text/plain": [
       "{'_id': '高雄市前鎮區草衙里后安路１４６',\n",
       " 'add': '高雄市前鎮區草衙里后安路１４６',\n",
       " 'bigadd': '高雄市',\n",
       " 'lat': '25.086368784991',\n",
       " 'lng': '121.52553924517',\n",
       " 'name': '統一超商股份有限公司',\n",
       " 'smalladd': '前鎮區'}"
      ]
     },
     "execution_count": 10,
     "metadata": {},
     "output_type": "execute_result"
    }
   ],
   "source": [
    "client = pymongo.mongo_client.MongoClient(\"localhost\", 27017,username='j122085',password='850605')\n",
    "collection = client.rawData.conStore\n",
    "busData = list(collection.find(queryElements))\n",
    "client.close()\n",
    "busData[5]"
   ]
  },
  {
   "cell_type": "code",
   "execution_count": 11,
   "metadata": {
    "scrolled": true
   },
   "outputs": [
    {
     "data": {
      "text/plain": [
       "{'Address': '新北市新店區民權路86號2樓',\n",
       " 'AreaManager': '王至誠',\n",
       " 'Called': '原燒',\n",
       " 'CareerName': '原燒事業處',\n",
       " 'CareerNo': '102',\n",
       " 'Chef': '郭炳志',\n",
       " 'CloseDate': 'None',\n",
       " 'CodeId': 'F',\n",
       " 'CorporationId': '27492204',\n",
       " 'Corporation_ch': '原燒新店民權分公司',\n",
       " 'CreateDate': '2018-02-02 08:46:12.987000',\n",
       " 'ItemName': '百貨點',\n",
       " 'Manager': '吳憲政',\n",
       " 'NbusStation_Analyze': 10,\n",
       " 'NconStore_Analyze': 133,\n",
       " 'NcostData_Analyze': 27,\n",
       " 'Nhuman_Analyze': 243950,\n",
       " 'Njob_Analyze': 103,\n",
       " 'Nken_Analyze': 2,\n",
       " 'Nmc_Analyze': 5,\n",
       " 'Nstar_Analyze': 5,\n",
       " 'Nwa_Analyze': 1,\n",
       " 'Phone': '02-22191613',\n",
       " 'PlaceNo': '33',\n",
       " 'StoreName': '新店民權',\n",
       " 'StoreNo': '10202',\n",
       " '_id': '10202',\n",
       " 'areaRadius_Analyze': 2000,\n",
       " 'avgCost_Analyze': 121.0,\n",
       " 'avgDailyCustomer': 143,\n",
       " 'avgDailyMeal': 119,\n",
       " 'avgDailyNet': 93184,\n",
       " 'avgSalary_Analyze': 29884.0,\n",
       " 'bigadd': '新北市',\n",
       " 'costPower_Analyze': 49.0,\n",
       " 'income': '5000000',\n",
       " 'lastYearRevenue': 33066877,\n",
       " 'lat': 24.9832568,\n",
       " 'lng': 121.5370956,\n",
       " 'mostStyle_Analyze': '中式料理',\n",
       " 'smalladd': '新店區'}"
      ]
     },
     "execution_count": 11,
     "metadata": {},
     "output_type": "execute_result"
    }
   ],
   "source": [
    "client = pymongo.mongo_client.MongoClient(\"localhost\", 27017, username='j122085', password='850605')\n",
    "collection = client.rawData.wowprimediendata\n",
    "wowDiensData = list(collection.find({'CloseDate':'None',\"lat\": {\"$gt\": 1}}))\n",
    "wowDiensData=[dien for dien in wowDiensData if \"A\" not in dien['StoreNo'] and dien['StoreNo'][0]!='3']\n",
    "wowDiensData[0]"
   ]
  },
  {
   "cell_type": "code",
   "execution_count": 14,
   "metadata": {},
   "outputs": [
    {
     "name": "stdout",
     "output_type": "stream",
     "text": [
      "請輸入品牌名稱:\n",
      "半徑範圍(公尺):2000\n",
      "有276筆資料要分析\n"
     ]
    }
   ],
   "source": [
    "x=[]\n",
    "queryDien=input(\"請輸入品牌名稱:\")\n",
    "radius=int(input(\"半徑範圍(公尺):\"))\n",
    "if queryDien!=\"\":\n",
    "    wowData=[i for i in wowDiensData if i['Called']==queryDien]\n",
    "else:\n",
    "    wowData=wowDiensData\n",
    "    queryDien=\"全品牌\"\n",
    "print(\"有{}筆資料要分析\".format(len(wowData)))\n",
    "n=0"
   ]
  },
  {
   "cell_type": "code",
   "execution_count": 20,
   "metadata": {
    "scrolled": true
   },
   "outputs": [
    {
     "data": {
      "text/plain": [
       "{'Address': '新北市新店區民權路86號2樓',\n",
       " 'AreaManager': '王至誠',\n",
       " 'Called': '原燒',\n",
       " 'CareerName': '原燒事業處',\n",
       " 'CareerNo': '102',\n",
       " 'Chef': '郭炳志',\n",
       " 'CloseDate': 'None',\n",
       " 'CodeId': 'F',\n",
       " 'CorporationId': '27492204',\n",
       " 'Corporation_ch': '原燒新店民權分公司',\n",
       " 'CreateDate': '2018-02-02 08:46:12.987000',\n",
       " 'ItemName': '百貨點',\n",
       " 'Manager': '吳憲政',\n",
       " 'NbusStation_Analyze': 10,\n",
       " 'NconStore_Analyze': 133,\n",
       " 'NcostData_Analyze': 27,\n",
       " 'Nhuman_Analyze': 243950,\n",
       " 'Njob_Analyze': 103,\n",
       " 'Nken_Analyze': 2,\n",
       " 'Nmc_Analyze': 5,\n",
       " 'Nstar_Analyze': 5,\n",
       " 'Nwa_Analyze': 1,\n",
       " 'Phone': '02-22191613',\n",
       " 'PlaceNo': '33',\n",
       " 'StoreName': '新店民權',\n",
       " 'StoreNo': '10202',\n",
       " '_id': '10202',\n",
       " 'areaRadius_Analyze': 2000,\n",
       " 'avgCost_Analyze': 121.0,\n",
       " 'avgDailyCustomer': 143,\n",
       " 'avgDailyMeal': 119,\n",
       " 'avgDailyNet': 93184,\n",
       " 'avgSalary_Analyze': 29884.0,\n",
       " 'bigadd': '新北市',\n",
       " 'costPower_Analyze': 49.0,\n",
       " 'income': '5000000',\n",
       " 'lastYearRevenue': 33066877,\n",
       " 'lat': 24.9832568,\n",
       " 'lng': 121.5370956,\n",
       " 'mostStyle_Analyze': '中式料理',\n",
       " 'smalladd': '新店區'}"
      ]
     },
     "execution_count": 20,
     "metadata": {},
     "output_type": "execute_result"
    }
   ],
   "source": [
    "wowDien=wowData[0]\n",
    "wowDien"
   ]
  },
  {
   "cell_type": "code",
   "execution_count": 44,
   "metadata": {},
   "outputs": [
    {
     "data": {
      "text/plain": [
       "47"
      ]
     },
     "execution_count": 44,
     "metadata": {},
     "output_type": "execute_result"
    }
   ],
   "source": [
    "rangeCost=1.3\n",
    "NsimCostDien=len([dien['averagecost'] for dien in ipeendata if haversine(lng1=dien[\"lng\"],\n",
    "                                                                 lat1=dien[\"lat\"],\n",
    "                                                                 lng2=wowDien[\"lng\"],\n",
    "                                                                 lat2=wowDien[\"lat\"]) <= radius\n",
    "                                                and dien['averagecost']<(wowDien['avgDailyNet']/wowDien['avgDailyCustomer'])*rangeCost\n",
    "                                                and dien['averagecost']>(wowDien['avgDailyNet']/wowDien['avgDailyCustomer'])/rangeCost] )\n",
    "NsimCostDien"
   ]
  },
  {
   "cell_type": "code",
   "execution_count": 51,
   "metadata": {},
   "outputs": [
    {
     "data": {
      "text/plain": [
       "(910, 464)"
      ]
     },
     "execution_count": 51,
     "metadata": {},
     "output_type": "execute_result"
    }
   ],
   "source": [
    "x=650\n",
    "y=1.4\n",
    "round(x*y),round(x/y)"
   ]
  },
  {
   "cell_type": "code",
   "execution_count": 46,
   "metadata": {},
   "outputs": [
    {
     "data": {
      "text/plain": [
       "651.6363636363636"
      ]
     },
     "execution_count": 46,
     "metadata": {},
     "output_type": "execute_result"
    }
   ],
   "source": [
    "wowDien['avgDailyNet']/wowDien['avgDailyCustomer']"
   ]
  },
  {
   "cell_type": "code",
   "execution_count": 47,
   "metadata": {
    "scrolled": true
   },
   "outputs": [
    {
     "data": {
      "text/plain": [
       "[709,\n",
       " 495,\n",
       " 594,\n",
       " 502,\n",
       " 696,\n",
       " 600,\n",
       " 727,\n",
       " 552,\n",
       " 537,\n",
       " 595,\n",
       " 530,\n",
       " 790,\n",
       " 687,\n",
       " 534,\n",
       " 617,\n",
       " 475,\n",
       " 600,\n",
       " 806,\n",
       " 628,\n",
       " 484,\n",
       " 600,\n",
       " 503,\n",
       " 729,\n",
       " 475,\n",
       " 560,\n",
       " 622,\n",
       " 480,\n",
       " 616,\n",
       " 591,\n",
       " 600,\n",
       " 503,\n",
       " 472,\n",
       " 520,\n",
       " 743,\n",
       " 470,\n",
       " 483,\n",
       " 600,\n",
       " 682,\n",
       " 533,\n",
       " 554,\n",
       " 573,\n",
       " 728,\n",
       " 700,\n",
       " 500,\n",
       " 485,\n",
       " 500,\n",
       " 500]"
      ]
     },
     "execution_count": 47,
     "metadata": {},
     "output_type": "execute_result"
    }
   ],
   "source": [
    "[dien['averagecost'] for dien in ipeendata if haversine(lng1=dien[\"lng\"],\n",
    "                                                                 lat1=dien[\"lat\"],\n",
    "                                                                 lng2=wowDien[\"lng\"],\n",
    "                                                                 lat2=wowDien[\"lat\"]) <= radius\n",
    "                                                and dien['averagecost']<(wowDien['avgDailyNet']/wowDien['avgDailyCustomer'])*rangeCost\n",
    "                                                and dien['averagecost']>(wowDien['avgDailyNet']/wowDien['avgDailyCustomer'])/rangeCost]"
   ]
  },
  {
   "cell_type": "code",
   "execution_count": null,
   "metadata": {
    "collapsed": true
   },
   "outputs": [],
   "source": [
    "wowDiensData"
   ]
  },
  {
   "cell_type": "code",
   "execution_count": 8,
   "metadata": {},
   "outputs": [
    {
     "data": {
      "text/plain": [
       "{'CooK BEEF!',\n",
       " 'hot 7',\n",
       " 'ita義塔',\n",
       " '乍牛',\n",
       " '其他事業處',\n",
       " '原燒',\n",
       " '品田牧場',\n",
       " '夏慕尼',\n",
       " '沐越',\n",
       " '王品',\n",
       " '石二鍋',\n",
       " '聚',\n",
       " '舒果',\n",
       " '舒果新加坡',\n",
       " '莆田',\n",
       " '蔬果截切配送中心',\n",
       " '藝奇',\n",
       " '陶板屋',\n",
       " '青花驕',\n",
       " '麻佬大',\n",
       " 'ＴＡＳＴｙ'}"
      ]
     },
     "execution_count": 8,
     "metadata": {},
     "output_type": "execute_result"
    }
   ],
   "source": [
    "set([i['Called'] for i in wowDiensData])"
   ]
  },
  {
   "cell_type": "code",
   "execution_count": 72,
   "metadata": {
    "collapsed": true
   },
   "outputs": [],
   "source": [
    "    \n",
    "mapType={'CooK BEEF!':'異國料理',\n",
    " 'hot 7':'燒烤類',\n",
    " 'ita義塔':'異國料理',\n",
    " '乍牛':'日式料理',\n",
    " '原燒':'燒烤類',\n",
    " '品田牧場':'日式料理',\n",
    " '夏慕尼':'燒烤類',\n",
    " '沐越':'亞洲料理',\n",
    " '王品':'異國料理',\n",
    " '石二鍋':'鍋類',\n",
    " '聚':'鍋類',\n",
    " '舒果':'素食',\n",
    " '莆田':'亞洲料理',\n",
    " '藝奇':'日式料理',\n",
    " '陶板屋':'日式料理',\n",
    " '青花驕':'鍋類',\n",
    " '麻佬大':'小吃',\n",
    " 'ＴＡＳＴｙ':'異國料理'}\n"
   ]
  },
  {
   "cell_type": "code",
   "execution_count": 9,
   "metadata": {},
   "outputs": [
    {
     "name": "stdout",
     "output_type": "stream",
     "text": [
      "請輸入品牌名稱:\n",
      "半徑範圍(公尺):2000\n",
      "有281筆資料要分析\n",
      "已完成30項分析\n"
     ]
    },
    {
     "name": "stderr",
     "output_type": "stream",
     "text": [
      "D:\\anaconda\\lib\\site-packages\\numpy\\core\\fromnumeric.py:2957: RuntimeWarning: Mean of empty slice.\n",
      "  out=out, **kwargs)\n",
      "D:\\anaconda\\lib\\site-packages\\numpy\\core\\_methods.py:80: RuntimeWarning: invalid value encountered in double_scalars\n",
      "  ret = ret.dtype.type(ret / rcount)\n"
     ]
    },
    {
     "name": "stdout",
     "output_type": "stream",
     "text": [
      "已完成60項分析\n",
      "已完成90項分析\n",
      "已完成120項分析\n",
      "已完成150項分析\n",
      "已完成180項分析\n",
      "已完成210項分析\n",
      "已完成240項分析\n",
      "已完成270項分析\n"
     ]
    }
   ],
   "source": [
    "import numpy\n",
    "import math\n",
    "from collections import Counter\n",
    "x=[]\n",
    "queryDien=input(\"請輸入品牌名稱:\")\n",
    "radius=int(input(\"半徑範圍(公尺):\"))\n",
    "if queryDien!=\"\":\n",
    "    wowData=[i for i in wowDiensData if i['Called']==queryDien]\n",
    "else:\n",
    "    wowData=wowDiensData\n",
    "    queryDien=\"全品牌\"\n",
    "print(\"有{}筆資料要分析\".format(len(wowData)))\n",
    "n=0\n",
    "for wowDien in wowData:\n",
    "    n+=1\n",
    "    if n%30==0:\n",
    "        print(\"已完成{}項分析\".format(n))\n",
    "    y={}\n",
    "    y['店代號']=wowDien[\"_id\"]\n",
    "    y[\"事業處\"]=wowDien['Called']\n",
    "    y[\"分店名\"]=wowDien['StoreName']\n",
    "    y[\"地址\"]=wowDien['Address']\n",
    "    y['電話']=wowDien['Phone']\n",
    "#     y[\"區管理者\"]=wowDien['AreaManager']\n",
    "#     y[\"廚師\"]=wowDien['Chef']\n",
    "    try:\n",
    "        y['每日均_營收淨額(ADS)']=wowDien['avgDailyNet']\n",
    "        y['每日均_顧客量(ADGC)']=wowDien['avgDailyCustomer']\n",
    "#         y['每日均_客量']=wowDien['avgDailyMeal']\n",
    "    except:\n",
    "        pass\n",
    "    y[\"半徑範圍(公尺)\"]=radius\n",
    "    \n",
    "    \n",
    "    dienCostPower = round(numpy.mean([dien['weight'] for dien in CostPowerdata if haversine(lng1=dien[\"lng\"],\n",
    "                                                                 lat1=dien[\"lat\"],\n",
    "                                                                 lng2=wowDien[\"lng\"],\n",
    "                                                                 lat2=wowDien[\"lat\"]) <= radius]))\n",
    "    if not math.isnan(dienCostPower):\n",
    "        y[\"消費力\"]=dienCostPower\n",
    "        \n",
    "    y[\"消費力筆數\"]=len([dien['weight'] for dien in CostPowerdata if haversine(lng1=dien[\"lng\"],\n",
    "                                                                 lat1=dien[\"lat\"],\n",
    "                                                                 lng2=wowDien[\"lng\"],\n",
    "                                                                 lat2=wowDien[\"lat\"]) <= radius])\n",
    "    \n",
    "    \n",
    "    dienHuman = sum([dien['weight'] for dien in Nhumandata if haversine(lng1=dien[\"lng\"],\n",
    "                                                                 lat1=dien[\"lat\"],\n",
    "                                                                 lng2=wowDien[\"lng\"],\n",
    "                                                                 lat2=wowDien[\"lat\"]) <= radius])\n",
    "    y['人口數']=dienHuman \n",
    "    \n",
    "    \n",
    "    \n",
    "    avgSalary = round(numpy.mean([dien['SAL_MONTH_LOW']*1/3+dien['SAL_MONTH_HIGH']*2/3 for dien in hr104data if haversine(lng1=dien[\"lng\"],\n",
    "                                                                 lat1=dien[\"lat\"],\n",
    "                                                                 lng2=wowDien[\"lng\"],\n",
    "                                                                 lat2=wowDien[\"lat\"]) <= radius]))\n",
    "    if not math.isnan(avgSalary):\n",
    "        y['餐飲業平均薪資(2/3最低+1/3最高)']=avgSalary \n",
    "        \n",
    "    y['餐飲業徵才筆數']=len([dien['SAL_MONTH_LOW']*1/3+dien['SAL_MONTH_HIGH']*2/3 for dien in hr104data if haversine(lng1=dien[\"lng\"],\n",
    "                                                                 lat1=dien[\"lat\"],\n",
    "                                                                 lng2=wowDien[\"lng\"],\n",
    "                                                                 lat2=wowDien[\"lat\"]) <= radius])\n",
    "    \n",
    "    \n",
    "    avgCost = round(numpy.mean([dien['averagecost'] for dien in ipeendata if haversine(lng1=dien[\"lng\"],\n",
    "                                                                 lat1=dien[\"lat\"],\n",
    "                                                                 lng2=wowDien[\"lng\"],\n",
    "                                                                 lat2=wowDien[\"lat\"]) <= radius]))\n",
    "    if not math.isnan(avgCost):\n",
    "        y['餐飲業平均消費']=avgCost\n",
    "    \n",
    "    try:\n",
    "        mostStyle=Counter([dien['bigstyle'] for dien in ipeendata if haversine(lng1=dien[\"lng\"],\n",
    "                                                                     lat1=dien[\"lat\"],\n",
    "                                                                     lng2=wowDien[\"lng\"],\n",
    "                                                                     lat2=wowDien[\"lat\"]) <= radius]).most_common(1)[0][0]\n",
    "    except:\n",
    "        mostStyle=\"\"\n",
    "    y['最多品類']=mostStyle\n",
    "    \n",
    "    \n",
    "    \n",
    "    x.append(y)\n",
    "    \n",
    "    "
   ]
  },
  {
   "cell_type": "code",
   "execution_count": 15,
   "metadata": {},
   "outputs": [
    {
     "name": "stdout",
     "output_type": "stream",
     "text": [
      "儲存完畢\n"
     ]
    }
   ],
   "source": [
    "import pandas as pd\n",
    "df = pd.DataFrame(x)\n",
    "df=df.reindex(columns=['店代號','事業處','分店名','地址','電話','半徑範圍(公尺)','每日均_營收淨額','每日均_顧客量','每日均_客量',\n",
    "                       '消費力','消費力筆數','人口數','餐飲業平均薪資(2/3最低+1/3最高)','餐飲業徵才筆數','餐飲業平均消費','最多品類']) #,'區管理者',\"廚師\"\n",
    "writer = pd.ExcelWriter('../data/'+queryDien+'.xlsx', engine='xlsxwriter')\n",
    "df.to_excel(writer, sheet_name='Sheet1')\n",
    "writer.save()\n",
    "print(\"儲存完畢\")"
   ]
  },
  {
   "cell_type": "code",
   "execution_count": 70,
   "metadata": {
    "scrolled": true
   },
   "outputs": [
    {
     "ename": "SyntaxError",
     "evalue": "invalid syntax (<ipython-input-70-575abeff3f0a>, line 2)",
     "output_type": "error",
     "traceback": [
      "\u001b[1;36m  File \u001b[1;32m\"<ipython-input-70-575abeff3f0a>\"\u001b[1;36m, line \u001b[1;32m2\u001b[0m\n\u001b[1;33m    異國料理:[ita義塔,王品,ＴＡＳＴｙ,CooK BEEF!]\u001b[0m\n\u001b[1;37m                                 ^\u001b[0m\n\u001b[1;31mSyntaxError\u001b[0m\u001b[1;31m:\u001b[0m invalid syntax\n"
     ]
    }
   ],
   "source": [
    "\n"
   ]
  },
  {
   "cell_type": "code",
   "execution_count": null,
   "metadata": {
    "collapsed": true
   },
   "outputs": [],
   "source": []
  },
  {
   "cell_type": "markdown",
   "metadata": {},
   "source": [
    "# 直接存進mongo內"
   ]
  },
  {
   "cell_type": "code",
   "execution_count": 1,
   "metadata": {
    "scrolled": true
   },
   "outputs": [
    {
     "name": "stdout",
     "output_type": "stream",
     "text": [
      "有276筆資料要分析\n",
      "已完成15項分析\n",
      "已完成30項分析\n"
     ]
    },
    {
     "name": "stderr",
     "output_type": "stream",
     "text": [
      "C:\\Users\\andy.yuan\\AppData\\Roaming\\Python\\Python36\\site-packages\\numpy\\core\\fromnumeric.py:2957: RuntimeWarning: Mean of empty slice.\n",
      "  out=out, **kwargs)\n",
      "C:\\Users\\andy.yuan\\AppData\\Roaming\\Python\\Python36\\site-packages\\numpy\\core\\_methods.py:80: RuntimeWarning: invalid value encountered in double_scalars\n",
      "  ret = ret.dtype.type(ret / rcount)\n"
     ]
    },
    {
     "name": "stdout",
     "output_type": "stream",
     "text": [
      "已完成45項分析\n",
      "已完成60項分析\n",
      "已完成75項分析\n",
      "已完成90項分析\n",
      "已完成105項分析\n",
      "已完成120項分析\n",
      "已完成135項分析\n",
      "已完成150項分析\n",
      "已完成165項分析\n",
      "已完成180項分析\n",
      "已完成195項分析\n",
      "已完成210項分析\n",
      "已完成225項分析\n",
      "已完成240項分析\n",
      "已完成255項分析\n",
      "已完成270項分析\n",
      "447.7341613769531\n"
     ]
    }
   ],
   "source": [
    "import json\n",
    "import pymongo\n",
    "from pymongo import UpdateOne\n",
    "import numpy\n",
    "import math\n",
    "from math import radians, cos, sin, asin, sqrt\n",
    "from collections import Counter\n",
    "import time\n",
    "import sys\n",
    "from email.mime.text import MIMEText\n",
    "from email.mime.multipart import MIMEMultipart\n",
    "from email.message import EmailMessage\n",
    "import smtplib\n",
    "\n",
    "def haversine(lng1, lat1, lng2, lat2):\n",
    "    # 将十进制度数转化为弧度\n",
    "    lng1, lat1, lng2, lat2 = map(radians, [lng1, lat1, lng2, lat2])\n",
    "    # haversine公式\n",
    "    dlng = lng2 - lng1\n",
    "    dlat = lat2 - lat1\n",
    "    a = sin(dlat / 2) ** 2 + cos(lat1) * cos(lat2) * sin(dlng / 2) ** 2\n",
    "    c = 2 * asin(sqrt(a))\n",
    "    r = 6371  # 地球平均半径，单位为公里\n",
    "    return c * r * 1000\n",
    "\n",
    "\n",
    "b=time.time()\n",
    "def mailTo(title,mailAdds,message,whoSend='AutoAddInsurance'):\n",
    "    msg = MIMEMultipart()    \n",
    "    sender = whoSend\n",
    "    subject = title\n",
    "    body = message\n",
    "    msg['From'] = sender\n",
    "    msg['To'] = ','.join(mailAdds)\n",
    "    msg['Subject'] = subject\n",
    "    msg.attach(MIMEText(body, 'plain'))\n",
    "    text=msg.as_string()\n",
    "    #print text\n",
    "    # Send the message via our SMTP server\n",
    "    s = smtplib.SMTP('192.168.2.1',25)\n",
    "    s.sendmail(sender,mailAdds, text)\n",
    "    s.quit()  \n",
    "\n",
    "try:\n",
    "    ######################################################IPEEN\n",
    "    b=time.time()\n",
    "    queryElements = {}\n",
    "    client = pymongo.mongo_client.MongoClient(\"localhost\", 27017, username='j122085', password='850605')\n",
    "    # collection = client.rawData.wowprimeipeen\n",
    "    collection = client.rawData.ipeenInfo\n",
    "    ipeendata = list(collection.find(queryElements))\n",
    "    ipeendata = [dien for dien in ipeendata if dien['status'] == \"正常營業\"\n",
    "                 and dien['lat'] > 18\n",
    "                 and dien['lat'] < 27\n",
    "                 and dien['lng'] < 125\n",
    "                 and dien['lng'] > 117\n",
    "                 and dien['bigadd'] != 0\n",
    "                 and dien['smalladd'] != 0\n",
    "                 and dien['averagecost'] < 8000]\n",
    "\n",
    "    for dien in ipeendata:\n",
    "        dien[\"id\"] = dien.pop(\"_id\")\n",
    "    ######################################################IPEEN\n",
    "    ######################################################104\n",
    "    collection = client.rawData.HRdata104\n",
    "    hr104data = list(collection.find(queryElements))\n",
    "    hr104data = [dien for dien in hr104data if dien['LAT'] > 18\n",
    "                 and dien['LAT'] < 27\n",
    "                 and dien['SAL_MONTH_LOW'] > 18000\n",
    "                 and dien['SAL_MONTH_LOW'] < 100000\n",
    "                 and dien['SAL_MONTH_HIGH'] > 18000\n",
    "                 and dien['SAL_MONTH_HIGH'] < 200000\n",
    "                 and dien['LON'] < 125\n",
    "                 and dien['LON'] > 117\n",
    "                 and dien['bigadd'] != 0\n",
    "                 and dien['smalladd'] != 0]\n",
    "\n",
    "    for dien in hr104data:\n",
    "        dien[\"lat\"] = dien.pop(\"LAT\")\n",
    "        dien[\"lng\"] = dien.pop(\"LON\")\n",
    "        del dien[\"_id\"]\n",
    "    ######################################################104\n",
    "    ######################################################Nhuman\n",
    "    collection = client.rawData.Nhuman\n",
    "    Nhumandata = list(collection.find(queryElements))\n",
    "    for dien in Nhumandata:\n",
    "        dien[\"weight\"] = int(dien.pop(\"Nhuman\"))\n",
    "        dien[\"add\"] = dien.pop(\"_id\")\n",
    "    ######################################################Nhuman\n",
    "    ######################################################CostPower\n",
    "    collection = client.rawData.CostPower\n",
    "    CostPowerdata = list(collection.find(queryElements))\n",
    "    for dien in CostPowerdata:\n",
    "        dien[\"weight\"] = int(dien.pop('costPower'))\n",
    "        dien[\"add\"] = dien.pop(\"_id\")\n",
    "    ######################################################CostPower\n",
    "    ######################################################Bus0320\n",
    "    collection = client.rawData.busData\n",
    "    busData = list(collection.find(queryElements))\n",
    "    for dien in busData:\n",
    "        dien[\"add\"] = dien.pop(\"_id\")\n",
    "    ######################################################Bus0320\n",
    "    ######################################################conStore0320\n",
    "    collection = client.rawData.conStore\n",
    "    conStoreData = list(collection.find(queryElements))\n",
    "    for dien in conStoreData:\n",
    "        dien.pop(\"_id\")\n",
    "    ######################################################conStore0320\n",
    "    ######################################################Watsons\n",
    "    collection = client.rawData.Watsons\n",
    "    watsonsData = list(collection.find(queryElements))\n",
    "    for dien in watsonsData:\n",
    "        dien.pop(\"_id\")\n",
    "    ######################################################Watsons\n",
    "    ######################################################carrefour0504\n",
    "    collection = client.rawData.carrefour\n",
    "    carrefourData = list(collection.find(queryElements))\n",
    "    for dien in carrefourData:\n",
    "        dien.pop(\"_id\")\n",
    "    ######################################################carrefour0504\n",
    "    ######################################################pxmart0504\n",
    "    collection = client.rawData.pxmart\n",
    "    pxmartData = list(collection.find(queryElements))\n",
    "    for dien in pxmartData:\n",
    "        dien.pop(\"_id\")\n",
    "    ######################################################pxmart0504\n",
    "    ######################################################Tstore0531\n",
    "    collection = client.rawData.info3Store\n",
    "    tStoreData = list(collection.find(queryElements))\n",
    "    for dien in tStoreData:\n",
    "        dien.pop(\"_id\")\n",
    "    ######################################################Tstore0531\n",
    "    ######################################################Wow\n",
    "    collection = client.rawData.wowprimediendata\n",
    "    wowDiensData = list(collection.find({'CloseDate': 'None', \"lat\": {\"$gt\": 1}}))\n",
    "    wowDiensData = [dien for dien in wowDiensData if \"A\" not in dien['StoreNo'] and dien['StoreNo'][0] != '3']\n",
    "    ######################################################Wow\n",
    "\n",
    "    x = []\n",
    "    queryDien = \"\"#input(\"請輸入品牌名稱:\")\n",
    "    #radius = 2000#int(input(\"半徑範圍(公尺):\"))\n",
    "    if queryDien != \"\":\n",
    "        wowDiensData = [i for i in wowDiensData if i['Called'] == queryDien]\n",
    "    else:\n",
    "        queryDien = \"全品牌\"\n",
    "    print(\"有{}筆資料要分析\".format(len(wowDiensData)))\n",
    "    n = 0\n",
    "    for wowDien in wowDiensData:\n",
    "        radius = 2000\n",
    "        if wowDien['Called'] == \"石二鍋\" or wowDien['Called'] == \"麻佬大\":\n",
    "            radius = 500\n",
    "        n += 1\n",
    "        if n % 15 == 0:\n",
    "            print(\"已完成{}項分析\".format(n))\n",
    "        wowDien[\"areaRadius_Analyze\"] = radius\n",
    "        dienCostPower = round(numpy.mean([dien['weight'] for dien in CostPowerdata if haversine(lng1=dien[\"lng\"],\n",
    "                                                                                                lat1=dien[\"lat\"],\n",
    "                                                                                                lng2=wowDien[\"lng\"],\n",
    "                                                                                                lat2=wowDien[\n",
    "                                                                                                    \"lat\"]) <= radius and 'weight' in dien]))\n",
    "\n",
    "        if not math.isnan(dienCostPower):\n",
    "            wowDien[\"costPower_Analyze\"] = dienCostPower\n",
    "        wowDien[\"NcostData_Analyze\"] = len([dien['weight'] for dien in CostPowerdata if haversine(lng1=dien[\"lng\"],\n",
    "                                                                                lat1=dien[\"lat\"],\n",
    "                                                                                lng2=wowDien[\"lng\"],\n",
    "                                                                                lat2=wowDien[\"lat\"]) <= radius and 'weight' in dien])\n",
    "\n",
    "        dienHuman = sum([dien['weight'] for dien in Nhumandata if haversine(lng1=dien[\"lng\"],\n",
    "                                                                            lat1=dien[\"lat\"],\n",
    "                                                                            lng2=wowDien[\"lng\"],\n",
    "                                                                            lat2=wowDien[\"lat\"]) <= radius and 'weight' in dien])\n",
    "        wowDien['Nhuman_Analyze'] = dienHuman\n",
    "\n",
    "        avgSalary = round(numpy.mean(\n",
    "            [dien['SAL_MONTH_LOW'] * 1 / 3 + dien['SAL_MONTH_HIGH'] * 2 / 3 for dien in hr104data if\n",
    "             haversine(lng1=dien[\"lng\"],\n",
    "                       lat1=dien[\"lat\"],\n",
    "                       lng2=wowDien[\"lng\"],\n",
    "                       lat2=wowDien[\"lat\"]) <= radius and 'SAL_MONTH_HIGH' in dien and 'SAL_MONTH_LOW' in dien]))\n",
    "        if not math.isnan(avgSalary):\n",
    "            wowDien['avgSalary_Analyze'] = avgSalary\n",
    "\n",
    "        wowDien['Njob_Analyze'] = len([dien['SAL_MONTH_LOW'] * 1 / 3 + dien['SAL_MONTH_HIGH'] * 2 / 3 for dien in hr104data if\n",
    "                            haversine(lng1=dien[\"lng\"],\n",
    "                                      lat1=dien[\"lat\"],\n",
    "                                      lng2=wowDien[\"lng\"],\n",
    "                                      lat2=wowDien[\"lat\"]) <= radius and 'SAL_MONTH_HIGH' in dien  and 'SAL_MONTH_LOW' in dien])\n",
    "\n",
    "        avgCost = round(numpy.mean([dien['averagecost'] for dien in ipeendata if haversine(lng1=dien[\"lng\"],\n",
    "                                                                                           lat1=dien[\"lat\"],\n",
    "                                                                                           lng2=wowDien[\"lng\"],\n",
    "                                                                                           lat2=wowDien[\n",
    "                                                                                               \"lat\"]) <= radius and 'averagecost' in dien]))\n",
    "        if not math.isnan(avgCost):\n",
    "            wowDien['avgCost_Analyze'] = avgCost\n",
    "\n",
    "        try:\n",
    "            mostStyle = Counter([dien['bigstyle'] for dien in ipeendata if haversine(lng1=dien[\"lng\"],\n",
    "                                                                                     lat1=dien[\"lat\"],\n",
    "                                                                                     lng2=wowDien[\"lng\"],\n",
    "                                                                                     lat2=wowDien[\n",
    "                                                                                         \"lat\"]) <= radius and 'bigstyle' in dien]).most_common(\n",
    "                1)[0][0]\n",
    "        except:\n",
    "            mostStyle = \"\"\n",
    "        wowDien['mostStyle_Analyze'] = mostStyle\n",
    "        ###############################################################################################################0320\n",
    "        wowDien[\"NbusStation_Analyze\"] = len([dien['stationName'] for dien in busData if \"lng\" in dien and haversine(lng1=dien[\"lng\"],\n",
    "                                                                                lat1=dien[\"lat\"],\n",
    "                                                                                lng2=wowDien[\"lng\"],\n",
    "                                                                                lat2=wowDien[\"lat\"]) <= 500])\n",
    "        wowDien[\"NconStore_Analyze\"] = len([dien['name'] for dien in conStoreData if \"lng\" in dien and haversine(lng1=float(dien[\"lng\"]),\n",
    "                                                                                  lat1=float(dien[\"lat\"]),\n",
    "                                                                                  lng2=wowDien[\"lng\"],\n",
    "                                                                                  lat2=wowDien[\"lat\"]) <= radius])\n",
    "        wowDien[\"Nstar_Analyze\"] = len([dien['name'] for dien in ipeendata\n",
    "                                if '星巴' in dien['name']\n",
    "                                and haversine(lng1=dien[\"lng\"],\n",
    "                                              lat1=dien[\"lat\"],\n",
    "                                              lng2=wowDien[\"lng\"],\n",
    "                                              lat2=wowDien[\"lat\"]) <= radius])\n",
    "        wowDien[\"Nmc_Analyze\"] = len([dien['name'] for dien in ipeendata\n",
    "                                if '麥當' in dien['name']\n",
    "                                and haversine(lng1=dien[\"lng\"],\n",
    "                                              lat1=dien[\"lat\"],\n",
    "                                              lng2=wowDien[\"lng\"],\n",
    "                                              lat2=wowDien[\"lat\"]) <= radius])\n",
    "        wowDien[\"Nken_Analyze\"] = len([dien['name'] for dien in ipeendata\n",
    "                                if '肯德' in dien['name']\n",
    "                                and haversine(lng1=dien[\"lng\"],\n",
    "                                              lat1=dien[\"lat\"],\n",
    "                                              lng2=wowDien[\"lng\"],\n",
    "                                              lat2=wowDien[\"lat\"]) <= radius])\n",
    "        wowDien[\"Nwa_Analyze\"] = len([dien['name'] for dien in ipeendata\n",
    "                                if '瓦城泰' in dien['name']\n",
    "                                and haversine(lng1=dien[\"lng\"],\n",
    "                                              lat1=dien[\"lat\"],\n",
    "                                              lng2=wowDien[\"lng\"],\n",
    "                                              lat2=wowDien[\"lat\"]) <= radius])\n",
    "        ################################################################################################################0320\n",
    "        ########################\n",
    "        mapType = {'CooK BEEF!': '異國料理',\n",
    "                   'hot 7': '燒烤類',\n",
    "                   'ita義塔': '異國料理',\n",
    "                   '乍牛': '日式料理',\n",
    "                   '原燒': '燒烤類',\n",
    "                   '品田牧場': '日式料理',\n",
    "                   '夏慕尼': '燒烤類',\n",
    "                   '沐越': '亞洲料理',\n",
    "                   '王品': '異國料理',\n",
    "                   '石二鍋': '鍋類',\n",
    "                   '聚': '鍋類',\n",
    "                   '舒果': '素食',\n",
    "                   '莆田': '亞洲料理',\n",
    "                   '藝奇': '日式料理',\n",
    "                   '陶板屋': '日式料理',\n",
    "                   '青花驕': '鍋類',\n",
    "                   '麻佬大': '小吃',\n",
    "                   'ＴＡＳＴｙ': '異國料理'}\n",
    "        rangeCost = 1.4\n",
    "\n",
    "        simDien = [dien['bigstyle'] for dien in ipeendata if haversine(lng1=dien[\"lng\"],\n",
    "                                                                       lat1=dien[\"lat\"],\n",
    "                                                                       lng2=wowDien[\"lng\"],\n",
    "                                                                       lat2=wowDien[\"lat\"]) <= 500\n",
    "                   and 'avgDailyNet' in wowDien\n",
    "                   #and dien['bigstyle'] == mapType[wowDien['Called']]\n",
    "                   and dien['averagecost'] < ((wowDien['avgDailyNet'] / wowDien['avgDailyCustomer']) * rangeCost)\n",
    "                   and dien['averagecost'] > ((wowDien['avgDailyNet'] / wowDien['avgDailyCustomer']) / rangeCost)]\n",
    "        wowDien[\"NsimCostDien\"] = len(simDien)\n",
    "        # print(simDien)\n",
    "        # print(wowDien['Called'])\n",
    "\n",
    "        wowDien[\"Nwatson_Analyze\"] = len([dien for dien in watsonsData\n",
    "                                          if haversine(lng1=float(dien[\"lng\"]),\n",
    "                                                       lat1=float(dien[\"lat\"]),\n",
    "                                                       lng2=wowDien[\"lng\"],\n",
    "                                                       lat2=wowDien[\"lat\"]) <= radius])\n",
    "        ########################\n",
    "        #############0504\n",
    "        wowDien[\"Ncarrefour_Analyze\"] = len([dien for dien in carrefourData\n",
    "                                             if haversine(lng1=float(dien[\"lng\"]),\n",
    "                                                          lat1=float(dien[\"lat\"]),\n",
    "                                                          lng2=wowDien[\"lng\"],\n",
    "                                                          lat2=wowDien[\"lat\"]) <= radius])\n",
    "        wowDien[\"Npxmart_Analyze\"] = len([dien for dien in pxmartData\n",
    "                                          if haversine(lng1=float(dien[\"lng\"]),\n",
    "                                                       lat1=float(dien[\"lat\"]),\n",
    "                                                       lng2=wowDien[\"lng\"],\n",
    "                                                       lat2=wowDien[\"lat\"]) <= radius])\n",
    "        #############0504\n",
    "        #############0531\n",
    "        wowDien[\"NtStore_Analyze\"] = len([dien for dien in tStoreData\n",
    "                                          if haversine(lng1=float(dien[\"lng\"]),\n",
    "                                                       lat1=float(dien[\"lat\"]),\n",
    "                                                       lng2=wowDien[\"lng\"],\n",
    "                                                       lat2=wowDien[\"lat\"]) <= radius])\n",
    "        #############0531\n",
    "\n",
    "        e = time.time()\n",
    "    print(e-b)\n",
    "\n",
    "    collection = client.rawData.wowprimediendata\n",
    "    ids=[data.pop(\"_id\") for data in wowDiensData]\n",
    "    operations=[UpdateOne({\"_id\":idn},{'$set':data},upsert=True) for idn ,data in zip(ids,wowDiensData)]\n",
    "    try:\n",
    "        collection.bulk_write(operations ,ordered=False)\n",
    "    except Exception as er:\n",
    "        print(er)\n",
    "\n",
    "    alldata=list(collection.find({}))\n",
    "\n",
    "    client.close()\n",
    "    \n",
    "    mailTo(title=\"analyzeWowDataSuccess\",mailAdds=[\"andy.yuan@wowprime.com\"],message=\"分析完畢_耗時{}秒\".format(e-b),whoSend='analyzeWowData')\n",
    "except Exception as er:\n",
    "    errorMsg=str(er)+\"出錯位置:\"+str(sys.exc_info()[2].tb_lineno)\n",
    "    mailTo(title=\"analyzeWowDataFail\",mailAdds=[\"andy.yuan@wowprime.com\"],message=errorMsg,whoSend='analyzeWowData')\n"
   ]
  },
  {
   "cell_type": "code",
   "execution_count": 91,
   "metadata": {},
   "outputs": [
    {
     "data": {
      "text/plain": [
       "[9, 19, 9, 21, 10, 9, 12, 0, 5, 2, 3, 4, 5, 3, 4, 0, 3, 6, 3, 3, 0, 0]"
      ]
     },
     "execution_count": 91,
     "metadata": {},
     "output_type": "execute_result"
    }
   ],
   "source": [
    "[i['NsimCostDien'] for i in wowDiensData if i['Called']==\"聚\"]"
   ]
  },
  {
   "cell_type": "code",
   "execution_count": null,
   "metadata": {
    "collapsed": true
   },
   "outputs": [],
   "source": []
  },
  {
   "cell_type": "code",
   "execution_count": 13,
   "metadata": {},
   "outputs": [
    {
     "data": {
      "text/plain": [
       "[('d', 1), ('a', 4), ('b', 5), ('c', 9)]"
      ]
     },
     "execution_count": 13,
     "metadata": {},
     "output_type": "execute_result"
    }
   ],
   "source": [
    "# How to sort a Python dict by value\n",
    "# (== get a representation sorted by value)\n",
    "\n",
    "xs = {'a': 4, 'b': 5, 'c': 9, 'd': 1}\n",
    "\n",
    "# sorted(xs.items(), key=lambda x: x[1])\n",
    "# [('d', 1), ('c', 2), ('b', 3), ('a', 4)]\n",
    "\n",
    "# Or:\n",
    "\n",
    "import operator\n",
    "sorted(xs.items(), key=operator.itemgetter(1))\n"
   ]
  },
  {
   "cell_type": "code",
   "execution_count": null,
   "metadata": {
    "collapsed": true
   },
   "outputs": [],
   "source": []
  }
 ],
 "metadata": {
  "kernelspec": {
   "display_name": "Python 3",
   "language": "python",
   "name": "python3"
  },
  "language_info": {
   "codemirror_mode": {
    "name": "ipython",
    "version": 3
   },
   "file_extension": ".py",
   "mimetype": "text/x-python",
   "name": "python",
   "nbconvert_exporter": "python",
   "pygments_lexer": "ipython3",
   "version": "3.6.4"
  }
 },
 "nbformat": 4,
 "nbformat_minor": 2
}
