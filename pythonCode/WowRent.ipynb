{
 "cells": [
  {
   "cell_type": "code",
   "execution_count": 117,
   "metadata": {},
   "outputs": [],
   "source": [
    "from pymongo import MongoClient,UpdateOne\n",
    "client=MongoClient(\"192.168.1.113\",27017,username='j122085',password='850605')\n",
    "db=client.rawData\n",
    "colle=db.wowprimediendata"
   ]
  },
  {
   "cell_type": "code",
   "execution_count": 118,
   "metadata": {},
   "outputs": [],
   "source": [
    "wowData=list(colle.find({},{\"_id\":False}))"
   ]
  },
  {
   "cell_type": "code",
   "execution_count": 119,
   "metadata": {},
   "outputs": [
    {
     "data": {
      "text/plain": [
       "{'Address': '台北市中山區南京東路一段23號',\n",
       " 'AreaManager': '吳阿水',\n",
       " 'Called': '原燒',\n",
       " 'CareerName': '原燒事業處',\n",
       " 'CareerNo': '102',\n",
       " 'Chef': '陳俊霖',\n",
       " 'CloseDate': '2015-06-18 00:00:00',\n",
       " 'CodeId': 'A',\n",
       " 'CorporationId': '80727671',\n",
       " 'Corporation_ch': '原燒台北南京東分公司',\n",
       " 'CreateDate': '2017-05-31 15:06:00.423000',\n",
       " 'ItemName': '百貨點',\n",
       " 'Manager': '吳憲政',\n",
       " 'Phone': '02-25678338',\n",
       " 'PlaceNo': '15',\n",
       " 'StoreName': '台北南京東',\n",
       " 'StoreNo': '10201',\n",
       " 'bigadd': '台北市',\n",
       " 'smalladd': '中山區'}"
      ]
     },
     "execution_count": 119,
     "metadata": {},
     "output_type": "execute_result"
    }
   ],
   "source": [
    "wowData[0]"
   ]
  },
  {
   "cell_type": "code",
   "execution_count": 120,
   "metadata": {
    "collapsed": true
   },
   "outputs": [],
   "source": [
    "import pandas"
   ]
  },
  {
   "cell_type": "code",
   "execution_count": 121,
   "metadata": {},
   "outputs": [],
   "source": [
    "pd=pandas.read_excel(r\"D:\\trydata\\整理過後店鋪月租金.xlsx\")"
   ]
  },
  {
   "cell_type": "code",
   "execution_count": 122,
   "metadata": {},
   "outputs": [],
   "source": [
    "dictData=pd.T.to_dict()"
   ]
  },
  {
   "cell_type": "code",
   "execution_count": 135,
   "metadata": {},
   "outputs": [],
   "source": [
    "dictRent={str(dictData[i]['店號']):int(dictData[i]['總金額']) for i in range(len(dictData))}"
   ]
  },
  {
   "cell_type": "code",
   "execution_count": 136,
   "metadata": {},
   "outputs": [],
   "source": [
    "for i in wowData:\n",
    "    i['rent']=dictRent.get(i['StoreNo'],0)\n"
   ]
  },
  {
   "cell_type": "code",
   "execution_count": 137,
   "metadata": {
    "scrolled": true
   },
   "outputs": [
    {
     "data": {
      "text/plain": [
       "{'ADGC_holiday': 244,\n",
       " 'ADGC_weekday': 91,\n",
       " 'Address': '新北市新店區民權路86號2樓',\n",
       " 'AreaManager': '王至誠',\n",
       " 'Called': '原燒',\n",
       " 'CareerName': '原燒事業處',\n",
       " 'CareerNo': '102',\n",
       " 'Chef': '郭炳志',\n",
       " 'CloseDate': 'None',\n",
       " 'CodeId': 'F',\n",
       " 'CorporationId': '27492204',\n",
       " 'Corporation_ch': '原燒新店民權分公司',\n",
       " 'CreateDate': '2018-02-02 08:46:12.987000',\n",
       " 'ItemName': '百貨點',\n",
       " 'Manager': '吳憲政',\n",
       " 'NMRT_Analyze': 13,\n",
       " 'NbusStation_Analyze': 10,\n",
       " 'Ncarrefour_Analyze': 1,\n",
       " 'Nclinic_Analyze': 125,\n",
       " 'NconStore_Analyze': 138,\n",
       " 'NcostData_Analyze': 29,\n",
       " 'Ndabu_Analyze': 1,\n",
       " 'Ndien_Analyze': 1191,\n",
       " 'Nhuman_Analyze': 251761,\n",
       " 'Njob_Analyze': 56,\n",
       " 'Nken_Analyze': 2,\n",
       " 'Nmc_Analyze': 6,\n",
       " 'Npxmart_Analyze': 10,\n",
       " 'NsimCostDien': 18,\n",
       " 'Nstar_Analyze': 6,\n",
       " 'NtStore_Analyze': 3,\n",
       " 'Nwa_Analyze': 1,\n",
       " 'Nwatson_Analyze': 7,\n",
       " 'Phone': '02-22191613',\n",
       " 'PlaceNo': '33',\n",
       " 'StoreName': '新店民權',\n",
       " 'StoreNo': '10202',\n",
       " 'areaRadius_Analyze': 2000,\n",
       " 'avgCost_Analyze': 120.0,\n",
       " 'avgDailyCustomer': 141,\n",
       " 'avgDailyMeal': 117,\n",
       " 'avgDailyNet': 90926,\n",
       " 'avgSalary_Analyze': 32565.0,\n",
       " 'bigadd': '新北市',\n",
       " 'costPower_Analyze': 46.0,\n",
       " 'lastYearRevenue': 33066877,\n",
       " 'lat': 24.9832568,\n",
       " 'lng': 121.5370956,\n",
       " 'mostStyle_Analyze': '中式料理',\n",
       " 'rent': 245000,\n",
       " 'smalladd': '新店區',\n",
       " 'storeType': '街邊'}"
      ]
     },
     "execution_count": 137,
     "metadata": {},
     "output_type": "execute_result"
    }
   ],
   "source": [
    "wowData[1]"
   ]
  },
  {
   "cell_type": "code",
   "execution_count": 138,
   "metadata": {
    "collapsed": true
   },
   "outputs": [],
   "source": [
    "ids=[i['StoreNo'] for i in wowData]"
   ]
  },
  {
   "cell_type": "code",
   "execution_count": 139,
   "metadata": {},
   "outputs": [],
   "source": [
    "operations=[UpdateOne({\"_id\":idn},{\"$set\":data},upsert=True) for idn,data in zip(ids,wowData)]"
   ]
  },
  {
   "cell_type": "code",
   "execution_count": 140,
   "metadata": {},
   "outputs": [],
   "source": [
    "try:\n",
    "    colle.bulk_write(operations ,ordered=False)\n",
    "except Exception as er:\n",
    "    print(er)"
   ]
  },
  {
   "cell_type": "code",
   "execution_count": 144,
   "metadata": {
    "collapsed": true
   },
   "outputs": [],
   "source": [
    "client.close()"
   ]
  },
  {
   "cell_type": "code",
   "execution_count": null,
   "metadata": {
    "collapsed": true
   },
   "outputs": [],
   "source": []
  },
  {
   "cell_type": "code",
   "execution_count": 145,
   "metadata": {
    "collapsed": true
   },
   "outputs": [],
   "source": [
    "from pymongo import MongoClient,UpdateOne\n",
    "client=MongoClient(\"localhost\",27017,username='j122085',password='850605')\n",
    "db=client.rawData\n",
    "colle=db.wowprimediendata\n",
    "try:\n",
    "    colle.bulk_write(operations ,ordered=False)\n",
    "except Exception as er:\n",
    "    print(er)\n"
   ]
  },
  {
   "cell_type": "code",
   "execution_count": null,
   "metadata": {
    "collapsed": true
   },
   "outputs": [],
   "source": []
  }
 ],
 "metadata": {
  "kernelspec": {
   "display_name": "Python 3",
   "language": "python",
   "name": "python3"
  },
  "language_info": {
   "codemirror_mode": {
    "name": "ipython",
    "version": 3
   },
   "file_extension": ".py",
   "mimetype": "text/x-python",
   "name": "python",
   "nbconvert_exporter": "python",
   "pygments_lexer": "ipython3",
   "version": "3.6.4"
  }
 },
 "nbformat": 4,
 "nbformat_minor": 2
}
