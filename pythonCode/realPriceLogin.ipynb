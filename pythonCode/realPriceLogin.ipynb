{
 "cells": [
  {
   "cell_type": "code",
   "execution_count": null,
   "metadata": {
    "collapsed": true
   },
   "outputs": [],
   "source": [
    "import requests\n",
    "headstr=\"\"\"Accept: text/html,application/xhtml+xml,application/xml;q=0.9,image/webp,image/apng,*/*;q=0.8\n",
    "Accept-Encoding: gzip, deflate\n",
    "Accept-Language: zh-TW,zh;q=0.9,en-US;q=0.8,en;q=0.7\n",
    "Connection: keep-alive\n",
    "Cookie: _ga=GA1.3.318223218.1528104516; _gid=GA1.3.1789114965.1531386334; JSESSIONID=9452E23A6BFE50BB9625955E8DF7E74E; __utma=72486415.318223218.1528104516.1531387568.1531387568.1; __utmc=72486415; __utmz=72486415.1531387568.1.1.utmcsr=(direct)|utmccn=(direct)|utmcmd=(none); __utmb=72486415.1.10.1531387568\n",
    "Host: plvr.land.moi.gov.tw\n",
    "Referer: http://plvr.land.moi.gov.tw/DownloadOpenData\n",
    "Upgrade-Insecure-Requests: 1\n",
    "User-Agent: Mozilla/5.0 (Windows NT 6.1; Win64; x64) AppleWebKit/537.36 (KHTML, like Gecko) Chrome/67.0.3396.99 Safari/537.36\"\"\"\n",
    "\n",
    "\n",
    "\n",
    "res=requests.get(\"http://plvr.land.moi.gov.tw//Download?type=zip&fileName=lvr_landcsv.zip\")"
   ]
  },
  {
   "cell_type": "code",
   "execution_count": null,
   "metadata": {
    "collapsed": true
   },
   "outputs": [],
   "source": [
    "with open(\"realPriceLogin.zip\",'wb') as f:\n",
    "    f.write(res.content)"
   ]
  },
  {
   "cell_type": "code",
   "execution_count": null,
   "metadata": {
    "collapsed": true
   },
   "outputs": [],
   "source": [
    "import zipfile\n",
    "zip_ref = zipfile.ZipFile(\"realPriceLogin.zip\", 'r')\n",
    "zip_ref.extractall(\"realPriceLogin\")\n",
    "zip_ref.close()"
   ]
  },
  {
   "cell_type": "code",
   "execution_count": null,
   "metadata": {
    "collapsed": true
   },
   "outputs": [],
   "source": []
  },
  {
   "cell_type": "code",
   "execution_count": null,
   "metadata": {
    "scrolled": true
   },
   "outputs": [],
   "source": [
    "import os \n",
    "import re\n",
    "import pandas as pd\n",
    "\n",
    "allData=[]\n",
    "for i in os.listdir(\"realPriceLogin\"):\n",
    "    if len(i)==16 and i[-4:]==\".CSV\":\n",
    "        with open(\"realPriceLogin/\"+i,'r',encoding=\"utf8\") as f:\n",
    "            csvStrList=f.read().replace('\\ufeff','').split(\"\\n\")\n",
    "            keys=csvStrList[0].split(\",\")\n",
    "            unitData=[]\n",
    "            for j in csvStrList[2:]:\n",
    "                data={}\n",
    "                for k,v in zip(keys,j.split(\",\")):\n",
    "                    data[k]=v\n",
    "                unitData.append(data)\n",
    "        allData.extend(unitData)\n",
    "        print(len(unitData),i)"
   ]
  },
  {
   "cell_type": "code",
   "execution_count": null,
   "metadata": {},
   "outputs": [],
   "source": [
    "allData[0]"
   ]
  },
  {
   "cell_type": "code",
   "execution_count": null,
   "metadata": {
    "collapsed": true
   },
   "outputs": [],
   "source": [
    "y=set()\n",
    "usefulDatas=[]\n",
    "for i in allData:\n",
    "    if '土地區段位置/建物區段門牌' in i and i['單價(元/平方公尺)']!=\"\" and (i['土地區段位置/建物區段門牌'][2]==\"市\" or i['土地區段位置/建物區段門牌'][2]==\"縣\"):\n",
    "        if i['土地區段位置/建物區段門牌'] not in y and round(int(float(i['單價(元/平方公尺)'])*3.3058)/10000)!=0:\n",
    "            usefulData={}\n",
    "            usefulData['地址']=i['土地區段位置/建物區段門牌']\n",
    "            usefulData['每坪價格']=str(round(int(float(i['單價(元/平方公尺)'])*3.3058)/10000))+\"萬\"\n",
    "            usefulDatas.append(usefulData)\n",
    "            y.add(i['土地區段位置/建物區段門牌'])"
   ]
  },
  {
   "cell_type": "code",
   "execution_count": null,
   "metadata": {
    "collapsed": true
   },
   "outputs": [],
   "source": [
    "import geocoder"
   ]
  },
  {
   "cell_type": "code",
   "execution_count": null,
   "metadata": {
    "scrolled": true
   },
   "outputs": [],
   "source": [
    "import geocoder\n",
    "for i in usefulDatas:\n",
    "    if i['地址'][2]==\"市\" or i['地址'][2]==\"縣\":\n",
    "        n=0\n",
    "        if 'lat' not in i:\n",
    "            while n<5:\n",
    "                try:\n",
    "                    geoData=geocoder.arcgis(i['地址'])\n",
    "                    i[\"lat\"],i['lng']=geoData.latlng\n",
    "                    n=10\n",
    "                    print(i['地址'],i[\"lat\"],i['lng'])\n",
    "                    time.sleep(0.5)\n",
    "                except:\n",
    "                    n+=1\n",
    "            "
   ]
  },
  {
   "cell_type": "code",
   "execution_count": null,
   "metadata": {
    "collapsed": true
   },
   "outputs": [],
   "source": [
    "for i in usefulDatas:\n",
    "    i['bigadd'],i['smalladd']=re.findall(\"(\\w\\w[市|縣])(\\w\\w?\\w?[區|市|鎮|鄉])\",i['地址'])[0]"
   ]
  },
  {
   "cell_type": "code",
   "execution_count": null,
   "metadata": {
    "collapsed": true
   },
   "outputs": [],
   "source": [
    "import pymongo\n",
    "# client=pymongo.MongoClient('192.168.1.113',27017,username='j122085',password='850605')\n",
    "client=pymongo.MongoClient('localhost',27017,username='j122085',password='850605')\n",
    "colle=client.rawData.realPriceLogin\n",
    "# colle.drop()"
   ]
  },
  {
   "cell_type": "code",
   "execution_count": null,
   "metadata": {
    "collapsed": true
   },
   "outputs": [],
   "source": [
    "ids=[i['地址'] for i in usefulDatas]\n",
    "from pymongo import UpdateOne\n",
    "operations=[UpdateOne({\"_id\":idn},{\"$set\":data},upsert=True) for idn,data in zip(ids,usefulDatas)]"
   ]
  },
  {
   "cell_type": "code",
   "execution_count": null,
   "metadata": {},
   "outputs": [],
   "source": [
    "colle.bulk_write(operations,ordered=False)"
   ]
  },
  {
   "cell_type": "code",
   "execution_count": null,
   "metadata": {},
   "outputs": [],
   "source": [
    "colle.find_one({},{\"_id\":False})"
   ]
  },
  {
   "cell_type": "code",
   "execution_count": null,
   "metadata": {
    "collapsed": true
   },
   "outputs": [],
   "source": []
  },
  {
   "cell_type": "code",
   "execution_count": 11,
   "metadata": {},
   "outputs": [
    {
     "name": "stdout",
     "output_type": "stream",
     "text": [
      "dataDir Y:/1819/機器人上傳區/1070714\n",
      "pathList ['Y:/1819/機器人上傳區/1070714/10210_退1.xls']\n",
      "1070714\n",
      "1070714\n",
      "107/07/14\n"
     ]
    }
   ],
   "source": [
    "from tkinter import Tk,StringVar,Label,Entry,Button\n",
    "from tkinter.filedialog import askdirectory\n",
    "from selenium import webdriver\n",
    "from selenium.webdriver.common.keys import Keys\n",
    "from selenium.webdriver.common.by import By\n",
    "from selenium.webdriver.support.ui import Select\n",
    "from selenium.webdriver.chrome.options import Options\n",
    "from selenium.webdriver.support.ui import WebDriverWait#直到找到 不斷等待\n",
    "from selenium.webdriver.support import expected_conditions as EC #判斷某物件存在，直到時間結束\n",
    "import os\n",
    "import sys\n",
    "import time \n",
    "import xl2dict\n",
    "import smtplib\n",
    "import xlrd\n",
    "from email.mime.text import MIMEText\n",
    "from email.mime.multipart import MIMEMultipart\n",
    "from email.message import EmailMessage\n",
    "import time\n",
    "def doAddPopChangeAssure():\n",
    "    dataDir=e1.get()\n",
    "    print('dataDir',dataDir)\n",
    "    pathList=[(i[0]+\"/\"+j).replace(\"\\\\\",\"/\") for i in os.walk(dataDir) for j in i[2] if 'xls' in j]\n",
    "    print('pathList',pathList)\n",
    "    for excelFilePath in pathList:\n",
    "        dirName=excelFilePath.split(\"/\")[-2]\n",
    "    #     dirName=\"30120315\"\n",
    "        while not (len(dirName) == 4 or len(dirName) == 7 or len(dirName) == 8):\n",
    "            dirName = excelFilePath.split(\"/\")[layer]\n",
    "            layer -= 1\n",
    "        print(dirName)\n",
    "        try:\n",
    "            dirName=dirName.split(\"/\")[1]\n",
    "        except:\n",
    "            pass\n",
    "        print(dirName)\n",
    "        if len(dirName)==7:#民國年\n",
    "            choice=dirName[:3]+\"/\"+dirName[3:5]+'/'+dirName[5:]\n",
    "        elif len(dirName)==8:#西元年\n",
    "            try:\n",
    "                choice=str(int(dirName[:4])-1911)+\"/\"+dirName[4:6]+'/'+dirName[6:]\n",
    "            except:\n",
    "                pass\n",
    "        elif len(dirName)==4:#只有月日\n",
    "            try:\n",
    "                choice=str(int(time.strftime(\"%Y\"))-1911) +\"/\"+dirName[0:2]+'/'+dirName[2:]\n",
    "            except:\n",
    "                pass\n",
    "        print(choice)\n",
    "    \n",
    "    \n",
    "def selectPath():\n",
    "    path_ = askdirectory()\n",
    "    path.set(path_)\n",
    "def selectPath2():\n",
    "    path2_ = askdirectory()\n",
    "    path2.set(path2_)\n",
    "# with open('defaultIO.txt') as f:\n",
    "#     IO=f.read()\n",
    "# defaultLoadDir=IO.split(\"\\n\")[0].split(\"=\")[1].replace(\"\\\\\",\"/\")\n",
    "# defaultSaveDir=IO.split(\"\\n\")[1].split(\"=\")[1].replace(\"\\\\\",\"/\")\n",
    "root = Tk()\n",
    "path = StringVar()\n",
    "Label(root,text = \"讀取資料夾:\").grid(row = 0, column = 0)\n",
    "e1=Entry(root, textvariable = path)\n",
    "# e1.insert(0, defaultLoadDir)\n",
    "e1.grid(row = 0, column = 1)\n",
    "Button(root, text = \"讀取資料夾\", command = selectPath).grid(row = 0, column = 2)\n",
    "\n",
    "path2 = StringVar()\n",
    "Label(root,text = \"存放資料夾:\").grid(row = 1, column = 0)\n",
    "e3=Entry(root, textvariable = path2)\n",
    "# e3.insert(0, defaultSaveDir)\n",
    "e3.grid(row = 1, column = 1)\n",
    "\n",
    "Button(root, text = \"存放資料夾\", command = selectPath2).grid(row = 1, column = 2)\n",
    "\n",
    "Label(root, text=\"自然人憑證PIN碼\").grid(row=2, column = 0)\n",
    "e2 = Entry(root)\n",
    "e2.grid(row=2, column=1)\n",
    "# e1.insert(10,\"Miller\") #輸入預設值\n",
    "Button(root, text='加退調保開始', command=doAddPopChangeAssure).grid(row=3, column=1, pady=4)\n",
    "root.mainloop()"
   ]
  },
  {
   "cell_type": "code",
   "execution_count": 4,
   "metadata": {},
   "outputs": [],
   "source": [
    "dataDir=\"Y:/1819/機器人上傳區\""
   ]
  },
  {
   "cell_type": "code",
   "execution_count": 9,
   "metadata": {},
   "outputs": [
    {
     "data": {
      "text/plain": [
       "['Y:/1819/機器人上傳區/1070714/10210_退1.xls']"
      ]
     },
     "execution_count": 9,
     "metadata": {},
     "output_type": "execute_result"
    }
   ],
   "source": [
    "[(i[0]+r\"/\"+j).replace(\"\\\\\",\"/\") for i in os.walk(dataDir) for j in i[2] if 'xls' in j]"
   ]
  },
  {
   "cell_type": "code",
   "execution_count": 8,
   "metadata": {},
   "outputs": [
    {
     "name": "stdout",
     "output_type": "stream",
     "text": [
      "('Y:/1819/機器人上傳區', ['1070714'], ['Thumbs.db'])\n",
      "('Y:/1819/機器人上傳區\\\\1070714', [], ['10210_退1.xls'])\n"
     ]
    }
   ],
   "source": [
    "for i in os.walk(dataDir):\n",
    "    print(i)"
   ]
  },
  {
   "cell_type": "code",
   "execution_count": null,
   "metadata": {
    "collapsed": true
   },
   "outputs": [],
   "source": []
  }
 ],
 "metadata": {
  "kernelspec": {
   "display_name": "Python 3",
   "language": "python",
   "name": "python3"
  },
  "language_info": {
   "codemirror_mode": {
    "name": "ipython",
    "version": 3
   },
   "file_extension": ".py",
   "mimetype": "text/x-python",
   "name": "python",
   "nbconvert_exporter": "python",
   "pygments_lexer": "ipython3",
   "version": "3.6.4"
  }
 },
 "nbformat": 4,
 "nbformat_minor": 2
}
