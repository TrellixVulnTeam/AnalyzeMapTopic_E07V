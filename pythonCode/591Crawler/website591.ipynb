{
 "cells": [
  {
   "cell_type": "code",
   "execution_count": 330,
   "metadata": {
    "collapsed": true
   },
   "outputs": [],
   "source": [
    "from selenium import webdriver"
   ]
  },
  {
   "cell_type": "code",
   "execution_count": 331,
   "metadata": {
    "collapsed": true
   },
   "outputs": [],
   "source": [
    "from bs4 import BeautifulSoup as bs"
   ]
  },
  {
   "cell_type": "code",
   "execution_count": 332,
   "metadata": {
    "collapsed": true
   },
   "outputs": [],
   "source": [
    "browser = webdriver.Chrome(executable_path='D:\\Driver\\chromedriver.exe')"
   ]
  },
  {
   "cell_type": "code",
   "execution_count": 333,
   "metadata": {
    "collapsed": true
   },
   "outputs": [],
   "source": [
    "browser.get('https://business.591.com.tw/?type=1&kind=5&businessSort=1')\n",
    "import time \n",
    "time.sleep(2)"
   ]
  },
  {
   "cell_type": "code",
   "execution_count": 334,
   "metadata": {
    "collapsed": true
   },
   "outputs": [],
   "source": [
    "browser.find_element_by_class_name(\"accreditPop\").find_element_by_css_selector(\"a\").click()"
   ]
  },
  {
   "cell_type": "code",
   "execution_count": 335,
   "metadata": {
    "collapsed": true
   },
   "outputs": [],
   "source": [
    "browser.find_element_by_class_name(\"fa-angle-down\").click()"
   ]
  },
  {
   "cell_type": "code",
   "execution_count": 336,
   "metadata": {
    "collapsed": true
   },
   "outputs": [],
   "source": [
    "CityList=browser.find_element_by_id(\"optionBox\").find_elements_by_class_name(\"city-li\")\n",
    "url591List=set()"
   ]
  },
  {
   "cell_type": "code",
   "execution_count": 337,
   "metadata": {},
   "outputs": [
    {
     "ename": "KeyboardInterrupt",
     "evalue": "",
     "output_type": "error",
     "traceback": [
      "\u001b[1;31m---------------------------------------------------------------------------\u001b[0m",
      "\u001b[1;31mKeyboardInterrupt\u001b[0m                         Traceback (most recent call last)",
      "\u001b[1;32m<ipython-input-337-5eecd51737cd>\u001b[0m in \u001b[0;36m<module>\u001b[1;34m()\u001b[0m\n\u001b[0;32m     23\u001b[0m                 \u001b[0mtime\u001b[0m\u001b[1;33m.\u001b[0m\u001b[0msleep\u001b[0m\u001b[1;33m(\u001b[0m\u001b[1;36m0.5\u001b[0m\u001b[1;33m)\u001b[0m\u001b[1;33m\u001b[0m\u001b[0m\n\u001b[0;32m     24\u001b[0m \u001b[1;33m\u001b[0m\u001b[0m\n\u001b[1;32m---> 25\u001b[1;33m         \u001b[0mtime\u001b[0m\u001b[1;33m.\u001b[0m\u001b[0msleep\u001b[0m\u001b[1;33m(\u001b[0m\u001b[1;36m1\u001b[0m\u001b[1;33m)\u001b[0m\u001b[1;33m\u001b[0m\u001b[0m\n\u001b[0m\u001b[0;32m     26\u001b[0m     \u001b[0mbrowser\u001b[0m\u001b[1;33m.\u001b[0m\u001b[0mfind_element_by_class_name\u001b[0m\u001b[1;33m(\u001b[0m\u001b[1;34m\"fa-angle-down\"\u001b[0m\u001b[1;33m)\u001b[0m\u001b[1;33m.\u001b[0m\u001b[0mclick\u001b[0m\u001b[1;33m(\u001b[0m\u001b[1;33m)\u001b[0m\u001b[1;33m\u001b[0m\u001b[0m\n\u001b[0;32m     27\u001b[0m     \u001b[0mtime\u001b[0m\u001b[1;33m.\u001b[0m\u001b[0msleep\u001b[0m\u001b[1;33m(\u001b[0m\u001b[1;36m1\u001b[0m\u001b[1;33m)\u001b[0m\u001b[1;33m\u001b[0m\u001b[0m\n",
      "\u001b[1;31mKeyboardInterrupt\u001b[0m: "
     ]
    }
   ],
   "source": [
    "for i in range(len(CityList)):\n",
    "    browser.find_element_by_id(\"optionBox\").find_elements_by_class_name(\"city-li\")[i].click()\n",
    "    time.sleep(2)\n",
    "    soup=bs(browser.page_source,\"lxml\")\n",
    "    try:\n",
    "        allpage=int(soup.select('.pageBar > a')[1]['data-total'])//30+1\n",
    "    except:\n",
    "        allpage=1\n",
    "    pageNo=1\n",
    "    while pageNo<=allpage:\n",
    "        url591List.update([\"https:\"+i['href'].strip() for i in soup.select(\"#content\")[0].select(\".infoContent > h3 > a\")])\n",
    "        pageNo+=1\n",
    "        soup=bs(browser.page_source,\"lxml\")\n",
    "        time.sleep(0.5)\n",
    "        x=0\n",
    "        s=0\n",
    "        while x==0 and s<10:\n",
    "            try:\n",
    "                browser.find_element_by_link_text('下一頁').click()\n",
    "                x=1\n",
    "            except:\n",
    "                s+=0.5\n",
    "                time.sleep(0.5)\n",
    "        \n",
    "        time.sleep(1)\n",
    "    browser.find_element_by_class_name(\"fa-angle-down\").click()\n",
    "    time.sleep(1)"
   ]
  },
  {
   "cell_type": "code",
   "execution_count": 299,
   "metadata": {},
   "outputs": [
    {
     "data": {
      "text/plain": [
       "7697"
      ]
     },
     "execution_count": 299,
     "metadata": {},
     "output_type": "execute_result"
    }
   ],
   "source": [
    "len(url591List)"
   ]
  },
  {
   "cell_type": "code",
   "execution_count": 302,
   "metadata": {
    "collapsed": true
   },
   "outputs": [],
   "source": [
    "import pymongo\n",
    "client = pymongo.mongo_client.MongoClient(\"localhost\", 27017, username='j122085', password='850605')\n",
    "# collection = client.rawData.wowprimeipeen\n",
    "collection = client.rawData.websites591"
   ]
  },
  {
   "cell_type": "code",
   "execution_count": 328,
   "metadata": {},
   "outputs": [
    {
     "data": {
      "text/plain": [
       "<pymongo.results.InsertOneResult at 0x94b1488>"
      ]
     },
     "execution_count": 328,
     "metadata": {},
     "output_type": "execute_result"
    }
   ],
   "source": [
    "collection.drop()\n",
    "collection.insert_one({\"urls\":list(url591List)})"
   ]
  },
  {
   "cell_type": "code",
   "execution_count": 324,
   "metadata": {
    "collapsed": true
   },
   "outputs": [],
   "source": [
    "client.close()"
   ]
  },
  {
   "cell_type": "code",
   "execution_count": null,
   "metadata": {
    "collapsed": true
   },
   "outputs": [],
   "source": []
  },
  {
   "cell_type": "markdown",
   "metadata": {},
   "source": [
    "# summary"
   ]
  },
  {
   "cell_type": "code",
   "execution_count": 381,
   "metadata": {},
   "outputs": [
    {
     "name": "stdout",
     "output_type": "stream",
     "text": [
      "第1個城市第2頁\n",
      "第1個城市第3頁\n",
      "第1個城市第4頁\n",
      "第1個城市第5頁\n",
      "第1個城市第6頁\n",
      "第1個城市第7頁\n"
     ]
    },
    {
     "ename": "KeyboardInterrupt",
     "evalue": "",
     "output_type": "error",
     "traceback": [
      "\u001b[1;31m---------------------------------------------------------------------------\u001b[0m",
      "\u001b[1;31mKeyboardInterrupt\u001b[0m                         Traceback (most recent call last)",
      "\u001b[1;32m<ipython-input-381-a34fae21d9ee>\u001b[0m in \u001b[0;36m<module>\u001b[1;34m()\u001b[0m\n\u001b[0;32m     72\u001b[0m                     \u001b[0mtime\u001b[0m\u001b[1;33m.\u001b[0m\u001b[0msleep\u001b[0m\u001b[1;33m(\u001b[0m\u001b[1;36m0.5\u001b[0m\u001b[1;33m)\u001b[0m\u001b[1;33m\u001b[0m\u001b[0m\n\u001b[0;32m     73\u001b[0m \u001b[1;33m\u001b[0m\u001b[0m\n\u001b[1;32m---> 74\u001b[1;33m             \u001b[0mtime\u001b[0m\u001b[1;33m.\u001b[0m\u001b[0msleep\u001b[0m\u001b[1;33m(\u001b[0m\u001b[1;36m4\u001b[0m\u001b[1;33m)\u001b[0m\u001b[1;33m\u001b[0m\u001b[0m\n\u001b[0m\u001b[0;32m     75\u001b[0m         \u001b[0mbrowser\u001b[0m\u001b[1;33m.\u001b[0m\u001b[0mfind_element_by_class_name\u001b[0m\u001b[1;33m(\u001b[0m\u001b[1;34m\"fa-angle-down\"\u001b[0m\u001b[1;33m)\u001b[0m\u001b[1;33m.\u001b[0m\u001b[0mclick\u001b[0m\u001b[1;33m(\u001b[0m\u001b[1;33m)\u001b[0m\u001b[1;33m\u001b[0m\u001b[0m\n\u001b[0;32m     76\u001b[0m         \u001b[0mtime\u001b[0m\u001b[1;33m.\u001b[0m\u001b[0msleep\u001b[0m\u001b[1;33m(\u001b[0m\u001b[1;36m2\u001b[0m\u001b[1;33m)\u001b[0m\u001b[1;33m\u001b[0m\u001b[0m\n",
      "\u001b[1;31mKeyboardInterrupt\u001b[0m: "
     ]
    }
   ],
   "source": [
    "from selenium import webdriver\n",
    "from bs4 import BeautifulSoup as bs\n",
    "import time \n",
    "import sys\n",
    "from email.mime.text import MIMEText\n",
    "from email.mime.multipart import MIMEMultipart\n",
    "from email.message import EmailMessage\n",
    "import smtplib\n",
    "import pymongo\n",
    "\n",
    "\n",
    "def mailTo(title,mailAdds,message,whoSend='Crawler591Web'):\n",
    "    msg = MIMEMultipart()    \n",
    "    sender = whoSend\n",
    "    subject = title\n",
    "    body = message\n",
    "    msg['From'] = sender\n",
    "    msg['To'] = ','.join(mailAdds)\n",
    "    msg['Subject'] = subject\n",
    "    msg.attach(MIMEText(body, 'plain'))\n",
    "    text=msg.as_string()\n",
    "    #print text\n",
    "    # Send the message via our SMTP server\n",
    "    s = smtplib.SMTP('192.168.2.1',25)\n",
    "    s.sendmail(sender,mailAdds, text)\n",
    "    s.quit()  \n",
    "\n",
    "mailTo(\"Crawler591WebBegin\",[\"andy.yuan@wowprime.com\"],\"go\")\n",
    "\n",
    "try:\n",
    "    b=time.time()\n",
    "\n",
    "    browser = webdriver.Chrome(executable_path='D:\\Driver\\chromedriver.exe')\n",
    "    time.sleep(2)\n",
    "\n",
    "    browser.get('https://business.591.com.tw/?type=1&kind=5&businessSort=1')\n",
    "\n",
    "    time.sleep(4)\n",
    "\n",
    "    x=browser.find_element_by_class_name(\"accreditPop\").find_element_by_css_selector(\"a\").click()\n",
    "\n",
    "    browser.find_element_by_class_name(\"fa-angle-down\").click()\n",
    "\n",
    "    CityList=browser.find_element_by_id(\"optionBox\").find_elements_by_class_name(\"city-li\")\n",
    "    url591List=set()\n",
    "    \n",
    "    cityN=0\n",
    "    for i in range(len(CityList)):\n",
    "        cityN+=1\n",
    "        browser.find_element_by_id(\"optionBox\").find_elements_by_class_name(\"city-li\")[i].click()\n",
    "        time.sleep(3)\n",
    "        soup=bs(browser.page_source,\"lxml\")\n",
    "        try:\n",
    "            allpage=int(soup.select('.pageBar > a')[1]['data-total'])//30+1\n",
    "        except:\n",
    "            allpage=1\n",
    "        pageNo=1\n",
    "        while pageNo<=allpage:\n",
    "            soup=bs(browser.page_source,\"lxml\")\n",
    "            url591List.update([\"https:\"+i['href'].strip() for i in soup.select(\"#content\")[0].select(\".infoContent > h3 > a\")])\n",
    "            print(\"已抓取第{}個城市第{}頁網頁\".format(cityN,pageNo))\n",
    "            pageNo+=1\n",
    "            time.sleep(0.5)\n",
    "            x=0\n",
    "            s=0\n",
    "            while x==0 and s<10:\n",
    "                try:\n",
    "                    browser.find_element_by_link_text('下一頁').click()\n",
    "                    x=1\n",
    "                except:\n",
    "                    s+=0.5\n",
    "                    time.sleep(0.5)\n",
    "\n",
    "            time.sleep(4)\n",
    "        browser.find_element_by_class_name(\"fa-angle-down\").click()\n",
    "        time.sleep(2)\n",
    "    \n",
    "    browser.close()\n",
    "    client = pymongo.mongo_client.MongoClient(\"localhost\", 27017, username='j122085', password='850605')\n",
    "    # collection = client.rawData.wowprimeipeen\n",
    "    collection = client.rawData.websites591\n",
    "    collection.drop()\n",
    "    collection.insert_one({\"urls\":list(url591List)})\n",
    "    client.close()\n",
    "    e=time.time()\n",
    "    print(int(e-b))\n",
    "    mailTo(\"Crawler591WebReport\",[\"andy.yuan@wowprime.com\"],\"完成{}筆，耗時{}秒\".format(len(url591List),int(e-b)))\n",
    "except Exception as er:\n",
    "    errorstr=\"出錯\"+str(er)+\"出錯位置:\"+str(sys.exc_info()[2].tb_lineno)\n",
    "    mailTo(\"Crawler591Web_error\",[\"andy.yuan@wowprime.com\"],errorstr)"
   ]
  },
  {
   "cell_type": "markdown",
   "metadata": {},
   "source": [
    "# linux ver"
   ]
  },
  {
   "cell_type": "code",
   "execution_count": 384,
   "metadata": {},
   "outputs": [
    {
     "name": "stdout",
     "output_type": "stream",
     "text": [
      "已抓取第1個城市第1頁網頁\n",
      "已抓取第1個城市第2頁網頁\n",
      "已抓取第1個城市第3頁網頁\n",
      "已抓取第1個城市第4頁網頁\n",
      "已抓取第1個城市第5頁網頁\n",
      "已抓取第1個城市第6頁網頁\n",
      "已抓取第1個城市第7頁網頁\n"
     ]
    }
   ],
   "source": [
    "#################try linux code\n",
    "\n",
    "\n",
    "from selenium import webdriver\n",
    "from selenium.webdriver.chrome.options import Options\n",
    "from bs4 import BeautifulSoup as bs\n",
    "import time \n",
    "import sys\n",
    "from email.mime.text import MIMEText\n",
    "from email.mime.multipart import MIMEMultipart\n",
    "from email.message import EmailMessage\n",
    "import smtplib\n",
    "import pymongo\n",
    "\n",
    "\n",
    "def mailTo(title,mailAdds,message,whoSend='Crawler591Web'):\n",
    "    msg = MIMEMultipart()    \n",
    "    sender = whoSend\n",
    "    subject = title\n",
    "    body = message\n",
    "    msg['From'] = sender\n",
    "    msg['To'] = ','.join(mailAdds)\n",
    "    msg['Subject'] = subject\n",
    "    msg.attach(MIMEText(body, 'plain'))\n",
    "    text=msg.as_string()\n",
    "    #print text\n",
    "    # Send the message via our SMTP server\n",
    "    s = smtplib.SMTP('192.168.2.1',25)\n",
    "    s.sendmail(sender,mailAdds, text)\n",
    "    s.quit()  \n",
    "\n",
    "mailTo(\"Crawler591WebBegin\",[\"andy.yuan@wowprime.com\"],\"go\")\n",
    "\n",
    "try:\n",
    "    b=time.time()\n",
    "    ##############linux系列用\n",
    "    options = Options()\n",
    "    options.add_argument(\"--headless\")\n",
    "    options.add_argument(\"--no-sandbox\")\n",
    "    options.add_argument(\"start-maximized\")\n",
    "    options.add_argument(\"disable-infobars\")\n",
    "    options.add_argument(\"--disable-extensions\")\n",
    "    browser = webdriver.Chrome(chrome_options=options, executable_path=r'D:\\Driver\\chromedriver.exe')\n",
    "    ##############linux系列用\n",
    "\n",
    "    # browser = webdriver.Chrome(executable_path=r'/root/MapProject/AnalyzeMapTopic/pythonCode/chromedriver')\n",
    "    time.sleep(2)\n",
    "\n",
    "    browser.get('https://business.591.com.tw/?type=1&kind=5&businessSort=1')\n",
    "\n",
    "    time.sleep(5)\n",
    "\n",
    "#     x=browser.find_element_by_class_name(\"accreditPop\").find_element_by_css_selector(\"a\").click()\n",
    "\n",
    "    browser.find_element_by_class_name(\"fa-angle-down\").click()\n",
    "\n",
    "    CityList=browser.find_element_by_id(\"optionBox\").find_elements_by_class_name(\"city-li\")\n",
    "    url591List=set()\n",
    "    \n",
    "    cityN=0\n",
    "    for i in range(len(CityList)):\n",
    "        cityN+=1\n",
    "        browser.find_element_by_id(\"optionBox\").find_elements_by_class_name(\"city-li\")[i].click()\n",
    "        time.sleep(3)\n",
    "        soup=bs(browser.page_source,\"lxml\")\n",
    "        try:\n",
    "            allpage=int(soup.select('.pageBar > a')[1]['data-total'])//30+1\n",
    "        except:\n",
    "            allpage=1\n",
    "        pageNo=1\n",
    "        while pageNo<=allpage:\n",
    "            soup=bs(browser.page_source,\"lxml\")\n",
    "            url591List.update([\"https:\"+i['href'].strip() for i in soup.select(\"#content\")[0].select(\".infoContent > h3 > a\")])\n",
    "            print(\"已抓取第{}個城市第{}頁網頁\".format(cityN,pageNo))\n",
    "            pageNo+=1\n",
    "            time.sleep(0.5)\n",
    "            x=0\n",
    "            s=0\n",
    "            while x==0 and s<10:\n",
    "                try:\n",
    "                    browser.find_element_by_link_text('下一頁').click()\n",
    "                    x=1\n",
    "                except:\n",
    "                    s+=0.5\n",
    "                    time.sleep(0.5)\n",
    "\n",
    "            time.sleep(4)\n",
    "        browser.find_element_by_class_name(\"fa-angle-down\").click()\n",
    "        time.sleep(2)\n",
    "    \n",
    "    browser.close()\n",
    "    client = pymongo.mongo_client.MongoClient(\"localhost\", 27017, username='j122085', password='850605')\n",
    "    # collection = client.rawData.wowprimeipeen\n",
    "    collection = client.rawData.websites591\n",
    "    collection.drop()\n",
    "    collection.insert_one({\"urls\":list(url591List)})\n",
    "    client.close()\n",
    "    e=time.time()\n",
    "    print(int(e-b))\n",
    "    mailTo(\"Crawler591WebReport\",[\"andy.yuan@wowprime.com\"],\"完成{}筆，耗時{}秒\".format(len(url591List),int(e-b)))\n",
    "except Exception as er:\n",
    "    errorstr=\"出錯\"+str(er)+\"出錯位置:\"+str(sys.exc_info()[2].tb_lineno)\n",
    "    mailTo(\"Crawler591Web_error\",[\"andy.yuan@wowprime.com\"],errorstr)\n"
   ]
  },
  {
   "cell_type": "code",
   "execution_count": null,
   "metadata": {
    "collapsed": true
   },
   "outputs": [],
   "source": []
  },
  {
   "cell_type": "code",
   "execution_count": null,
   "metadata": {
    "collapsed": true
   },
   "outputs": [],
   "source": []
  },
  {
   "cell_type": "code",
   "execution_count": null,
   "metadata": {
    "collapsed": true
   },
   "outputs": [],
   "source": []
  },
  {
   "cell_type": "code",
   "execution_count": 2,
   "metadata": {},
   "outputs": [],
   "source": [
    "import pymongo\n",
    "client = pymongo.mongo_client.MongoClient(\"192.168.1.113\", 27017, username='root', password='850605')\n",
    "# collection = client.rawData.wowprimeipeen\n",
    "# collection = client.rawData.websites591"
   ]
  },
  {
   "cell_type": "code",
   "execution_count": 8,
   "metadata": {},
   "outputs": [],
   "source": [
    "co=client.rawData.bigStyleCount"
   ]
  },
  {
   "cell_type": "code",
   "execution_count": 20,
   "metadata": {},
   "outputs": [
    {
     "data": {
      "text/plain": [
       "110771"
      ]
     },
     "execution_count": 20,
     "metadata": {},
     "output_type": "execute_result"
    }
   ],
   "source": [
    "import pandas as pd\n",
    "sum([i for i in list(co.find())[3].values() if type(i)==int])"
   ]
  },
  {
   "cell_type": "code",
   "execution_count": null,
   "metadata": {
    "collapsed": true
   },
   "outputs": [],
   "source": []
  }
 ],
 "metadata": {
  "kernelspec": {
   "display_name": "Python 3",
   "language": "python",
   "name": "python3"
  },
  "language_info": {
   "codemirror_mode": {
    "name": "ipython",
    "version": 3
   },
   "file_extension": ".py",
   "mimetype": "text/x-python",
   "name": "python",
   "nbconvert_exporter": "python",
   "pygments_lexer": "ipython3",
   "version": "3.6.4"
  }
 },
 "nbformat": 4,
 "nbformat_minor": 2
}
