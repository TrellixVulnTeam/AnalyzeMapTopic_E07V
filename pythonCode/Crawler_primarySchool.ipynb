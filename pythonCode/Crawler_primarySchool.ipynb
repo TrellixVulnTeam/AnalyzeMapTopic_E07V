{
 "cells": [
  {
   "cell_type": "code",
   "execution_count": 4,
   "metadata": {
    "collapsed": true
   },
   "outputs": [],
   "source": [
    "#https://depart.moe.edu.tw/ED4500/News.aspx?n=5A930C32CC6C3818&sms=91B3AAE8C6388B96\n",
    "import requests\n",
    "res=requests.get(\"http://stats.moe.gov.tw/files/school/106/e1_new.csv\")"
   ]
  },
  {
   "cell_type": "code",
   "execution_count": 5,
   "metadata": {},
   "outputs": [],
   "source": [
    "text=res.text.replace(\"\\r\",\"\")"
   ]
  },
  {
   "cell_type": "code",
   "execution_count": 6,
   "metadata": {},
   "outputs": [],
   "source": [
    "cols=text.split(\"\\n\")[0].split(\",\")\n",
    "\n",
    "datas=[]\n",
    "for i in text.split(\"\\n\")[1:]:\n",
    "    data={}\n",
    "    for k,v in zip(cols,i.split(\",\")):\n",
    "        data[k]=v\n",
    "        datas.append(data)"
   ]
  },
  {
   "cell_type": "code",
   "execution_count": 7,
   "metadata": {
    "collapsed": true
   },
   "outputs": [],
   "source": [
    "res=requests.get(\"http://stats.moe.gov.tw/files/school/106/j1_new.csv\")\n",
    "text=res.text.replace(\"\\r\",\"\")\n",
    "cols=text.split(\"\\n\")[0].split(\",\")\n",
    "for i in text.split(\"\\n\")[1:]:\n",
    "    data={}\n",
    "    for k,v in zip(cols,i.split(\",\")):\n",
    "        data[k]=v\n",
    "        datas.append(data)"
   ]
  },
  {
   "cell_type": "code",
   "execution_count": 8,
   "metadata": {},
   "outputs": [],
   "source": [
    "datas=[i for i in datas if '學校名稱' in i and i['學校名稱']!=\"\"]"
   ]
  },
  {
   "cell_type": "code",
   "execution_count": 9,
   "metadata": {},
   "outputs": [],
   "source": [
    "import re\n",
    "for dien in datas:\n",
    "    dien['name']=dien.get('學校名稱',\"\")\n",
    "    dien['address']=dien.get('地址',\"\")\n",
    "    try:\n",
    "        dien[\"bigadd\"] = re.findall(\"(\\w\\w[市|縣])(\\w\\w?\\w?[區|市|鎮|鄉])\",dien['address'])[0][0]\n",
    "        dien[\"smalladd\"] = re.findall(\"(\\w\\w[市|縣])(\\w\\w?\\w?[區|市|鎮|鄉])\",dien['address'])[0][1]\n",
    "    except:\n",
    "        dien[\"bigadd\"] = \"\"\n",
    "        dien[\"smalladd\"] = \"\""
   ]
  },
  {
   "cell_type": "code",
   "execution_count": 21,
   "metadata": {
    "scrolled": true
   },
   "outputs": [
    {
     "name": "stdout",
     "output_type": "stream",
     "text": [
      "[950]臺東縣臺東市四維路一段400號 no latlng\n",
      "[950]臺東縣臺東市四維路一段400號 no latlng\n",
      "[950]臺東縣臺東市四維路一段400號 no latlng\n",
      "[950]臺東縣臺東市四維路一段400號 no latlng\n",
      "[950]臺東縣臺東市四維路一段400號 no latlng\n",
      "[950]臺東縣臺東市四維路一段400號 no latlng\n",
      "[950]臺東縣臺東市四維路一段400號 no latlng\n",
      "[950]臺東縣臺東市中興路二段150巷29弄1號 no latlng\n",
      "[950]臺東縣臺東市中興路二段150巷29弄1號 no latlng\n",
      "[950]臺東縣臺東市中興路二段150巷29弄1號 no latlng\n",
      "[950]臺東縣臺東市中興路二段150巷29弄1號 no latlng\n",
      "[950]臺東縣臺東市中興路二段150巷29弄1號 no latlng\n",
      "[950]臺東縣臺東市中興路二段150巷29弄1號 no latlng\n",
      "[950]臺東縣臺東市中興路二段150巷29弄1號 no latlng\n",
      "[950]臺東縣臺東市四維路二段23號 no latlng\n",
      "[950]臺東縣臺東市四維路二段23號 no latlng\n",
      "[950]臺東縣臺東市四維路二段23號 no latlng\n",
      "[950]臺東縣臺東市四維路二段23號 no latlng\n",
      "[950]臺東縣臺東市四維路二段23號 no latlng\n",
      "[950]臺東縣臺東市四維路二段23號 no latlng\n",
      "[950]臺東縣臺東市四維路二段23號 no latlng\n",
      "[950]臺東縣臺東市中華路三段80號 no latlng\n",
      "[950]臺東縣臺東市中華路三段80號 no latlng\n",
      "[950]臺東縣臺東市中華路三段80號 no latlng\n",
      "[950]臺東縣臺東市中華路三段80號 no latlng\n",
      "[950]臺東縣臺東市中華路三段80號 no latlng\n",
      "[950]臺東縣臺東市中華路三段80號 no latlng\n",
      "[950]臺東縣臺東市中華路三段80號 no latlng\n",
      "[950]臺東縣臺東市山西路一段256號 no latlng\n",
      "[950]臺東縣臺東市山西路一段256號 no latlng\n",
      "[950]臺東縣臺東市山西路一段256號 no latlng\n",
      "[950]臺東縣臺東市山西路一段256號 no latlng\n",
      "[950]臺東縣臺東市山西路一段256號 no latlng\n",
      "[950]臺東縣臺東市山西路一段256號 no latlng\n",
      "[950]臺東縣臺東市山西路一段256號 no latlng\n",
      "[950]臺東縣臺東市中興路三段320號 no latlng\n",
      "[950]臺東縣臺東市中興路三段320號 no latlng\n",
      "[950]臺東縣臺東市中興路三段320號 no latlng\n",
      "[950]臺東縣臺東市中興路三段320號 no latlng\n",
      "[950]臺東縣臺東市中興路三段320號 no latlng\n",
      "[950]臺東縣臺東市中興路三段320號 no latlng\n",
      "[950]臺東縣臺東市中興路三段320號 no latlng\n",
      "[950]臺東縣臺東市知本路三段107號 no latlng\n",
      "[950]臺東縣臺東市知本路三段107號 no latlng\n",
      "[950]臺東縣臺東市知本路三段107號 no latlng\n",
      "[950]臺東縣臺東市知本路三段107號 no latlng\n",
      "[950]臺東縣臺東市知本路三段107號 no latlng\n",
      "[950]臺東縣臺東市知本路三段107號 no latlng\n",
      "[950]臺東縣臺東市知本路三段107號 no latlng\n",
      "[950]臺東縣臺東市新園路88號 no latlng\n",
      "[950]臺東縣臺東市新園路88號 no latlng\n",
      "[950]臺東縣臺東市新園路88號 no latlng\n",
      "[950]臺東縣臺東市新園路88號 no latlng\n",
      "[950]臺東縣臺東市新園路88號 no latlng\n",
      "[950]臺東縣臺東市新園路88號 no latlng\n",
      "[950]臺東縣臺東市新園路88號 no latlng\n",
      "[966]臺東縣達仁鄉土坂村10號 no latlng\n",
      "[966]臺東縣達仁鄉土坂村10號 no latlng\n",
      "[966]臺東縣達仁鄉土坂村10號 no latlng\n",
      "[966]臺東縣達仁鄉土坂村10號 no latlng\n",
      "[966]臺東縣達仁鄉土坂村10號 no latlng\n",
      "[966]臺東縣達仁鄉土坂村10號 no latlng\n",
      "[966]臺東縣達仁鄉土坂村10號 no latlng\n",
      "[966]臺東縣達仁鄉台坂村十鄰59號之1 no latlng\n",
      "[966]臺東縣達仁鄉台坂村十鄰59號之1 no latlng\n",
      "[966]臺東縣達仁鄉台坂村十鄰59號之1 no latlng\n",
      "[966]臺東縣達仁鄉台坂村十鄰59號之1 no latlng\n",
      "[966]臺東縣達仁鄉台坂村十鄰59號之1 no latlng\n",
      "[966]臺東縣達仁鄉台坂村十鄰59號之1 no latlng\n",
      "[966]臺東縣達仁鄉台坂村十鄰59號之1 no latlng\n",
      "[957]臺東縣海端鄉海端村七鄰5號 no latlng\n",
      "[957]臺東縣海端鄉海端村七鄰5號 no latlng\n",
      "[957]臺東縣海端鄉海端村七鄰5號 no latlng\n",
      "[957]臺東縣海端鄉海端村七鄰5號 no latlng\n",
      "[957]臺東縣海端鄉海端村七鄰5號 no latlng\n",
      "[957]臺東縣海端鄉海端村七鄰5號 no latlng\n",
      "[957]臺東縣海端鄉海端村七鄰5號 no latlng\n",
      "[950]臺東縣臺東市四維路一段400號 no latlng\n",
      "[950]臺東縣臺東市四維路一段400號 no latlng\n",
      "[950]臺東縣臺東市四維路一段400號 no latlng\n",
      "[950]臺東縣臺東市四維路一段400號 no latlng\n",
      "[950]臺東縣臺東市四維路一段400號 no latlng\n",
      "[950]臺東縣臺東市四維路一段400號 no latlng\n",
      "[950]臺東縣臺東市四維路一段400號 no latlng\n",
      "[950]臺東縣臺東市中興路二段150巷29弄1號 no latlng\n",
      "[950]臺東縣臺東市中興路二段150巷29弄1號 no latlng\n",
      "[950]臺東縣臺東市中興路二段150巷29弄1號 no latlng\n",
      "[950]臺東縣臺東市中興路二段150巷29弄1號 no latlng\n",
      "[950]臺東縣臺東市中興路二段150巷29弄1號 no latlng\n",
      "[950]臺東縣臺東市中興路二段150巷29弄1號 no latlng\n",
      "[950]臺東縣臺東市中興路二段150巷29弄1號 no latlng\n",
      "[950]臺東縣臺東市四維路二段23號 no latlng\n",
      "[950]臺東縣臺東市四維路二段23號 no latlng\n",
      "[950]臺東縣臺東市四維路二段23號 no latlng\n",
      "[950]臺東縣臺東市四維路二段23號 no latlng\n",
      "[950]臺東縣臺東市四維路二段23號 no latlng\n",
      "[950]臺東縣臺東市四維路二段23號 no latlng\n",
      "[950]臺東縣臺東市四維路二段23號 no latlng\n",
      "[950]臺東縣臺東市中華路三段80號 no latlng\n",
      "[950]臺東縣臺東市中華路三段80號 no latlng\n",
      "[950]臺東縣臺東市中華路三段80號 no latlng\n",
      "[950]臺東縣臺東市中華路三段80號 no latlng\n",
      "[950]臺東縣臺東市中華路三段80號 no latlng\n",
      "[950]臺東縣臺東市中華路三段80號 no latlng\n",
      "[950]臺東縣臺東市中華路三段80號 no latlng\n",
      "[950]臺東縣臺東市山西路一段256號 no latlng\n",
      "[950]臺東縣臺東市山西路一段256號 no latlng\n",
      "[950]臺東縣臺東市山西路一段256號 no latlng\n",
      "[950]臺東縣臺東市山西路一段256號 no latlng\n",
      "[950]臺東縣臺東市山西路一段256號 no latlng\n",
      "[950]臺東縣臺東市山西路一段256號 no latlng\n",
      "[950]臺東縣臺東市山西路一段256號 no latlng\n",
      "[950]臺東縣臺東市中興路三段320號 no latlng\n",
      "[950]臺東縣臺東市中興路三段320號 no latlng\n",
      "[950]臺東縣臺東市中興路三段320號 no latlng\n",
      "[950]臺東縣臺東市中興路三段320號 no latlng\n",
      "[950]臺東縣臺東市中興路三段320號 no latlng\n",
      "[950]臺東縣臺東市中興路三段320號 no latlng\n",
      "[950]臺東縣臺東市中興路三段320號 no latlng\n",
      "[950]臺東縣臺東市知本路三段107號 no latlng\n",
      "[950]臺東縣臺東市知本路三段107號 no latlng\n",
      "[950]臺東縣臺東市知本路三段107號 no latlng\n",
      "[950]臺東縣臺東市知本路三段107號 no latlng\n",
      "[950]臺東縣臺東市知本路三段107號 no latlng\n",
      "[950]臺東縣臺東市知本路三段107號 no latlng\n",
      "[950]臺東縣臺東市知本路三段107號 no latlng\n",
      "[950]臺東縣臺東市新園路88號 no latlng\n",
      "[950]臺東縣臺東市新園路88號 no latlng\n",
      "[950]臺東縣臺東市新園路88號 no latlng\n",
      "[950]臺東縣臺東市新園路88號 no latlng\n",
      "[950]臺東縣臺東市新園路88號 no latlng\n",
      "[950]臺東縣臺東市新園路88號 no latlng\n",
      "[950]臺東縣臺東市新園路88號 no latlng\n",
      "[966]臺東縣達仁鄉土坂村10號 no latlng\n",
      "[966]臺東縣達仁鄉土坂村10號 no latlng\n",
      "[966]臺東縣達仁鄉土坂村10號 no latlng\n",
      "[966]臺東縣達仁鄉土坂村10號 no latlng\n",
      "[966]臺東縣達仁鄉土坂村10號 no latlng\n",
      "[966]臺東縣達仁鄉土坂村10號 no latlng\n",
      "[966]臺東縣達仁鄉土坂村10號 no latlng\n",
      "[966]臺東縣達仁鄉台坂村十鄰59號之1 no latlng\n",
      "[966]臺東縣達仁鄉台坂村十鄰59號之1 no latlng\n",
      "[966]臺東縣達仁鄉台坂村十鄰59號之1 no latlng\n",
      "[966]臺東縣達仁鄉台坂村十鄰59號之1 no latlng\n",
      "[966]臺東縣達仁鄉台坂村十鄰59號之1 no latlng\n",
      "[966]臺東縣達仁鄉台坂村十鄰59號之1 no latlng\n",
      "[966]臺東縣達仁鄉台坂村十鄰59號之1 no latlng\n",
      "[957]臺東縣海端鄉海端村七鄰5號 no latlng\n",
      "[957]臺東縣海端鄉海端村七鄰5號 no latlng\n",
      "[957]臺東縣海端鄉海端村七鄰5號 no latlng\n",
      "[957]臺東縣海端鄉海端村七鄰5號 no latlng\n",
      "[957]臺東縣海端鄉海端村七鄰5號 no latlng\n",
      "[957]臺東縣海端鄉海端村七鄰5號 no latlng\n",
      "[957]臺東縣海端鄉海端村七鄰5號 no latlng\n"
     ]
    }
   ],
   "source": [
    "import geocoder\n",
    "import time\n",
    "for i in range(2):\n",
    "    for i in datas:\n",
    "        try:\n",
    "            if 'lat' not in i:\n",
    "                i['lat'],i['lng']=geocoder.arcgis(i['address'].split(\"]\")[1].split(\"號\")[0].split(\"-\")[0].split(\"、\")[0].split(\"~\")[0]).latlng\n",
    "                print(i['address'],i['lat'],i['lng'])\n",
    "                time.sleep(2)\n",
    "        except:\n",
    "            print(i['address'],\"no latlng\")\n",
    "            pass\n",
    "        \n",
    "\n"
   ]
  },
  {
   "cell_type": "code",
   "execution_count": 22,
   "metadata": {},
   "outputs": [
    {
     "name": "stdout",
     "output_type": "stream",
     "text": [
      "[950]臺東縣臺東市四維路一段400號 22.7565263 121.1579\n",
      "[950]臺東縣臺東市中興路二段150巷29弄1號 22.7673317 121.1293763\n",
      "[950]臺東縣臺東市四維路二段23號 22.762131 121.1515713\n",
      "[950]臺東縣臺東市中華路三段80號 22.7369544 121.1229883\n",
      "[950]臺東縣臺東市山西路一段256號 22.7545152 121.1197238\n",
      "[950]臺東縣臺東市中興路三段320號 22.7710435 121.1111593\n",
      "[950]臺東縣臺東市知本路三段107號 22.706378 121.0543764\n",
      "[950]臺東縣臺東市新園路88號 22.7632177 121.0638415\n",
      "[966]臺東縣達仁鄉土坂村10號 22.453594 120.887349\n",
      "[966]臺東縣達仁鄉台坂村十鄰59號之1 22.4771579 120.9078949\n",
      "[957]臺東縣海端鄉海端村七鄰5號 23.117132 121.1690702\n"
     ]
    }
   ],
   "source": [
    "for i in datas:\n",
    "    try:\n",
    "        if 'lat' not in i:\n",
    "            i['lat'],i['lng']=geocoder.google(i['address'].split(\"]\")[1].split(\"號\")[0].split(\"-\")[0].split(\"、\")[0].split(\"~\")[0]).latlng\n",
    "            print(i['address'],i['lat'],i['lng'])\n",
    "            time.sleep(2)\n",
    "    except:\n",
    "        print(i['address'],\"no latlng\")\n",
    "        pass"
   ]
  },
  {
   "cell_type": "code",
   "execution_count": 27,
   "metadata": {
    "collapsed": true
   },
   "outputs": [],
   "source": [
    "from pymongo import MongoClient,UpdateOne\n",
    "client=MongoClient('192.168.1.113',27017,username='j122085',password=\"850605\")\n",
    "# client=MongoClient('localhost',27017,username='j122085',password=\"850605\")\n",
    "colle=client.rawData.primarySchool\n",
    "ids=[i['name'] for i in datas]\n",
    "operation=[UpdateOne({\"_id\":idn},{\"$set\":data},upsert=True) for idn,data in zip(ids,datas)]\n",
    "colle.bulk_write(operation)\n",
    "client.close()"
   ]
  },
  {
   "cell_type": "code",
   "execution_count": null,
   "metadata": {
    "collapsed": true
   },
   "outputs": [],
   "source": []
  }
 ],
 "metadata": {
  "kernelspec": {
   "display_name": "Python 3",
   "language": "python",
   "name": "python3"
  },
  "language_info": {
   "codemirror_mode": {
    "name": "ipython",
    "version": 3
   },
   "file_extension": ".py",
   "mimetype": "text/x-python",
   "name": "python",
   "nbconvert_exporter": "python",
   "pygments_lexer": "ipython3",
   "version": "3.6.4"
  }
 },
 "nbformat": 4,
 "nbformat_minor": 2
}
